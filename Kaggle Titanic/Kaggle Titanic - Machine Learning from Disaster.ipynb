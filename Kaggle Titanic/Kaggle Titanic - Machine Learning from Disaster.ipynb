{
  "cells": [
    {
      "cell_type": "markdown",
      "metadata": {
        "pycharm": {
          "name": "#%% md\n"
        },
        "id": "Be1-gOuhr3Cu"
      },
      "source": [
        "# **Titanic Survival Prediction**"
      ]
    },
    {
      "cell_type": "markdown",
      "metadata": {
        "id": "_4xNruQNjxJJ",
        "pycharm": {
          "name": "#%% md\n"
        }
      },
      "source": [
        "----------------\n",
        "## **Context** \n",
        "----------------\n",
        "The sinking of the Titanic is one of the most infamous shipwrecks in history.\n",
        "\n",
        "On April 15, 1912, during her maiden voyage, the widely considered “unsinkable” RMS Titanic sank after colliding with an iceberg. Unfortunately, there weren’t enough lifeboats for everyone onboard, resulting in the death of 1502 out of 2224 passengers and crew.\n",
        "\n",
        "While there was some element of luck involved in surviving, it seems some groups of people were more likely to survive than others.\n",
        "\n",
        "------------------\n",
        "## **Objective**\n",
        "------------------\n",
        "\n",
        "The objective of this problem is to build a predictive model that answers the question: “**what sorts of people were more likely to survive?**” using the passenger data (i.e., name, age, gender, socio-economic class, etc.).\n",
        "\n",
        "--------------------------\n",
        "## **Data Dictionary**\n",
        "--------------------------\n",
        "\n",
        "- **survival** - If passenger will survive or not (Yes - 1, No - 0).\n",
        "- **pclass** - Ticket class (1st, 2nd, and 3rd).\n",
        "- **sex** - Sex of the passenger (M / F).\n",
        "- **Age** - Age in years.\n",
        "- **sibsp** - The number of siblings / spouses aboard the Titanic.\n",
        "- **parch** - The number of parents / children aboard the Titanic.\n",
        "- **ticket** - Ticket number.\n",
        "- **fare** - Passenger fare.\n",
        "- **cabin** - Cabin number.\n",
        "- **embarked** - Port of embarkation.\n",
        "\n",
        "Original Dataset: <a href=\"https://www.kaggle.com/c/titanic\">Click Here</a>"
      ]
    },
    {
      "cell_type": "markdown",
      "metadata": {
        "pycharm": {
          "name": "#%% md\n"
        },
        "id": "BlEAzh0Qr3C3"
      },
      "source": [
        "## **Importing necessary libraries**"
      ]
    },
    {
      "cell_type": "code",
      "execution_count": null,
      "metadata": {
        "id": "_1mY5IRGjxJM",
        "pycharm": {
          "name": "#%%\n"
        }
      },
      "outputs": [],
      "source": [
        "# Import necessary libraries\n",
        "import numpy as np\n",
        "\n",
        "import pandas as pd\n",
        "\n",
        "import matplotlib.pyplot as plt\n",
        "\n",
        "plt.style.use('ggplot')\n",
        "\n",
        "import seaborn as sns\n",
        "\n",
        "from sklearn import tree\n",
        "\n",
        "# To ignore the warnings\n",
        "import warnings\n",
        "warnings.filterwarnings('ignore')"
      ]
    },
    {
      "cell_type": "code",
      "execution_count": null,
      "outputs": [],
      "source": [
        "from sklearn import metrics\n",
        "from sklearn.metrics import recall_score, precision_score, accuracy_score\n",
        "def model_performance_classification(model, predictors, target):\n",
        "    \"\"\"\n",
        "    Function to compute different metrics to check classification model performance\n",
        "\n",
        "    model: classifier\n",
        "\n",
        "    predictors: independent variables\n",
        "\n",
        "    target: dependent variable\n",
        "    \"\"\"\n",
        "\n",
        "    # Predicting using the independent variables\n",
        "    pred = model.predict(predictors)\n",
        "\n",
        "    recall = recall_score(target, pred,average = 'macro')                 # To compute recall\n",
        "\n",
        "    precision = precision_score(target, pred, average = 'macro')              # To compute precision\n",
        "\n",
        "    acc = accuracy_score(target, pred)                                 # To compute accuracy score\n",
        "\n",
        "\n",
        "    # Creating a dataframe of metrics\n",
        "\n",
        "    df_perf = pd.DataFrame(\n",
        "        {\n",
        "            \"Precision\":  precision,\n",
        "            \"Recall\":  recall,\n",
        "            \"Accuracy\": acc,\n",
        "        },\n",
        "\n",
        "        index = [0],\n",
        "    )\n",
        "\n",
        "    return df_perf"
      ],
      "metadata": {
        "pycharm": {
          "name": "#%%\n"
        },
        "id": "h1GbZYPvr3C5"
      }
    },
    {
      "cell_type": "markdown",
      "metadata": {
        "pycharm": {
          "name": "#%% md\n"
        },
        "id": "-7pxMzFtr3C6"
      },
      "source": [
        "## **Loading the dataset**"
      ]
    },
    {
      "cell_type": "code",
      "execution_count": null,
      "metadata": {
        "pycharm": {
          "name": "#%%\n"
        },
        "id": "IX2KzFpAr3C8"
      },
      "outputs": [],
      "source": [
        "titanic_df = pd.read_csv(\"train.csv\")"
      ]
    },
    {
      "cell_type": "markdown",
      "metadata": {
        "pycharm": {
          "name": "#%% md\n"
        },
        "id": "cPfiQ_kFr3C-"
      },
      "source": [
        "## **Checking the info of the dataset**"
      ]
    },
    {
      "cell_type": "code",
      "execution_count": null,
      "metadata": {
        "pycharm": {
          "name": "#%%\n"
        },
        "colab": {
          "base_uri": "https://localhost:8080/"
        },
        "id": "0KBBMZU4r3DA",
        "outputId": "a4a3995d-1dc5-41c6-9ca9-f570a6277ee6"
      },
      "outputs": [
        {
          "output_type": "stream",
          "name": "stdout",
          "text": [
            "<class 'pandas.core.frame.DataFrame'>\n",
            "RangeIndex: 891 entries, 0 to 890\n",
            "Data columns (total 12 columns):\n",
            " #   Column       Non-Null Count  Dtype  \n",
            "---  ------       --------------  -----  \n",
            " 0   PassengerId  891 non-null    int64  \n",
            " 1   Survived     891 non-null    int64  \n",
            " 2   Pclass       891 non-null    int64  \n",
            " 3   Name         891 non-null    object \n",
            " 4   Sex          891 non-null    object \n",
            " 5   Age          714 non-null    float64\n",
            " 6   SibSp        891 non-null    int64  \n",
            " 7   Parch        891 non-null    int64  \n",
            " 8   Ticket       891 non-null    object \n",
            " 9   Fare         891 non-null    float64\n",
            " 10  Cabin        204 non-null    object \n",
            " 11  Embarked     889 non-null    object \n",
            "dtypes: float64(2), int64(5), object(5)\n",
            "memory usage: 83.7+ KB\n"
          ]
        }
      ],
      "source": [
        "titanic_df.info()"
      ]
    },
    {
      "cell_type": "markdown",
      "source": [],
      "metadata": {
        "collapsed": false,
        "pycharm": {
          "name": "#%% md\n"
        },
        "id": "kpqhNNP0r3DB"
      }
    },
    {
      "cell_type": "markdown",
      "metadata": {
        "pycharm": {
          "name": "#%% md\n"
        },
        "id": "LGPtw1_mr3DD"
      },
      "source": [
        "**Observations:**\n",
        "\n",
        "- There are **891 rows and 12 columns** in the data.\n",
        "- The columns Age, Cabin, and Embarked have **missing values**.\n",
        "- There are some columns like 'PassengerId', 'Name', 'Ticket', 'Cabin', and 'Fare' (correlates with class) which wouldn't add anything to the model. So we **drop these columns**."
      ]
    },
    {
      "cell_type": "code",
      "execution_count": null,
      "outputs": [
        {
          "output_type": "execute_result",
          "data": {
            "text/plain": [
              "       PassengerId    Survived      Pclass         Age       SibSp  \\\n",
              "count   891.000000  891.000000  891.000000  714.000000  891.000000   \n",
              "mean    446.000000    0.383838    2.308642   29.699118    0.523008   \n",
              "std     257.353842    0.486592    0.836071   14.526497    1.102743   \n",
              "min       1.000000    0.000000    1.000000    0.420000    0.000000   \n",
              "25%     223.500000    0.000000    2.000000   20.125000    0.000000   \n",
              "50%     446.000000    0.000000    3.000000   28.000000    0.000000   \n",
              "75%     668.500000    1.000000    3.000000   38.000000    1.000000   \n",
              "max     891.000000    1.000000    3.000000   80.000000    8.000000   \n",
              "\n",
              "            Parch        Fare  \n",
              "count  891.000000  891.000000  \n",
              "mean     0.381594   32.204208  \n",
              "std      0.806057   49.693429  \n",
              "min      0.000000    0.000000  \n",
              "25%      0.000000    7.910400  \n",
              "50%      0.000000   14.454200  \n",
              "75%      0.000000   31.000000  \n",
              "max      6.000000  512.329200  "
            ],
            "text/html": [
              "\n",
              "  <div id=\"df-1b79c928-f1a7-4d2b-a2ef-3601c41d9588\">\n",
              "    <div class=\"colab-df-container\">\n",
              "      <div>\n",
              "<style scoped>\n",
              "    .dataframe tbody tr th:only-of-type {\n",
              "        vertical-align: middle;\n",
              "    }\n",
              "\n",
              "    .dataframe tbody tr th {\n",
              "        vertical-align: top;\n",
              "    }\n",
              "\n",
              "    .dataframe thead th {\n",
              "        text-align: right;\n",
              "    }\n",
              "</style>\n",
              "<table border=\"1\" class=\"dataframe\">\n",
              "  <thead>\n",
              "    <tr style=\"text-align: right;\">\n",
              "      <th></th>\n",
              "      <th>PassengerId</th>\n",
              "      <th>Survived</th>\n",
              "      <th>Pclass</th>\n",
              "      <th>Age</th>\n",
              "      <th>SibSp</th>\n",
              "      <th>Parch</th>\n",
              "      <th>Fare</th>\n",
              "    </tr>\n",
              "  </thead>\n",
              "  <tbody>\n",
              "    <tr>\n",
              "      <th>count</th>\n",
              "      <td>891.000000</td>\n",
              "      <td>891.000000</td>\n",
              "      <td>891.000000</td>\n",
              "      <td>714.000000</td>\n",
              "      <td>891.000000</td>\n",
              "      <td>891.000000</td>\n",
              "      <td>891.000000</td>\n",
              "    </tr>\n",
              "    <tr>\n",
              "      <th>mean</th>\n",
              "      <td>446.000000</td>\n",
              "      <td>0.383838</td>\n",
              "      <td>2.308642</td>\n",
              "      <td>29.699118</td>\n",
              "      <td>0.523008</td>\n",
              "      <td>0.381594</td>\n",
              "      <td>32.204208</td>\n",
              "    </tr>\n",
              "    <tr>\n",
              "      <th>std</th>\n",
              "      <td>257.353842</td>\n",
              "      <td>0.486592</td>\n",
              "      <td>0.836071</td>\n",
              "      <td>14.526497</td>\n",
              "      <td>1.102743</td>\n",
              "      <td>0.806057</td>\n",
              "      <td>49.693429</td>\n",
              "    </tr>\n",
              "    <tr>\n",
              "      <th>min</th>\n",
              "      <td>1.000000</td>\n",
              "      <td>0.000000</td>\n",
              "      <td>1.000000</td>\n",
              "      <td>0.420000</td>\n",
              "      <td>0.000000</td>\n",
              "      <td>0.000000</td>\n",
              "      <td>0.000000</td>\n",
              "    </tr>\n",
              "    <tr>\n",
              "      <th>25%</th>\n",
              "      <td>223.500000</td>\n",
              "      <td>0.000000</td>\n",
              "      <td>2.000000</td>\n",
              "      <td>20.125000</td>\n",
              "      <td>0.000000</td>\n",
              "      <td>0.000000</td>\n",
              "      <td>7.910400</td>\n",
              "    </tr>\n",
              "    <tr>\n",
              "      <th>50%</th>\n",
              "      <td>446.000000</td>\n",
              "      <td>0.000000</td>\n",
              "      <td>3.000000</td>\n",
              "      <td>28.000000</td>\n",
              "      <td>0.000000</td>\n",
              "      <td>0.000000</td>\n",
              "      <td>14.454200</td>\n",
              "    </tr>\n",
              "    <tr>\n",
              "      <th>75%</th>\n",
              "      <td>668.500000</td>\n",
              "      <td>1.000000</td>\n",
              "      <td>3.000000</td>\n",
              "      <td>38.000000</td>\n",
              "      <td>1.000000</td>\n",
              "      <td>0.000000</td>\n",
              "      <td>31.000000</td>\n",
              "    </tr>\n",
              "    <tr>\n",
              "      <th>max</th>\n",
              "      <td>891.000000</td>\n",
              "      <td>1.000000</td>\n",
              "      <td>3.000000</td>\n",
              "      <td>80.000000</td>\n",
              "      <td>8.000000</td>\n",
              "      <td>6.000000</td>\n",
              "      <td>512.329200</td>\n",
              "    </tr>\n",
              "  </tbody>\n",
              "</table>\n",
              "</div>\n",
              "      <button class=\"colab-df-convert\" onclick=\"convertToInteractive('df-1b79c928-f1a7-4d2b-a2ef-3601c41d9588')\"\n",
              "              title=\"Convert this dataframe to an interactive table.\"\n",
              "              style=\"display:none;\">\n",
              "        \n",
              "  <svg xmlns=\"http://www.w3.org/2000/svg\" height=\"24px\"viewBox=\"0 0 24 24\"\n",
              "       width=\"24px\">\n",
              "    <path d=\"M0 0h24v24H0V0z\" fill=\"none\"/>\n",
              "    <path d=\"M18.56 5.44l.94 2.06.94-2.06 2.06-.94-2.06-.94-.94-2.06-.94 2.06-2.06.94zm-11 1L8.5 8.5l.94-2.06 2.06-.94-2.06-.94L8.5 2.5l-.94 2.06-2.06.94zm10 10l.94 2.06.94-2.06 2.06-.94-2.06-.94-.94-2.06-.94 2.06-2.06.94z\"/><path d=\"M17.41 7.96l-1.37-1.37c-.4-.4-.92-.59-1.43-.59-.52 0-1.04.2-1.43.59L10.3 9.45l-7.72 7.72c-.78.78-.78 2.05 0 2.83L4 21.41c.39.39.9.59 1.41.59.51 0 1.02-.2 1.41-.59l7.78-7.78 2.81-2.81c.8-.78.8-2.07 0-2.86zM5.41 20L4 18.59l7.72-7.72 1.47 1.35L5.41 20z\"/>\n",
              "  </svg>\n",
              "      </button>\n",
              "      \n",
              "  <style>\n",
              "    .colab-df-container {\n",
              "      display:flex;\n",
              "      flex-wrap:wrap;\n",
              "      gap: 12px;\n",
              "    }\n",
              "\n",
              "    .colab-df-convert {\n",
              "      background-color: #E8F0FE;\n",
              "      border: none;\n",
              "      border-radius: 50%;\n",
              "      cursor: pointer;\n",
              "      display: none;\n",
              "      fill: #1967D2;\n",
              "      height: 32px;\n",
              "      padding: 0 0 0 0;\n",
              "      width: 32px;\n",
              "    }\n",
              "\n",
              "    .colab-df-convert:hover {\n",
              "      background-color: #E2EBFA;\n",
              "      box-shadow: 0px 1px 2px rgba(60, 64, 67, 0.3), 0px 1px 3px 1px rgba(60, 64, 67, 0.15);\n",
              "      fill: #174EA6;\n",
              "    }\n",
              "\n",
              "    [theme=dark] .colab-df-convert {\n",
              "      background-color: #3B4455;\n",
              "      fill: #D2E3FC;\n",
              "    }\n",
              "\n",
              "    [theme=dark] .colab-df-convert:hover {\n",
              "      background-color: #434B5C;\n",
              "      box-shadow: 0px 1px 3px 1px rgba(0, 0, 0, 0.15);\n",
              "      filter: drop-shadow(0px 1px 2px rgba(0, 0, 0, 0.3));\n",
              "      fill: #FFFFFF;\n",
              "    }\n",
              "  </style>\n",
              "\n",
              "      <script>\n",
              "        const buttonEl =\n",
              "          document.querySelector('#df-1b79c928-f1a7-4d2b-a2ef-3601c41d9588 button.colab-df-convert');\n",
              "        buttonEl.style.display =\n",
              "          google.colab.kernel.accessAllowed ? 'block' : 'none';\n",
              "\n",
              "        async function convertToInteractive(key) {\n",
              "          const element = document.querySelector('#df-1b79c928-f1a7-4d2b-a2ef-3601c41d9588');\n",
              "          const dataTable =\n",
              "            await google.colab.kernel.invokeFunction('convertToInteractive',\n",
              "                                                     [key], {});\n",
              "          if (!dataTable) return;\n",
              "\n",
              "          const docLinkHtml = 'Like what you see? Visit the ' +\n",
              "            '<a target=\"_blank\" href=https://colab.research.google.com/notebooks/data_table.ipynb>data table notebook</a>'\n",
              "            + ' to learn more about interactive tables.';\n",
              "          element.innerHTML = '';\n",
              "          dataTable['output_type'] = 'display_data';\n",
              "          await google.colab.output.renderOutput(dataTable, element);\n",
              "          const docLink = document.createElement('div');\n",
              "          docLink.innerHTML = docLinkHtml;\n",
              "          element.appendChild(docLink);\n",
              "        }\n",
              "      </script>\n",
              "    </div>\n",
              "  </div>\n",
              "  "
            ]
          },
          "metadata": {},
          "execution_count": 5
        }
      ],
      "source": [
        "titanic_df.describe(\n",
        ")"
      ],
      "metadata": {
        "pycharm": {
          "name": "#%%\n"
        },
        "colab": {
          "base_uri": "https://localhost:8080/",
          "height": 361
        },
        "id": "xYMqx02Yr3DE",
        "outputId": "ceaf671e-65e2-4f5e-e2de-0366efd77e67"
      }
    },
    {
      "cell_type": "markdown",
      "source": [
        "38% survived"
      ],
      "metadata": {
        "collapsed": false,
        "pycharm": {
          "name": "#%% md\n"
        },
        "id": "Yf3Wc_wDr3DF"
      }
    },
    {
      "cell_type": "markdown",
      "metadata": {
        "pycharm": {
          "name": "#%% md\n"
        },
        "id": "FOMu0z0lr3DG"
      },
      "source": [
        "## **Data Preprocessing**"
      ]
    },
    {
      "cell_type": "code",
      "execution_count": null,
      "metadata": {
        "pycharm": {
          "name": "#%%\n"
        },
        "colab": {
          "base_uri": "https://localhost:8080/",
          "height": 593
        },
        "id": "UanIJTXXr3DI",
        "outputId": "44dd349e-9ffb-4f1d-cfc4-3a449fb63c91"
      },
      "outputs": [
        {
          "output_type": "execute_result",
          "data": {
            "text/plain": [
              "     Survived  Pclass     Sex    Age  SibSp  Parch Cabin     Embarked  \\\n",
              "598         0       3    male  25-40      0      0   NaN    Cherbourg   \n",
              "194         1       1  female  40-65      0      0    B4    Cherbourg   \n",
              "735         0       3    male  25-40      0      0   NaN  Southampton   \n",
              "106         1       3  female  13-25      0      0   NaN  Southampton   \n",
              "570         1       2    male  40-65      0      0   NaN  Southampton   \n",
              "580         1       2  female  13-25      1      1   NaN  Southampton   \n",
              "30          0       1    male  25-40      0      0   NaN    Cherbourg   \n",
              "888         0       3  female  25-40      1      2   NaN  Southampton   \n",
              "643         1       3    male  25-40      0      0   NaN  Southampton   \n",
              "749         0       3    male  25-40      0      0   NaN   Queenstown   \n",
              "\n",
              "     FamilySize  \n",
              "598           0  \n",
              "194           0  \n",
              "735           0  \n",
              "106           0  \n",
              "570           0  \n",
              "580           2  \n",
              "30            0  \n",
              "888           3  \n",
              "643           0  \n",
              "749           0  "
            ],
            "text/html": [
              "\n",
              "  <div id=\"df-ac71d4e0-a8fe-4ce7-9634-47738b9a45fc\">\n",
              "    <div class=\"colab-df-container\">\n",
              "      <div>\n",
              "<style scoped>\n",
              "    .dataframe tbody tr th:only-of-type {\n",
              "        vertical-align: middle;\n",
              "    }\n",
              "\n",
              "    .dataframe tbody tr th {\n",
              "        vertical-align: top;\n",
              "    }\n",
              "\n",
              "    .dataframe thead th {\n",
              "        text-align: right;\n",
              "    }\n",
              "</style>\n",
              "<table border=\"1\" class=\"dataframe\">\n",
              "  <thead>\n",
              "    <tr style=\"text-align: right;\">\n",
              "      <th></th>\n",
              "      <th>Survived</th>\n",
              "      <th>Pclass</th>\n",
              "      <th>Sex</th>\n",
              "      <th>Age</th>\n",
              "      <th>SibSp</th>\n",
              "      <th>Parch</th>\n",
              "      <th>Cabin</th>\n",
              "      <th>Embarked</th>\n",
              "      <th>FamilySize</th>\n",
              "    </tr>\n",
              "  </thead>\n",
              "  <tbody>\n",
              "    <tr>\n",
              "      <th>598</th>\n",
              "      <td>0</td>\n",
              "      <td>3</td>\n",
              "      <td>male</td>\n",
              "      <td>25-40</td>\n",
              "      <td>0</td>\n",
              "      <td>0</td>\n",
              "      <td>NaN</td>\n",
              "      <td>Cherbourg</td>\n",
              "      <td>0</td>\n",
              "    </tr>\n",
              "    <tr>\n",
              "      <th>194</th>\n",
              "      <td>1</td>\n",
              "      <td>1</td>\n",
              "      <td>female</td>\n",
              "      <td>40-65</td>\n",
              "      <td>0</td>\n",
              "      <td>0</td>\n",
              "      <td>B4</td>\n",
              "      <td>Cherbourg</td>\n",
              "      <td>0</td>\n",
              "    </tr>\n",
              "    <tr>\n",
              "      <th>735</th>\n",
              "      <td>0</td>\n",
              "      <td>3</td>\n",
              "      <td>male</td>\n",
              "      <td>25-40</td>\n",
              "      <td>0</td>\n",
              "      <td>0</td>\n",
              "      <td>NaN</td>\n",
              "      <td>Southampton</td>\n",
              "      <td>0</td>\n",
              "    </tr>\n",
              "    <tr>\n",
              "      <th>106</th>\n",
              "      <td>1</td>\n",
              "      <td>3</td>\n",
              "      <td>female</td>\n",
              "      <td>13-25</td>\n",
              "      <td>0</td>\n",
              "      <td>0</td>\n",
              "      <td>NaN</td>\n",
              "      <td>Southampton</td>\n",
              "      <td>0</td>\n",
              "    </tr>\n",
              "    <tr>\n",
              "      <th>570</th>\n",
              "      <td>1</td>\n",
              "      <td>2</td>\n",
              "      <td>male</td>\n",
              "      <td>40-65</td>\n",
              "      <td>0</td>\n",
              "      <td>0</td>\n",
              "      <td>NaN</td>\n",
              "      <td>Southampton</td>\n",
              "      <td>0</td>\n",
              "    </tr>\n",
              "    <tr>\n",
              "      <th>580</th>\n",
              "      <td>1</td>\n",
              "      <td>2</td>\n",
              "      <td>female</td>\n",
              "      <td>13-25</td>\n",
              "      <td>1</td>\n",
              "      <td>1</td>\n",
              "      <td>NaN</td>\n",
              "      <td>Southampton</td>\n",
              "      <td>2</td>\n",
              "    </tr>\n",
              "    <tr>\n",
              "      <th>30</th>\n",
              "      <td>0</td>\n",
              "      <td>1</td>\n",
              "      <td>male</td>\n",
              "      <td>25-40</td>\n",
              "      <td>0</td>\n",
              "      <td>0</td>\n",
              "      <td>NaN</td>\n",
              "      <td>Cherbourg</td>\n",
              "      <td>0</td>\n",
              "    </tr>\n",
              "    <tr>\n",
              "      <th>888</th>\n",
              "      <td>0</td>\n",
              "      <td>3</td>\n",
              "      <td>female</td>\n",
              "      <td>25-40</td>\n",
              "      <td>1</td>\n",
              "      <td>2</td>\n",
              "      <td>NaN</td>\n",
              "      <td>Southampton</td>\n",
              "      <td>3</td>\n",
              "    </tr>\n",
              "    <tr>\n",
              "      <th>643</th>\n",
              "      <td>1</td>\n",
              "      <td>3</td>\n",
              "      <td>male</td>\n",
              "      <td>25-40</td>\n",
              "      <td>0</td>\n",
              "      <td>0</td>\n",
              "      <td>NaN</td>\n",
              "      <td>Southampton</td>\n",
              "      <td>0</td>\n",
              "    </tr>\n",
              "    <tr>\n",
              "      <th>749</th>\n",
              "      <td>0</td>\n",
              "      <td>3</td>\n",
              "      <td>male</td>\n",
              "      <td>25-40</td>\n",
              "      <td>0</td>\n",
              "      <td>0</td>\n",
              "      <td>NaN</td>\n",
              "      <td>Queenstown</td>\n",
              "      <td>0</td>\n",
              "    </tr>\n",
              "  </tbody>\n",
              "</table>\n",
              "</div>\n",
              "      <button class=\"colab-df-convert\" onclick=\"convertToInteractive('df-ac71d4e0-a8fe-4ce7-9634-47738b9a45fc')\"\n",
              "              title=\"Convert this dataframe to an interactive table.\"\n",
              "              style=\"display:none;\">\n",
              "        \n",
              "  <svg xmlns=\"http://www.w3.org/2000/svg\" height=\"24px\"viewBox=\"0 0 24 24\"\n",
              "       width=\"24px\">\n",
              "    <path d=\"M0 0h24v24H0V0z\" fill=\"none\"/>\n",
              "    <path d=\"M18.56 5.44l.94 2.06.94-2.06 2.06-.94-2.06-.94-.94-2.06-.94 2.06-2.06.94zm-11 1L8.5 8.5l.94-2.06 2.06-.94-2.06-.94L8.5 2.5l-.94 2.06-2.06.94zm10 10l.94 2.06.94-2.06 2.06-.94-2.06-.94-.94-2.06-.94 2.06-2.06.94z\"/><path d=\"M17.41 7.96l-1.37-1.37c-.4-.4-.92-.59-1.43-.59-.52 0-1.04.2-1.43.59L10.3 9.45l-7.72 7.72c-.78.78-.78 2.05 0 2.83L4 21.41c.39.39.9.59 1.41.59.51 0 1.02-.2 1.41-.59l7.78-7.78 2.81-2.81c.8-.78.8-2.07 0-2.86zM5.41 20L4 18.59l7.72-7.72 1.47 1.35L5.41 20z\"/>\n",
              "  </svg>\n",
              "      </button>\n",
              "      \n",
              "  <style>\n",
              "    .colab-df-container {\n",
              "      display:flex;\n",
              "      flex-wrap:wrap;\n",
              "      gap: 12px;\n",
              "    }\n",
              "\n",
              "    .colab-df-convert {\n",
              "      background-color: #E8F0FE;\n",
              "      border: none;\n",
              "      border-radius: 50%;\n",
              "      cursor: pointer;\n",
              "      display: none;\n",
              "      fill: #1967D2;\n",
              "      height: 32px;\n",
              "      padding: 0 0 0 0;\n",
              "      width: 32px;\n",
              "    }\n",
              "\n",
              "    .colab-df-convert:hover {\n",
              "      background-color: #E2EBFA;\n",
              "      box-shadow: 0px 1px 2px rgba(60, 64, 67, 0.3), 0px 1px 3px 1px rgba(60, 64, 67, 0.15);\n",
              "      fill: #174EA6;\n",
              "    }\n",
              "\n",
              "    [theme=dark] .colab-df-convert {\n",
              "      background-color: #3B4455;\n",
              "      fill: #D2E3FC;\n",
              "    }\n",
              "\n",
              "    [theme=dark] .colab-df-convert:hover {\n",
              "      background-color: #434B5C;\n",
              "      box-shadow: 0px 1px 3px 1px rgba(0, 0, 0, 0.15);\n",
              "      filter: drop-shadow(0px 1px 2px rgba(0, 0, 0, 0.3));\n",
              "      fill: #FFFFFF;\n",
              "    }\n",
              "  </style>\n",
              "\n",
              "      <script>\n",
              "        const buttonEl =\n",
              "          document.querySelector('#df-ac71d4e0-a8fe-4ce7-9634-47738b9a45fc button.colab-df-convert');\n",
              "        buttonEl.style.display =\n",
              "          google.colab.kernel.accessAllowed ? 'block' : 'none';\n",
              "\n",
              "        async function convertToInteractive(key) {\n",
              "          const element = document.querySelector('#df-ac71d4e0-a8fe-4ce7-9634-47738b9a45fc');\n",
              "          const dataTable =\n",
              "            await google.colab.kernel.invokeFunction('convertToInteractive',\n",
              "                                                     [key], {});\n",
              "          if (!dataTable) return;\n",
              "\n",
              "          const docLinkHtml = 'Like what you see? Visit the ' +\n",
              "            '<a target=\"_blank\" href=https://colab.research.google.com/notebooks/data_table.ipynb>data table notebook</a>'\n",
              "            + ' to learn more about interactive tables.';\n",
              "          element.innerHTML = '';\n",
              "          dataTable['output_type'] = 'display_data';\n",
              "          await google.colab.output.renderOutput(dataTable, element);\n",
              "          const docLink = document.createElement('div');\n",
              "          docLink.innerHTML = docLinkHtml;\n",
              "          element.appendChild(docLink);\n",
              "        }\n",
              "      </script>\n",
              "    </div>\n",
              "  </div>\n",
              "  "
            ]
          },
          "metadata": {},
          "execution_count": 6
        }
      ],
      "source": [
        "# Filling missing values in the Age column using the median of the Age column\n",
        "titanic_df = titanic_df.fillna(titanic_df.median())\n",
        "\n",
        "# Filling missing values in the Embarked column using the mode of the column, i.e., 'S'\n",
        "titanic_df['Embarked'] = titanic_df['Embarked'].fillna('S')\n",
        "\n",
        "# Creating a new column\n",
        "titanic_df['FamilySize'] = titanic_df['Parch'] + titanic_df['SibSp']\n",
        "\n",
        "# Dropping un-necessary columns\n",
        "titanic_df.drop(['PassengerId', 'Name', 'Ticket', 'Fare'], axis = 1, inplace = True)\n",
        "\n",
        "# Replacing the initials in the Embarked column with the full name\n",
        "titanic_df.loc[titanic_df['Embarked'] == 'C', 'Embarked'] = 'Cherbourg'\n",
        "\n",
        "titanic_df.loc[titanic_df['Embarked'] == 'S', 'Embarked'] = 'Southampton'\n",
        "\n",
        "titanic_df.loc[titanic_df['Embarked'] == 'Q', 'Embarked'] = 'Queenstown'\n",
        "\n",
        "# Binning the Age column\n",
        "bins = [0, 13, 25, 40, 65, np.inf]\n",
        "\n",
        "names = ['<13', '13-25', '25-40', '40-65', '65+']\n",
        "\n",
        "titanic_df['Age'] = pd.cut(titanic_df['Age'], bins, labels = names)\n",
        "\n",
        "# Printing 10 observations\n",
        "titanic_df.sample(10)"
      ]
    },
    {
      "cell_type": "code",
      "execution_count": null,
      "outputs": [],
      "source": [
        "titanic_df.drop(['Cabin'], axis=1, inplace=True)"
      ],
      "metadata": {
        "pycharm": {
          "name": "#%%\n"
        },
        "id": "ctIqXHnyr3DJ"
      }
    },
    {
      "cell_type": "code",
      "execution_count": null,
      "metadata": {
        "pycharm": {
          "name": "#%%\n"
        },
        "colab": {
          "base_uri": "https://localhost:8080/",
          "height": 359
        },
        "id": "jHRX17xXr3DL",
        "outputId": "ff75dfd6-f629-423f-bcc1-393313ac4071"
      },
      "outputs": [
        {
          "output_type": "execute_result",
          "data": {
            "text/plain": [
              "     Survived  Pclass  Sex  Age  SibSp  Parch  Embarked  FamilySize\n",
              "838         1       3    0    1      0      0         0           0\n",
              "804         1       3    0    1      0      0         0           0\n",
              "812         0       2    0    1      0      0         0           0\n",
              "775         0       3    0    0      0      0         0           0\n",
              "364         0       3    0    1      1      0         2           1\n",
              "600         1       2    1    0      2      1         0           3\n",
              "634         0       3    1    3      3      2         0           5\n",
              "728         0       2    0    0      1      0         0           1\n",
              "315         1       3    1    1      0      0         0           0\n",
              "885         0       3    1    1      0      5         2           5"
            ],
            "text/html": [
              "\n",
              "  <div id=\"df-cb2a663e-0e4f-413b-9ae7-a4e8d52d6ef3\">\n",
              "    <div class=\"colab-df-container\">\n",
              "      <div>\n",
              "<style scoped>\n",
              "    .dataframe tbody tr th:only-of-type {\n",
              "        vertical-align: middle;\n",
              "    }\n",
              "\n",
              "    .dataframe tbody tr th {\n",
              "        vertical-align: top;\n",
              "    }\n",
              "\n",
              "    .dataframe thead th {\n",
              "        text-align: right;\n",
              "    }\n",
              "</style>\n",
              "<table border=\"1\" class=\"dataframe\">\n",
              "  <thead>\n",
              "    <tr style=\"text-align: right;\">\n",
              "      <th></th>\n",
              "      <th>Survived</th>\n",
              "      <th>Pclass</th>\n",
              "      <th>Sex</th>\n",
              "      <th>Age</th>\n",
              "      <th>SibSp</th>\n",
              "      <th>Parch</th>\n",
              "      <th>Embarked</th>\n",
              "      <th>FamilySize</th>\n",
              "    </tr>\n",
              "  </thead>\n",
              "  <tbody>\n",
              "    <tr>\n",
              "      <th>838</th>\n",
              "      <td>1</td>\n",
              "      <td>3</td>\n",
              "      <td>0</td>\n",
              "      <td>1</td>\n",
              "      <td>0</td>\n",
              "      <td>0</td>\n",
              "      <td>0</td>\n",
              "      <td>0</td>\n",
              "    </tr>\n",
              "    <tr>\n",
              "      <th>804</th>\n",
              "      <td>1</td>\n",
              "      <td>3</td>\n",
              "      <td>0</td>\n",
              "      <td>1</td>\n",
              "      <td>0</td>\n",
              "      <td>0</td>\n",
              "      <td>0</td>\n",
              "      <td>0</td>\n",
              "    </tr>\n",
              "    <tr>\n",
              "      <th>812</th>\n",
              "      <td>0</td>\n",
              "      <td>2</td>\n",
              "      <td>0</td>\n",
              "      <td>1</td>\n",
              "      <td>0</td>\n",
              "      <td>0</td>\n",
              "      <td>0</td>\n",
              "      <td>0</td>\n",
              "    </tr>\n",
              "    <tr>\n",
              "      <th>775</th>\n",
              "      <td>0</td>\n",
              "      <td>3</td>\n",
              "      <td>0</td>\n",
              "      <td>0</td>\n",
              "      <td>0</td>\n",
              "      <td>0</td>\n",
              "      <td>0</td>\n",
              "      <td>0</td>\n",
              "    </tr>\n",
              "    <tr>\n",
              "      <th>364</th>\n",
              "      <td>0</td>\n",
              "      <td>3</td>\n",
              "      <td>0</td>\n",
              "      <td>1</td>\n",
              "      <td>1</td>\n",
              "      <td>0</td>\n",
              "      <td>2</td>\n",
              "      <td>1</td>\n",
              "    </tr>\n",
              "    <tr>\n",
              "      <th>600</th>\n",
              "      <td>1</td>\n",
              "      <td>2</td>\n",
              "      <td>1</td>\n",
              "      <td>0</td>\n",
              "      <td>2</td>\n",
              "      <td>1</td>\n",
              "      <td>0</td>\n",
              "      <td>3</td>\n",
              "    </tr>\n",
              "    <tr>\n",
              "      <th>634</th>\n",
              "      <td>0</td>\n",
              "      <td>3</td>\n",
              "      <td>1</td>\n",
              "      <td>3</td>\n",
              "      <td>3</td>\n",
              "      <td>2</td>\n",
              "      <td>0</td>\n",
              "      <td>5</td>\n",
              "    </tr>\n",
              "    <tr>\n",
              "      <th>728</th>\n",
              "      <td>0</td>\n",
              "      <td>2</td>\n",
              "      <td>0</td>\n",
              "      <td>0</td>\n",
              "      <td>1</td>\n",
              "      <td>0</td>\n",
              "      <td>0</td>\n",
              "      <td>1</td>\n",
              "    </tr>\n",
              "    <tr>\n",
              "      <th>315</th>\n",
              "      <td>1</td>\n",
              "      <td>3</td>\n",
              "      <td>1</td>\n",
              "      <td>1</td>\n",
              "      <td>0</td>\n",
              "      <td>0</td>\n",
              "      <td>0</td>\n",
              "      <td>0</td>\n",
              "    </tr>\n",
              "    <tr>\n",
              "      <th>885</th>\n",
              "      <td>0</td>\n",
              "      <td>3</td>\n",
              "      <td>1</td>\n",
              "      <td>1</td>\n",
              "      <td>0</td>\n",
              "      <td>5</td>\n",
              "      <td>2</td>\n",
              "      <td>5</td>\n",
              "    </tr>\n",
              "  </tbody>\n",
              "</table>\n",
              "</div>\n",
              "      <button class=\"colab-df-convert\" onclick=\"convertToInteractive('df-cb2a663e-0e4f-413b-9ae7-a4e8d52d6ef3')\"\n",
              "              title=\"Convert this dataframe to an interactive table.\"\n",
              "              style=\"display:none;\">\n",
              "        \n",
              "  <svg xmlns=\"http://www.w3.org/2000/svg\" height=\"24px\"viewBox=\"0 0 24 24\"\n",
              "       width=\"24px\">\n",
              "    <path d=\"M0 0h24v24H0V0z\" fill=\"none\"/>\n",
              "    <path d=\"M18.56 5.44l.94 2.06.94-2.06 2.06-.94-2.06-.94-.94-2.06-.94 2.06-2.06.94zm-11 1L8.5 8.5l.94-2.06 2.06-.94-2.06-.94L8.5 2.5l-.94 2.06-2.06.94zm10 10l.94 2.06.94-2.06 2.06-.94-2.06-.94-.94-2.06-.94 2.06-2.06.94z\"/><path d=\"M17.41 7.96l-1.37-1.37c-.4-.4-.92-.59-1.43-.59-.52 0-1.04.2-1.43.59L10.3 9.45l-7.72 7.72c-.78.78-.78 2.05 0 2.83L4 21.41c.39.39.9.59 1.41.59.51 0 1.02-.2 1.41-.59l7.78-7.78 2.81-2.81c.8-.78.8-2.07 0-2.86zM5.41 20L4 18.59l7.72-7.72 1.47 1.35L5.41 20z\"/>\n",
              "  </svg>\n",
              "      </button>\n",
              "      \n",
              "  <style>\n",
              "    .colab-df-container {\n",
              "      display:flex;\n",
              "      flex-wrap:wrap;\n",
              "      gap: 12px;\n",
              "    }\n",
              "\n",
              "    .colab-df-convert {\n",
              "      background-color: #E8F0FE;\n",
              "      border: none;\n",
              "      border-radius: 50%;\n",
              "      cursor: pointer;\n",
              "      display: none;\n",
              "      fill: #1967D2;\n",
              "      height: 32px;\n",
              "      padding: 0 0 0 0;\n",
              "      width: 32px;\n",
              "    }\n",
              "\n",
              "    .colab-df-convert:hover {\n",
              "      background-color: #E2EBFA;\n",
              "      box-shadow: 0px 1px 2px rgba(60, 64, 67, 0.3), 0px 1px 3px 1px rgba(60, 64, 67, 0.15);\n",
              "      fill: #174EA6;\n",
              "    }\n",
              "\n",
              "    [theme=dark] .colab-df-convert {\n",
              "      background-color: #3B4455;\n",
              "      fill: #D2E3FC;\n",
              "    }\n",
              "\n",
              "    [theme=dark] .colab-df-convert:hover {\n",
              "      background-color: #434B5C;\n",
              "      box-shadow: 0px 1px 3px 1px rgba(0, 0, 0, 0.15);\n",
              "      filter: drop-shadow(0px 1px 2px rgba(0, 0, 0, 0.3));\n",
              "      fill: #FFFFFF;\n",
              "    }\n",
              "  </style>\n",
              "\n",
              "      <script>\n",
              "        const buttonEl =\n",
              "          document.querySelector('#df-cb2a663e-0e4f-413b-9ae7-a4e8d52d6ef3 button.colab-df-convert');\n",
              "        buttonEl.style.display =\n",
              "          google.colab.kernel.accessAllowed ? 'block' : 'none';\n",
              "\n",
              "        async function convertToInteractive(key) {\n",
              "          const element = document.querySelector('#df-cb2a663e-0e4f-413b-9ae7-a4e8d52d6ef3');\n",
              "          const dataTable =\n",
              "            await google.colab.kernel.invokeFunction('convertToInteractive',\n",
              "                                                     [key], {});\n",
              "          if (!dataTable) return;\n",
              "\n",
              "          const docLinkHtml = 'Like what you see? Visit the ' +\n",
              "            '<a target=\"_blank\" href=https://colab.research.google.com/notebooks/data_table.ipynb>data table notebook</a>'\n",
              "            + ' to learn more about interactive tables.';\n",
              "          element.innerHTML = '';\n",
              "          dataTable['output_type'] = 'display_data';\n",
              "          await google.colab.output.renderOutput(dataTable, element);\n",
              "          const docLink = document.createElement('div');\n",
              "          docLink.innerHTML = docLinkHtml;\n",
              "          element.appendChild(docLink);\n",
              "        }\n",
              "      </script>\n",
              "    </div>\n",
              "  </div>\n",
              "  "
            ]
          },
          "metadata": {},
          "execution_count": 8
        }
      ],
      "source": [
        "# Encoding the categorical columns\n",
        "titanic_df.Sex = pd.factorize(titanic_df.Sex)[0]\n",
        "\n",
        "titanic_df.Embarked = pd.factorize(titanic_df.Embarked)[0]\n",
        "\n",
        "titanic_df.Age = pd.factorize(titanic_df.Age)[0]\n",
        "\n",
        "titanic_df.sample(10)"
      ]
    },
    {
      "cell_type": "markdown",
      "metadata": {
        "id": "6WTvqSw8jxJO",
        "pycharm": {
          "name": "#%% md\n"
        }
      },
      "source": [
        "Extracting samples from the original data to create the train data (80%) and the test data (20%)."
      ]
    },
    {
      "cell_type": "markdown",
      "metadata": {
        "pycharm": {
          "name": "#%% md\n"
        },
        "id": "iivc56i8r3DN"
      },
      "source": [
        "## **Splitting the dataset**"
      ]
    },
    {
      "cell_type": "code",
      "execution_count": null,
      "metadata": {
        "id": "AJIDGoSzjxJO",
        "pycharm": {
          "name": "#%%\n"
        }
      },
      "outputs": [],
      "source": [
        "pcnt = .8\n",
        "\n",
        "# Random state is a seed value\n",
        "train = titanic_df.sample(frac = pcnt, random_state = 14)\n",
        "\n",
        "test = titanic_df.drop(train.index)\n",
        "\n",
        "# Create train and test datasets\n",
        "\n",
        "X_train = train[['Pclass', 'Sex', 'Age', 'Embarked', 'FamilySize', 'Parch', 'SibSp']]\n",
        "\n",
        "X_test = test[['Pclass', 'Sex', 'Age', 'Embarked', 'FamilySize', 'Parch', 'SibSp']]\n",
        "\n",
        "y_train = train['Survived']\n",
        "\n",
        "y_test = test['Survived']\n",
        "\n",
        "np.random.seed(0)\n"
      ]
    },
    {
      "cell_type": "code",
      "execution_count": null,
      "outputs": [
        {
          "output_type": "execute_result",
          "data": {
            "text/plain": [
              "75     0\n",
              "602    1\n",
              "119    3\n",
              "647    2\n",
              "115    0\n",
              "      ..\n",
              "473    0\n",
              "756    1\n",
              "866    1\n",
              "304    1\n",
              "309    1\n",
              "Name: Age, Length: 713, dtype: int64"
            ]
          },
          "metadata": {},
          "execution_count": 10
        }
      ],
      "source": [
        "X_train.Age"
      ],
      "metadata": {
        "pycharm": {
          "name": "#%%\n"
        },
        "colab": {
          "base_uri": "https://localhost:8080/"
        },
        "id": "r7gPrTBDr3DQ",
        "outputId": "081349c7-81ef-4b20-c3e3-88cb73f413a1"
      }
    },
    {
      "cell_type": "markdown",
      "metadata": {
        "pycharm": {
          "name": "#%% md\n"
        },
        "id": "3MNz5mgcr3DS"
      },
      "source": [
        "## **Decision Tree**"
      ]
    },
    {
      "cell_type": "markdown",
      "metadata": {
        "id": "IpiufOfFjxJO",
        "pycharm": {
          "name": "#%% md\n"
        }
      },
      "source": [
        "We create a decision tree with 6 levels (max_depth = 5) and visualize it."
      ]
    },
    {
      "cell_type": "code",
      "execution_count": null,
      "metadata": {
        "id": "5xqa61LdjxJP",
        "outputId": "2114693d-8e5f-47dd-8a18-dd57a56989a6",
        "pycharm": {
          "name": "#%%\n"
        },
        "colab": {
          "base_uri": "https://localhost:8080/",
          "height": 630
        }
      },
      "outputs": [
        {
          "output_type": "display_data",
          "data": {
            "text/plain": [
              "<Figure size 2592x2592 with 1 Axes>"
            ],
            "image/png": "[encoded data removed]"
          },
          "metadata": {}
        }
      ],
      "source": [
        "# Creating a decision tree model\n",
        "clf = tree.DecisionTreeClassifier(criterion = 'entropy', max_depth = 5)\n",
        "\n",
        "# Fitting the model on the train data\n",
        "clf = clf.fit(X_train, y_train)\n",
        "\n",
        "fig, ax = plt.subplots(figsize = (36, 36))\n",
        "\n",
        "out = tree.plot_tree(clf, fontsize = 10, max_depth = 5, impurity = False, filled = True, feature_names = ['Pclass', 'Sex', 'Age', 'Embarked', 'FamilySize', 'Parch', 'SibSp'], class_names = True)\n",
        "\n",
        "for o in out:\n",
        "    \n",
        "    arrow = o.arrow_patch\n",
        "    \n",
        "    if arrow is not None:\n",
        "        \n",
        "        arrow.set_edgecolor('red')\n",
        "        \n",
        "        arrow.set_linewidth(3)\n",
        "\n",
        "# Display the plot       \n",
        "plt.show()"
      ]
    },
    {
      "cell_type": "markdown",
      "metadata": {
        "id": "pyeqER7JjxJP",
        "pycharm": {
          "name": "#%% md\n"
        }
      },
      "source": [
        "**Observations:**\n",
        "- The first split is based on the sex of the passenger. It is one of the most important factors while figuring out who survived, as we can see that in the leaves, more females survived in comparison to males. This might be because females were rescued first.\n",
        "- We can see that among females, more from the first class and second class passengers survived in comparison to passengers who were traveling in the 3rd class.\n",
        "- For males, age is an important factor. There is only one passenger younger than 25 years of age who survived.\n",
        "\n",
        "Note: Blue means survived = 1 and orange means survived = 0."
      ]
    },
    {
      "cell_type": "markdown",
      "metadata": {
        "pycharm": {
          "name": "#%% md\n"
        },
        "id": "RAcwoVYTr3DY"
      },
      "source": [
        "Now, let's visualize and compare the error on the train data and the test data for different values of max_depth in the decision tree classifier."
      ]
    },
    {
      "cell_type": "code",
      "execution_count": null,
      "metadata": {
        "id": "7MCjf_YVjxJQ",
        "outputId": "e9b5f7d5-cbcc-4b5a-ad75-42ddb45b1a6a",
        "pycharm": {
          "name": "#%%\n"
        },
        "colab": {
          "base_uri": "https://localhost:8080/",
          "height": 408
        }
      },
      "outputs": [
        {
          "output_type": "display_data",
          "data": {
            "text/plain": [
              "<Figure size 720x432 with 1 Axes>"
            ],
            "image/png": "[encoded data removed]"
          },
          "metadata": {}
        }
      ],
      "source": [
        "train_scores = []\n",
        "\n",
        "test_scores = []\n",
        "\n",
        "for depth in range(1, 10):\n",
        "    \n",
        "    clf = tree.DecisionTreeClassifier(criterion = 'entropy', max_depth = depth)\n",
        "    \n",
        "    clf = clf.fit(X_train, y_train)\n",
        "    \n",
        "    train_scores.append(1 - clf.score(X_train, y_train))\n",
        "    \n",
        "    test_scores.append(1 - clf.score(X_test, y_test))\n",
        "\n",
        "plt.plot(range(1, 10), train_scores, '-o', label = \"train\")\n",
        "\n",
        "plt.plot(range(1, 10), test_scores, '-o', label = \"test\")\n",
        "\n",
        "plt.legend(loc = 'best')\n",
        "\n",
        "plt.xlabel('max depth')\n",
        "\n",
        "plt.ylabel('misclassification error (pcnt)')\n",
        "\n",
        "# Setting the range of the Y-axis\n",
        "plt.ylim(0, 0.3)\n",
        "\n",
        "plt.title(f\"Decision Tree\")\n",
        "\n",
        "fig = plt.gcf()\n",
        "\n",
        "fig.set_size_inches(10, 6)\n",
        "\n",
        "plt.show()"
      ]
    },
    {
      "cell_type": "code",
      "execution_count": null,
      "outputs": [
        {
          "output_type": "execute_result",
          "data": {
            "text/plain": [
              "DecisionTreeClassifier(criterion='entropy', max_depth=4)"
            ]
          },
          "metadata": {},
          "execution_count": 13
        }
      ],
      "source": [
        "clf = tree.DecisionTreeClassifier(criterion = 'entropy', max_depth = 4)\n",
        "clf.fit(X_train, y_train)"
      ],
      "metadata": {
        "pycharm": {
          "name": "#%%\n"
        },
        "colab": {
          "base_uri": "https://localhost:8080/"
        },
        "id": "zbyQA0P0r3Da",
        "outputId": "fef41f2f-cc72-4e11-a236-7b94ae56ee85"
      }
    },
    {
      "cell_type": "markdown",
      "metadata": {
        "id": "gQ4f6GfQjxJQ",
        "pycharm": {
          "name": "#%% md\n"
        }
      },
      "source": [
        "**Observations:**\n",
        "- The max_depth = 4 seems like the \"sweet spot\" where training and testing errors are balanced.\n",
        "\n",
        "Now, let's see what would be the train and the test error for the same values of max_depth in a Random Forest Classifier."
      ]
    },
    {
      "cell_type": "code",
      "execution_count": null,
      "outputs": [
        {
          "output_type": "execute_result",
          "data": {
            "text/plain": [
              "   Precision    Recall  Accuracy\n",
              "0    0.80332  0.786732  0.814607"
            ],
            "text/html": [
              "\n",
              "  <div id=\"df-8fc8a296-11e9-45c4-8b6a-43fbb775c466\">\n",
              "    <div class=\"colab-df-container\">\n",
              "      <div>\n",
              "<style scoped>\n",
              "    .dataframe tbody tr th:only-of-type {\n",
              "        vertical-align: middle;\n",
              "    }\n",
              "\n",
              "    .dataframe tbody tr th {\n",
              "        vertical-align: top;\n",
              "    }\n",
              "\n",
              "    .dataframe thead th {\n",
              "        text-align: right;\n",
              "    }\n",
              "</style>\n",
              "<table border=\"1\" class=\"dataframe\">\n",
              "  <thead>\n",
              "    <tr style=\"text-align: right;\">\n",
              "      <th></th>\n",
              "      <th>Precision</th>\n",
              "      <th>Recall</th>\n",
              "      <th>Accuracy</th>\n",
              "    </tr>\n",
              "  </thead>\n",
              "  <tbody>\n",
              "    <tr>\n",
              "      <th>0</th>\n",
              "      <td>0.80332</td>\n",
              "      <td>0.786732</td>\n",
              "      <td>0.814607</td>\n",
              "    </tr>\n",
              "  </tbody>\n",
              "</table>\n",
              "</div>\n",
              "      <button class=\"colab-df-convert\" onclick=\"convertToInteractive('df-8fc8a296-11e9-45c4-8b6a-43fbb775c466')\"\n",
              "              title=\"Convert this dataframe to an interactive table.\"\n",
              "              style=\"display:none;\">\n",
              "        \n",
              "  <svg xmlns=\"http://www.w3.org/2000/svg\" height=\"24px\"viewBox=\"0 0 24 24\"\n",
              "       width=\"24px\">\n",
              "    <path d=\"M0 0h24v24H0V0z\" fill=\"none\"/>\n",
              "    <path d=\"M18.56 5.44l.94 2.06.94-2.06 2.06-.94-2.06-.94-.94-2.06-.94 2.06-2.06.94zm-11 1L8.5 8.5l.94-2.06 2.06-.94-2.06-.94L8.5 2.5l-.94 2.06-2.06.94zm10 10l.94 2.06.94-2.06 2.06-.94-2.06-.94-.94-2.06-.94 2.06-2.06.94z\"/><path d=\"M17.41 7.96l-1.37-1.37c-.4-.4-.92-.59-1.43-.59-.52 0-1.04.2-1.43.59L10.3 9.45l-7.72 7.72c-.78.78-.78 2.05 0 2.83L4 21.41c.39.39.9.59 1.41.59.51 0 1.02-.2 1.41-.59l7.78-7.78 2.81-2.81c.8-.78.8-2.07 0-2.86zM5.41 20L4 18.59l7.72-7.72 1.47 1.35L5.41 20z\"/>\n",
              "  </svg>\n",
              "      </button>\n",
              "      \n",
              "  <style>\n",
              "    .colab-df-container {\n",
              "      display:flex;\n",
              "      flex-wrap:wrap;\n",
              "      gap: 12px;\n",
              "    }\n",
              "\n",
              "    .colab-df-convert {\n",
              "      background-color: #E8F0FE;\n",
              "      border: none;\n",
              "      border-radius: 50%;\n",
              "      cursor: pointer;\n",
              "      display: none;\n",
              "      fill: #1967D2;\n",
              "      height: 32px;\n",
              "      padding: 0 0 0 0;\n",
              "      width: 32px;\n",
              "    }\n",
              "\n",
              "    .colab-df-convert:hover {\n",
              "      background-color: #E2EBFA;\n",
              "      box-shadow: 0px 1px 2px rgba(60, 64, 67, 0.3), 0px 1px 3px 1px rgba(60, 64, 67, 0.15);\n",
              "      fill: #174EA6;\n",
              "    }\n",
              "\n",
              "    [theme=dark] .colab-df-convert {\n",
              "      background-color: #3B4455;\n",
              "      fill: #D2E3FC;\n",
              "    }\n",
              "\n",
              "    [theme=dark] .colab-df-convert:hover {\n",
              "      background-color: #434B5C;\n",
              "      box-shadow: 0px 1px 3px 1px rgba(0, 0, 0, 0.15);\n",
              "      filter: drop-shadow(0px 1px 2px rgba(0, 0, 0, 0.3));\n",
              "      fill: #FFFFFF;\n",
              "    }\n",
              "  </style>\n",
              "\n",
              "      <script>\n",
              "        const buttonEl =\n",
              "          document.querySelector('#df-8fc8a296-11e9-45c4-8b6a-43fbb775c466 button.colab-df-convert');\n",
              "        buttonEl.style.display =\n",
              "          google.colab.kernel.accessAllowed ? 'block' : 'none';\n",
              "\n",
              "        async function convertToInteractive(key) {\n",
              "          const element = document.querySelector('#df-8fc8a296-11e9-45c4-8b6a-43fbb775c466');\n",
              "          const dataTable =\n",
              "            await google.colab.kernel.invokeFunction('convertToInteractive',\n",
              "                                                     [key], {});\n",
              "          if (!dataTable) return;\n",
              "\n",
              "          const docLinkHtml = 'Like what you see? Visit the ' +\n",
              "            '<a target=\"_blank\" href=https://colab.research.google.com/notebooks/data_table.ipynb>data table notebook</a>'\n",
              "            + ' to learn more about interactive tables.';\n",
              "          element.innerHTML = '';\n",
              "          dataTable['output_type'] = 'display_data';\n",
              "          await google.colab.output.renderOutput(dataTable, element);\n",
              "          const docLink = document.createElement('div');\n",
              "          docLink.innerHTML = docLinkHtml;\n",
              "          element.appendChild(docLink);\n",
              "        }\n",
              "      </script>\n",
              "    </div>\n",
              "  </div>\n",
              "  "
            ]
          },
          "metadata": {},
          "execution_count": 14
        }
      ],
      "source": [
        "model_performance_classification(clf, X_test, y_test)"
      ],
      "metadata": {
        "pycharm": {
          "name": "#%%\n"
        },
        "colab": {
          "base_uri": "https://localhost:8080/",
          "height": 80
        },
        "id": "l2rXFGvnr3Db",
        "outputId": "311969e4-3855-4215-9899-4efdfdeb2911"
      }
    },
    {
      "cell_type": "markdown",
      "metadata": {
        "pycharm": {
          "name": "#%% md\n"
        },
        "id": "0kzV45k7r3Dc"
      },
      "source": [
        "## **Random Forest**"
      ]
    },
    {
      "cell_type": "code",
      "execution_count": null,
      "metadata": {
        "id": "aiaTNb9gjxJR",
        "outputId": "fc8c7a3b-e268-4979-a211-b5ced5a621aa",
        "pycharm": {
          "name": "#%%\n"
        },
        "colab": {
          "base_uri": "https://localhost:8080/",
          "height": 408
        }
      },
      "outputs": [
        {
          "output_type": "display_data",
          "data": {
            "text/plain": [
              "<Figure size 720x432 with 1 Axes>"
            ],
            "image/png": "[encoded data removed]"
          },
          "metadata": {}
        }
      ],
      "source": [
        "from sklearn.ensemble import RandomForestClassifier\n",
        "\n",
        "train_scores = []\n",
        "\n",
        "test_scores = []\n",
        "\n",
        "for depth in range(1, 10):\n",
        "    \n",
        "    clf = RandomForestClassifier(random_state = 0, criterion = 'entropy', max_depth = depth, n_estimators = 25)\n",
        "    \n",
        "    clf = clf.fit(X_train, y_train)\n",
        "    \n",
        "    train_scores.append(1 - clf.score(X_train, y_train))\n",
        "    \n",
        "    test_scores.append(1 - clf.score(X_test, y_test))\n",
        "\n",
        "plt.plot(range(1, 10), train_scores, '-o', label = \"train\")\n",
        "\n",
        "plt.plot(range(1, 10), test_scores, '-o', label = \"test\")\n",
        "\n",
        "plt.legend(loc = 'upper right')\n",
        "\n",
        "plt.xlabel('max depth')\n",
        "\n",
        "plt.ylim(0, 0.3)\n",
        "\n",
        "plt.ylabel('misclassification error (pcnt)')\n",
        "\n",
        "plt.title(f\"Random Forest with 25 estimators\")\n",
        "\n",
        "fig = plt.gcf()\n",
        "\n",
        "fig.set_size_inches(10, 6)\n",
        "\n",
        "plt.show()"
      ]
    },
    {
      "cell_type": "markdown",
      "metadata": {
        "id": "xWmBjoMQjxJR",
        "pycharm": {
          "name": "#%% md\n"
        }
      },
      "source": [
        "**Observations:**\n",
        "- The random forest is giving generalized results at max_depth = 6 which was overfitting for a single decision tree."
      ]
    },
    {
      "cell_type": "markdown",
      "metadata": {
        "pycharm": {
          "name": "#%% md\n"
        },
        "id": "ehryB5XDr3De"
      },
      "source": [
        "## **Conclusion**\n",
        "\n",
        "- After data preprocessing, we visualized the decision tree classifier and interpreted the output. \n",
        "- We also compared the errors on the train and test sets to find the optimal value for the hyperparameter max_depth, which came out to be 3.\n",
        "- We also observed that Random Forest gives more generalized results than a single decision tree for the sample value of max_depth. The optimal max_depth for Random Forest came out to be 6.\n",
        "- Interested learners can go ahead and build the decision tree and the random forest model with optimal values of max_depth and make predictions on an unseen dataset, named \"test_titanic.csv\".\n",
        "-"
      ]
    },
    {
      "cell_type": "code",
      "execution_count": null,
      "outputs": [
        {
          "output_type": "execute_result",
          "data": {
            "text/plain": [
              "RandomForestClassifier(class_weight={0: 0.38, 1: 0.62}, random_state=1)"
            ]
          },
          "metadata": {},
          "execution_count": 16
        }
      ],
      "source": [
        "# Fitting the Random Forest classifier on the training data\n",
        "rf_estimator = RandomForestClassifier(class_weight = {0: 0.38, 1: 0.62}, random_state = 1)\n",
        "\n",
        "rf_estimator.fit(X_train, y_train)"
      ],
      "metadata": {
        "pycharm": {
          "name": "#%%\n"
        },
        "colab": {
          "base_uri": "https://localhost:8080/"
        },
        "id": "9oVt8knBr3Dg",
        "outputId": "58562fc3-03c6-419f-e861-0060aa1487f3"
      }
    },
    {
      "cell_type": "code",
      "execution_count": null,
      "outputs": [],
      "source": [
        "# creating metric function\n",
        "from sklearn.metrics import confusion_matrix, classification_report, precision_recall_curve\n",
        "def metrics_score(actual, predicted):\n",
        "\n",
        "    print(classification_report(actual, predicted))\n",
        "\n",
        "    cm = confusion_matrix(actual, predicted) # returns confusion matrix\n",
        "\n",
        "    plt.figure(figsize = (8, 5))\n",
        "\n",
        "    sns.heatmap(cm, annot = True, fmt = '.2f', xticklabels = ['Not Rescued', 'Rescued'], yticklabels = ['Not Rescued', 'Rescued'])\n",
        "\n",
        "    plt.ylabel('Actual')\n",
        "\n",
        "    plt.xlabel('Predicted')\n",
        "\n",
        "    plt.show()\n"
      ],
      "metadata": {
        "pycharm": {
          "name": "#%%\n"
        },
        "id": "ax6ewKAlr3Dh"
      }
    },
    {
      "cell_type": "code",
      "execution_count": null,
      "outputs": [
        {
          "output_type": "stream",
          "name": "stdout",
          "text": [
            "              precision    recall  f1-score   support\n",
            "\n",
            "           0       0.87      0.91      0.89       435\n",
            "           1       0.85      0.79      0.82       278\n",
            "\n",
            "    accuracy                           0.86       713\n",
            "   macro avg       0.86      0.85      0.86       713\n",
            "weighted avg       0.86      0.86      0.86       713\n",
            "\n"
          ]
        },
        {
          "output_type": "display_data",
          "data": {
            "text/plain": [
              "<Figure size 576x360 with 2 Axes>"
            ],
            "image/png": "[encoded data removed]"
          },
          "metadata": {}
        }
      ],
      "source": [
        "# Checking performance on the training data\n",
        "y_pred_train_rf = rf_estimator.predict(X_train)\n",
        "\n",
        "metrics_score(y_train, y_pred_train_rf)"
      ],
      "metadata": {
        "pycharm": {
          "name": "#%%\n"
        },
        "colab": {
          "base_uri": "https://localhost:8080/",
          "height": 490
        },
        "id": "33AZPLmar3Dk",
        "outputId": "af101706-5a6c-4451-d980-8a9a3e08484e"
      }
    },
    {
      "cell_type": "code",
      "execution_count": null,
      "outputs": [
        {
          "output_type": "stream",
          "name": "stdout",
          "text": [
            "              precision    recall  f1-score   support\n",
            "\n",
            "           0       0.81      0.89      0.85       114\n",
            "           1       0.77      0.62      0.69        64\n",
            "\n",
            "    accuracy                           0.80       178\n",
            "   macro avg       0.79      0.76      0.77       178\n",
            "weighted avg       0.80      0.80      0.79       178\n",
            "\n"
          ]
        },
        {
          "output_type": "display_data",
          "data": {
            "text/plain": [
              "<Figure size 576x360 with 2 Axes>"
            ],
            "image/png": "[encoded data removed]"
          },
          "metadata": {}
        },
        {
          "output_type": "execute_result",
          "data": {
            "text/plain": [
              "   Precision    Recall  Accuracy\n",
              "0   0.789377  0.759868  0.797753"
            ],
            "text/html": [
              "\n",
              "  <div id=\"df-d94e89b2-c00e-4ec7-9106-49b9a58f6f32\">\n",
              "    <div class=\"colab-df-container\">\n",
              "      <div>\n",
              "<style scoped>\n",
              "    .dataframe tbody tr th:only-of-type {\n",
              "        vertical-align: middle;\n",
              "    }\n",
              "\n",
              "    .dataframe tbody tr th {\n",
              "        vertical-align: top;\n",
              "    }\n",
              "\n",
              "    .dataframe thead th {\n",
              "        text-align: right;\n",
              "    }\n",
              "</style>\n",
              "<table border=\"1\" class=\"dataframe\">\n",
              "  <thead>\n",
              "    <tr style=\"text-align: right;\">\n",
              "      <th></th>\n",
              "      <th>Precision</th>\n",
              "      <th>Recall</th>\n",
              "      <th>Accuracy</th>\n",
              "    </tr>\n",
              "  </thead>\n",
              "  <tbody>\n",
              "    <tr>\n",
              "      <th>0</th>\n",
              "      <td>0.789377</td>\n",
              "      <td>0.759868</td>\n",
              "      <td>0.797753</td>\n",
              "    </tr>\n",
              "  </tbody>\n",
              "</table>\n",
              "</div>\n",
              "      <button class=\"colab-df-convert\" onclick=\"convertToInteractive('df-d94e89b2-c00e-4ec7-9106-49b9a58f6f32')\"\n",
              "              title=\"Convert this dataframe to an interactive table.\"\n",
              "              style=\"display:none;\">\n",
              "        \n",
              "  <svg xmlns=\"http://www.w3.org/2000/svg\" height=\"24px\"viewBox=\"0 0 24 24\"\n",
              "       width=\"24px\">\n",
              "    <path d=\"M0 0h24v24H0V0z\" fill=\"none\"/>\n",
              "    <path d=\"M18.56 5.44l.94 2.06.94-2.06 2.06-.94-2.06-.94-.94-2.06-.94 2.06-2.06.94zm-11 1L8.5 8.5l.94-2.06 2.06-.94-2.06-.94L8.5 2.5l-.94 2.06-2.06.94zm10 10l.94 2.06.94-2.06 2.06-.94-2.06-.94-.94-2.06-.94 2.06-2.06.94z\"/><path d=\"M17.41 7.96l-1.37-1.37c-.4-.4-.92-.59-1.43-.59-.52 0-1.04.2-1.43.59L10.3 9.45l-7.72 7.72c-.78.78-.78 2.05 0 2.83L4 21.41c.39.39.9.59 1.41.59.51 0 1.02-.2 1.41-.59l7.78-7.78 2.81-2.81c.8-.78.8-2.07 0-2.86zM5.41 20L4 18.59l7.72-7.72 1.47 1.35L5.41 20z\"/>\n",
              "  </svg>\n",
              "      </button>\n",
              "      \n",
              "  <style>\n",
              "    .colab-df-container {\n",
              "      display:flex;\n",
              "      flex-wrap:wrap;\n",
              "      gap: 12px;\n",
              "    }\n",
              "\n",
              "    .colab-df-convert {\n",
              "      background-color: #E8F0FE;\n",
              "      border: none;\n",
              "      border-radius: 50%;\n",
              "      cursor: pointer;\n",
              "      display: none;\n",
              "      fill: #1967D2;\n",
              "      height: 32px;\n",
              "      padding: 0 0 0 0;\n",
              "      width: 32px;\n",
              "    }\n",
              "\n",
              "    .colab-df-convert:hover {\n",
              "      background-color: #E2EBFA;\n",
              "      box-shadow: 0px 1px 2px rgba(60, 64, 67, 0.3), 0px 1px 3px 1px rgba(60, 64, 67, 0.15);\n",
              "      fill: #174EA6;\n",
              "    }\n",
              "\n",
              "    [theme=dark] .colab-df-convert {\n",
              "      background-color: #3B4455;\n",
              "      fill: #D2E3FC;\n",
              "    }\n",
              "\n",
              "    [theme=dark] .colab-df-convert:hover {\n",
              "      background-color: #434B5C;\n",
              "      box-shadow: 0px 1px 3px 1px rgba(0, 0, 0, 0.15);\n",
              "      filter: drop-shadow(0px 1px 2px rgba(0, 0, 0, 0.3));\n",
              "      fill: #FFFFFF;\n",
              "    }\n",
              "  </style>\n",
              "\n",
              "      <script>\n",
              "        const buttonEl =\n",
              "          document.querySelector('#df-d94e89b2-c00e-4ec7-9106-49b9a58f6f32 button.colab-df-convert');\n",
              "        buttonEl.style.display =\n",
              "          google.colab.kernel.accessAllowed ? 'block' : 'none';\n",
              "\n",
              "        async function convertToInteractive(key) {\n",
              "          const element = document.querySelector('#df-d94e89b2-c00e-4ec7-9106-49b9a58f6f32');\n",
              "          const dataTable =\n",
              "            await google.colab.kernel.invokeFunction('convertToInteractive',\n",
              "                                                     [key], {});\n",
              "          if (!dataTable) return;\n",
              "\n",
              "          const docLinkHtml = 'Like what you see? Visit the ' +\n",
              "            '<a target=\"_blank\" href=https://colab.research.google.com/notebooks/data_table.ipynb>data table notebook</a>'\n",
              "            + ' to learn more about interactive tables.';\n",
              "          element.innerHTML = '';\n",
              "          dataTable['output_type'] = 'display_data';\n",
              "          await google.colab.output.renderOutput(dataTable, element);\n",
              "          const docLink = document.createElement('div');\n",
              "          docLink.innerHTML = docLinkHtml;\n",
              "          element.appendChild(docLink);\n",
              "        }\n",
              "      </script>\n",
              "    </div>\n",
              "  </div>\n",
              "  "
            ]
          },
          "metadata": {},
          "execution_count": 78
        }
      ],
      "source": [
        "# Model Performance on the test data\n",
        "y_pred_test = clf.predict(X_test)\n",
        "metrics_score(y_test, y_pred_test)\n",
        "model_performance_classification(clf, X_test, y_test)"
      ],
      "metadata": {
        "pycharm": {
          "name": "#%%\n"
        },
        "colab": {
          "base_uri": "https://localhost:8080/",
          "height": 553
        },
        "id": "eIdglzG_r3Dm",
        "outputId": "fbdf024a-f2ec-4613-aa46-de221449aa13"
      }
    },
    {
      "cell_type": "markdown",
      "source": [
        "**Observations:**\n",
        "- **We are getting an accuracy of about 80%** on the train and the test datasets.\n",
        "- However, **the recall for this model is only around 66% for survivors on the test data and 79% on the train data.**\n",
        "- As the recall is somewhat low, **this model may not perform very well** in differentiating out pasengers who had a high chance of surviving.\n",
        "- As we can see from the Confusion Matrix, **this model is not great at identifying passengers who are most likely to survive.**"
      ],
      "metadata": {
        "collapsed": false,
        "pycharm": {
          "name": "#%% md\n"
        },
        "id": "rntMcwVGr3Dm"
      }
    },
    {
      "cell_type": "markdown",
      "source": [
        "**Let's check the feature importance of the Random Forest**\n"
      ],
      "metadata": {
        "collapsed": false,
        "pycharm": {
          "name": "#%% md\n"
        },
        "id": "hGoCO0LCr3Dn"
      }
    },
    {
      "cell_type": "code",
      "execution_count": null,
      "outputs": [],
      "source": [
        "# importances = rf_estimator.feature_importances_\n",
        "#\n",
        "# columns = titanic_df[['Pclass', 'Sex', 'Age', 'Embarked', 'FamilySize']].columns\n",
        "#\n",
        "# importance_df = pd.DataFrame(importances, index = columns, columns = ['Importance']).sort_values(by = 'Importance', ascending = False)\n",
        "#\n",
        "# plt.figure(figsize = (13, 13))\n",
        "#\n",
        "# sns.barplot(importance_df.Importance, importance_df.index)"
      ],
      "metadata": {
        "pycharm": {
          "name": "#%%\n"
        },
        "id": "iEICYPY-r3Dn"
      }
    },
    {
      "cell_type": "markdown",
      "source": [
        "**Observations:**\n",
        "\n",
        "- According to the Decision Tree, **Sex is the most important feature, followed by class, family size, then age.**"
      ],
      "metadata": {
        "collapsed": false,
        "pycharm": {
          "name": "#%% md\n"
        },
        "id": "aBdGc4hHr3Do"
      }
    },
    {
      "cell_type": "markdown",
      "source": [
        "**Let's try to tune the model and check if we could improve the results.**\n"
      ],
      "metadata": {
        "collapsed": false,
        "pycharm": {
          "name": "#%% md\n"
        },
        "id": "KKEjllF1r3Do"
      }
    },
    {
      "cell_type": "markdown",
      "source": [
        "### **Tuning the Random Forest classifier**\n",
        "\n",
        "**n_estimators**: The number of trees in the forest.\n",
        "\n",
        "**min_samples_split**: The minimum number of samples required to split an internal node.\n",
        "\n",
        "**min_samples_leaf**: The minimum number of samples required to be at a leaf node.\n",
        "\n",
        "**max_features{“auto”, “sqrt”, “log2”, 'None'}**: The number of features to consider when looking for the best split.\n",
        "\n",
        "- If “auto”, then max_features=sqrt(n_features).\n",
        "\n",
        "- If “sqrt”, then max_features=sqrt(n_features) (same as “auto”).\n",
        "\n",
        "- If “log2”, then max_features=log2(n_features).\n",
        "\n",
        "- If None, then max_features=n_features."
      ],
      "metadata": {
        "collapsed": false,
        "pycharm": {
          "name": "#%% md\n"
        },
        "id": "aBb1LGlYr3Do"
      }
    },
    {
      "cell_type": "code",
      "execution_count": null,
      "outputs": [],
      "source": [
        "# Metrics to evaluate the model\n",
        "from sklearn import metrics\n",
        "from sklearn.metrics import confusion_matrix, classification_report,recall_score,precision_score, accuracy_score\n",
        "# Choose the type of classifier\n",
        "rf_estimator_tuned = RandomForestClassifier(class_weight = {0: 0.38, 1: 0.62}, random_state = 1)\n",
        "# For tuning the model\n",
        "from sklearn.model_selection import GridSearchCV\n",
        "\n",
        "# Grid of parameters to choose from\n",
        "params_rf = {\n",
        "    \"n_estimators\": [100, 250, 500],\n",
        "    \"min_samples_leaf\": np.arange(1, 4, 1),\n",
        "    \"max_features\": [0.7, 0.9, 'auto'],\n",
        "}\n",
        "\n",
        "\n",
        "# Type of scoring used to compare parameter combinations - recall score for class 1\n",
        "scorer = metrics.make_scorer(recall_score, pos_label = 1)\n",
        "\n",
        "# Run the grid search\n",
        "grid_obj = GridSearchCV(rf_estimator_tuned, params_rf, scoring = scorer, cv = 5)\n",
        "\n",
        "grid_obj = grid_obj.fit(X_train, y_train)\n",
        "\n",
        "# Set the classifier to the best combination of parameters\n",
        "rf_estimator_tuned = grid_obj.best_estimator_"
      ],
      "metadata": {
        "pycharm": {
          "name": "#%%\n"
        },
        "id": "ga223VxYr3Dp"
      }
    },
    {
      "cell_type": "code",
      "execution_count": null,
      "outputs": [
        {
          "output_type": "execute_result",
          "data": {
            "text/plain": [
              "RandomForestClassifier(class_weight={0: 0.38, 1: 0.62}, min_samples_leaf=3,\n",
              "                       random_state=1)"
            ]
          },
          "metadata": {},
          "execution_count": 22
        }
      ],
      "source": [
        "rf_estimator_tuned.fit(X_train, y_train)\n"
      ],
      "metadata": {
        "pycharm": {
          "name": "#%%\n"
        },
        "colab": {
          "base_uri": "https://localhost:8080/"
        },
        "id": "JWSdB9WDr3Dp",
        "outputId": "a174e68c-5285-46b3-9d1c-6b24965a6b8b"
      }
    },
    {
      "cell_type": "code",
      "execution_count": null,
      "outputs": [
        {
          "output_type": "stream",
          "name": "stdout",
          "text": [
            "              precision    recall  f1-score   support\n",
            "\n",
            "           0       0.86      0.89      0.87       435\n",
            "           1       0.82      0.77      0.79       278\n",
            "\n",
            "    accuracy                           0.84       713\n",
            "   macro avg       0.84      0.83      0.83       713\n",
            "weighted avg       0.84      0.84      0.84       713\n",
            "\n"
          ]
        },
        {
          "output_type": "display_data",
          "data": {
            "text/plain": [
              "<Figure size 576x360 with 2 Axes>"
            ],
            "image/png": "[encoded data removed]"
          },
          "metadata": {}
        }
      ],
      "source": [
        "# Checking performance on the training data\n",
        "y_pred_train_rf_tuned = rf_estimator_tuned.predict(X_train)\n",
        "\n",
        "metrics_score(y_train, y_pred_train_rf_tuned)"
      ],
      "metadata": {
        "pycharm": {
          "name": "#%%\n"
        },
        "colab": {
          "base_uri": "https://localhost:8080/",
          "height": 490
        },
        "id": "htHBPmgor3Dq",
        "outputId": "cd7dd36a-5cad-4185-91c4-a26b5a6b957e"
      }
    },
    {
      "cell_type": "code",
      "execution_count": null,
      "outputs": [
        {
          "output_type": "stream",
          "name": "stdout",
          "text": [
            "              precision    recall  f1-score   support\n",
            "\n",
            "           0       0.84      0.89      0.86       114\n",
            "           1       0.78      0.70      0.74        64\n",
            "\n",
            "    accuracy                           0.82       178\n",
            "   macro avg       0.81      0.79      0.80       178\n",
            "weighted avg       0.82      0.82      0.82       178\n",
            "\n"
          ]
        },
        {
          "output_type": "display_data",
          "data": {
            "text/plain": [
              "<Figure size 576x360 with 2 Axes>"
            ],
            "image/png": "[encoded data removed]"
          },
          "metadata": {}
        }
      ],
      "source": [
        "# Checking performance on the test data\n",
        "y_pred_test_rf_tuned = rf_estimator_tuned.predict(X_test)\n",
        "\n",
        "metrics_score(y_test, y_pred_test_rf_tuned)"
      ],
      "metadata": {
        "pycharm": {
          "name": "#%%\n"
        },
        "colab": {
          "base_uri": "https://localhost:8080/",
          "height": 491
        },
        "id": "_RanXVNAr3Dq",
        "outputId": "5b5bf22c-bfc7-43c6-93e1-66525769c944"
      }
    },
    {
      "cell_type": "markdown",
      "source": [
        "The recall is marginally better"
      ],
      "metadata": {
        "collapsed": false,
        "pycharm": {
          "name": "#%% md\n"
        },
        "id": "lBwxzDh2r3Dq"
      }
    },
    {
      "cell_type": "code",
      "execution_count": null,
      "outputs": [
        {
          "output_type": "execute_result",
          "data": {
            "text/plain": [
              "   Precision    Recall  Accuracy\n",
              "0   0.808764  0.794545  0.820225"
            ],
            "text/html": [
              "\n",
              "  <div id=\"df-378808ff-ad0b-4942-8ebd-acb684e5ff7b\">\n",
              "    <div class=\"colab-df-container\">\n",
              "      <div>\n",
              "<style scoped>\n",
              "    .dataframe tbody tr th:only-of-type {\n",
              "        vertical-align: middle;\n",
              "    }\n",
              "\n",
              "    .dataframe tbody tr th {\n",
              "        vertical-align: top;\n",
              "    }\n",
              "\n",
              "    .dataframe thead th {\n",
              "        text-align: right;\n",
              "    }\n",
              "</style>\n",
              "<table border=\"1\" class=\"dataframe\">\n",
              "  <thead>\n",
              "    <tr style=\"text-align: right;\">\n",
              "      <th></th>\n",
              "      <th>Precision</th>\n",
              "      <th>Recall</th>\n",
              "      <th>Accuracy</th>\n",
              "    </tr>\n",
              "  </thead>\n",
              "  <tbody>\n",
              "    <tr>\n",
              "      <th>0</th>\n",
              "      <td>0.808764</td>\n",
              "      <td>0.794545</td>\n",
              "      <td>0.820225</td>\n",
              "    </tr>\n",
              "  </tbody>\n",
              "</table>\n",
              "</div>\n",
              "      <button class=\"colab-df-convert\" onclick=\"convertToInteractive('df-378808ff-ad0b-4942-8ebd-acb684e5ff7b')\"\n",
              "              title=\"Convert this dataframe to an interactive table.\"\n",
              "              style=\"display:none;\">\n",
              "        \n",
              "  <svg xmlns=\"http://www.w3.org/2000/svg\" height=\"24px\"viewBox=\"0 0 24 24\"\n",
              "       width=\"24px\">\n",
              "    <path d=\"M0 0h24v24H0V0z\" fill=\"none\"/>\n",
              "    <path d=\"M18.56 5.44l.94 2.06.94-2.06 2.06-.94-2.06-.94-.94-2.06-.94 2.06-2.06.94zm-11 1L8.5 8.5l.94-2.06 2.06-.94-2.06-.94L8.5 2.5l-.94 2.06-2.06.94zm10 10l.94 2.06.94-2.06 2.06-.94-2.06-.94-.94-2.06-.94 2.06-2.06.94z\"/><path d=\"M17.41 7.96l-1.37-1.37c-.4-.4-.92-.59-1.43-.59-.52 0-1.04.2-1.43.59L10.3 9.45l-7.72 7.72c-.78.78-.78 2.05 0 2.83L4 21.41c.39.39.9.59 1.41.59.51 0 1.02-.2 1.41-.59l7.78-7.78 2.81-2.81c.8-.78.8-2.07 0-2.86zM5.41 20L4 18.59l7.72-7.72 1.47 1.35L5.41 20z\"/>\n",
              "  </svg>\n",
              "      </button>\n",
              "      \n",
              "  <style>\n",
              "    .colab-df-container {\n",
              "      display:flex;\n",
              "      flex-wrap:wrap;\n",
              "      gap: 12px;\n",
              "    }\n",
              "\n",
              "    .colab-df-convert {\n",
              "      background-color: #E8F0FE;\n",
              "      border: none;\n",
              "      border-radius: 50%;\n",
              "      cursor: pointer;\n",
              "      display: none;\n",
              "      fill: #1967D2;\n",
              "      height: 32px;\n",
              "      padding: 0 0 0 0;\n",
              "      width: 32px;\n",
              "    }\n",
              "\n",
              "    .colab-df-convert:hover {\n",
              "      background-color: #E2EBFA;\n",
              "      box-shadow: 0px 1px 2px rgba(60, 64, 67, 0.3), 0px 1px 3px 1px rgba(60, 64, 67, 0.15);\n",
              "      fill: #174EA6;\n",
              "    }\n",
              "\n",
              "    [theme=dark] .colab-df-convert {\n",
              "      background-color: #3B4455;\n",
              "      fill: #D2E3FC;\n",
              "    }\n",
              "\n",
              "    [theme=dark] .colab-df-convert:hover {\n",
              "      background-color: #434B5C;\n",
              "      box-shadow: 0px 1px 3px 1px rgba(0, 0, 0, 0.15);\n",
              "      filter: drop-shadow(0px 1px 2px rgba(0, 0, 0, 0.3));\n",
              "      fill: #FFFFFF;\n",
              "    }\n",
              "  </style>\n",
              "\n",
              "      <script>\n",
              "        const buttonEl =\n",
              "          document.querySelector('#df-378808ff-ad0b-4942-8ebd-acb684e5ff7b button.colab-df-convert');\n",
              "        buttonEl.style.display =\n",
              "          google.colab.kernel.accessAllowed ? 'block' : 'none';\n",
              "\n",
              "        async function convertToInteractive(key) {\n",
              "          const element = document.querySelector('#df-378808ff-ad0b-4942-8ebd-acb684e5ff7b');\n",
              "          const dataTable =\n",
              "            await google.colab.kernel.invokeFunction('convertToInteractive',\n",
              "                                                     [key], {});\n",
              "          if (!dataTable) return;\n",
              "\n",
              "          const docLinkHtml = 'Like what you see? Visit the ' +\n",
              "            '<a target=\"_blank\" href=https://colab.research.google.com/notebooks/data_table.ipynb>data table notebook</a>'\n",
              "            + ' to learn more about interactive tables.';\n",
              "          element.innerHTML = '';\n",
              "          dataTable['output_type'] = 'display_data';\n",
              "          await google.colab.output.renderOutput(dataTable, element);\n",
              "          const docLink = document.createElement('div');\n",
              "          docLink.innerHTML = docLinkHtml;\n",
              "          element.appendChild(docLink);\n",
              "        }\n",
              "      </script>\n",
              "    </div>\n",
              "  </div>\n",
              "  "
            ]
          },
          "metadata": {},
          "execution_count": 25
        }
      ],
      "source": [
        "rf_estimator_tuned_test = model_performance_classification(rf_estimator_tuned, X_test, y_test)\n",
        "rf_estimator_tuned_test"
      ],
      "metadata": {
        "pycharm": {
          "name": "#%%\n"
        },
        "colab": {
          "base_uri": "https://localhost:8080/",
          "height": 80
        },
        "id": "kxTfKv4Ar3Dr",
        "outputId": "5caf38af-ceea-41a1-f5fb-62e93ffcda08"
      }
    },
    {
      "cell_type": "markdown",
      "source": [
        "Observations:\n",
        "The tuned model is probably not overfitting the training dataset and shows a good performance on the test dataset!\n",
        "\n",
        "The recall for class 1 has improved with a small decrease in precision.\n",
        "\n",
        "This model is the best-performing one among all the models so far, and is giving us good precision and recall scores on the test dataset."
      ],
      "metadata": {
        "collapsed": false,
        "pycharm": {
          "name": "#%% md\n"
        },
        "id": "Sl9be_Ljr3Dr"
      }
    },
    {
      "cell_type": "code",
      "execution_count": null,
      "outputs": [],
      "source": [
        "# # Plotting feature importance\n",
        "# importances = rf_estimator_tuned.feature_importances_\n",
        "\n",
        "# columns = titanic_df[['Pclass', 'Sex', 'Age', 'Embarked', 'FamilySize']].columns\n",
        "\n",
        "# importance_df = pd.DataFrame(importances, index = columns, columns = ['Importance']).sort_values(by = 'Importance', ascending = False)\n",
        "\n",
        "# plt.figure(figsize = (13, 13))\n",
        "\n",
        "# sns.barplot(importance_df.Importance, importance_df.index)"
      ],
      "metadata": {
        "pycharm": {
          "name": "#%%\n"
        },
        "id": "-iyR4v7cr3Ds"
      }
    },
    {
      "cell_type": "markdown",
      "source": [
        "Nothing new"
      ],
      "metadata": {
        "collapsed": false,
        "pycharm": {
          "name": "#%% md\n"
        },
        "id": "_4Hw8ODtr3Ds"
      }
    },
    {
      "cell_type": "markdown",
      "source": [
        "Let's now look at the other kind of Ensemble technique knowns as Boosting"
      ],
      "metadata": {
        "collapsed": false,
        "pycharm": {
          "name": "#%% md\n"
        },
        "id": "s5vy0VcQr3Dt"
      }
    },
    {
      "cell_type": "markdown",
      "source": [
        "### **XGBoost**\n",
        "- XGBoost stands for Extreme Gradient Boosting.\n",
        "- XGBoost is a tree-based ensemble machine learning technique that improves prediction power and performance by improvising on the Gradient Boosting framework and incorporating reliable approximation algorithms. It is widely utilized and routinely appears at the top of competition leader boards in data science."
      ],
      "metadata": {
        "collapsed": false,
        "pycharm": {
          "name": "#%% md\n"
        },
        "id": "VmGVH-oEr3Dt"
      }
    },
    {
      "cell_type": "code",
      "execution_count": null,
      "outputs": [
        {
          "output_type": "stream",
          "name": "stdout",
          "text": [
            "Looking in indexes: https://pypi.org/simple, https://us-python.pkg.dev/colab-wheels/public/simple/\n",
            "Requirement already satisfied: xgboost in /usr/local/lib/python3.8/dist-packages (0.90)\n",
            "Requirement already satisfied: scipy in /usr/local/lib/python3.8/dist-packages (from xgboost) (1.7.3)\n",
            "Requirement already satisfied: numpy in /usr/local/lib/python3.8/dist-packages (from xgboost) (1.21.6)\n"
          ]
        }
      ],
      "source": [
        "# Installing the xgboost library using the 'pip' command.\n",
        "!pip install xgboost"
      ],
      "metadata": {
        "pycharm": {
          "name": "#%%\n"
        },
        "colab": {
          "base_uri": "https://localhost:8080/"
        },
        "id": "xZPMTV5Dr3Du",
        "outputId": "e9cc14ea-3bae-476b-99bf-d1fe7d8e7172"
      }
    },
    {
      "cell_type": "code",
      "execution_count": null,
      "outputs": [],
      "source": [
        "# Importing the AdaBoostClassifier and GradientBoostingClassifier [Boosting]\n",
        "from sklearn.ensemble import AdaBoostClassifier, GradientBoostingClassifier\n",
        "\n",
        "# Importing the XGBClassifier from the xgboost library\n",
        "from xgboost import XGBClassifier"
      ],
      "metadata": {
        "pycharm": {
          "name": "#%%\n"
        },
        "id": "Ubc75PhGr3Dv"
      }
    },
    {
      "cell_type": "code",
      "execution_count": null,
      "outputs": [
        {
          "output_type": "execute_result",
          "data": {
            "text/plain": [
              "   Precision    Recall  Accuracy\n",
              "0   0.807062  0.797971  0.820225"
            ],
            "text/html": [
              "\n",
              "  <div id=\"df-236b196c-c34f-4e19-aedc-6ab84a7f3013\">\n",
              "    <div class=\"colab-df-container\">\n",
              "      <div>\n",
              "<style scoped>\n",
              "    .dataframe tbody tr th:only-of-type {\n",
              "        vertical-align: middle;\n",
              "    }\n",
              "\n",
              "    .dataframe tbody tr th {\n",
              "        vertical-align: top;\n",
              "    }\n",
              "\n",
              "    .dataframe thead th {\n",
              "        text-align: right;\n",
              "    }\n",
              "</style>\n",
              "<table border=\"1\" class=\"dataframe\">\n",
              "  <thead>\n",
              "    <tr style=\"text-align: right;\">\n",
              "      <th></th>\n",
              "      <th>Precision</th>\n",
              "      <th>Recall</th>\n",
              "      <th>Accuracy</th>\n",
              "    </tr>\n",
              "  </thead>\n",
              "  <tbody>\n",
              "    <tr>\n",
              "      <th>0</th>\n",
              "      <td>0.807062</td>\n",
              "      <td>0.797971</td>\n",
              "      <td>0.820225</td>\n",
              "    </tr>\n",
              "  </tbody>\n",
              "</table>\n",
              "</div>\n",
              "      <button class=\"colab-df-convert\" onclick=\"convertToInteractive('df-236b196c-c34f-4e19-aedc-6ab84a7f3013')\"\n",
              "              title=\"Convert this dataframe to an interactive table.\"\n",
              "              style=\"display:none;\">\n",
              "        \n",
              "  <svg xmlns=\"http://www.w3.org/2000/svg\" height=\"24px\"viewBox=\"0 0 24 24\"\n",
              "       width=\"24px\">\n",
              "    <path d=\"M0 0h24v24H0V0z\" fill=\"none\"/>\n",
              "    <path d=\"M18.56 5.44l.94 2.06.94-2.06 2.06-.94-2.06-.94-.94-2.06-.94 2.06-2.06.94zm-11 1L8.5 8.5l.94-2.06 2.06-.94-2.06-.94L8.5 2.5l-.94 2.06-2.06.94zm10 10l.94 2.06.94-2.06 2.06-.94-2.06-.94-.94-2.06-.94 2.06-2.06.94z\"/><path d=\"M17.41 7.96l-1.37-1.37c-.4-.4-.92-.59-1.43-.59-.52 0-1.04.2-1.43.59L10.3 9.45l-7.72 7.72c-.78.78-.78 2.05 0 2.83L4 21.41c.39.39.9.59 1.41.59.51 0 1.02-.2 1.41-.59l7.78-7.78 2.81-2.81c.8-.78.8-2.07 0-2.86zM5.41 20L4 18.59l7.72-7.72 1.47 1.35L5.41 20z\"/>\n",
              "  </svg>\n",
              "      </button>\n",
              "      \n",
              "  <style>\n",
              "    .colab-df-container {\n",
              "      display:flex;\n",
              "      flex-wrap:wrap;\n",
              "      gap: 12px;\n",
              "    }\n",
              "\n",
              "    .colab-df-convert {\n",
              "      background-color: #E8F0FE;\n",
              "      border: none;\n",
              "      border-radius: 50%;\n",
              "      cursor: pointer;\n",
              "      display: none;\n",
              "      fill: #1967D2;\n",
              "      height: 32px;\n",
              "      padding: 0 0 0 0;\n",
              "      width: 32px;\n",
              "    }\n",
              "\n",
              "    .colab-df-convert:hover {\n",
              "      background-color: #E2EBFA;\n",
              "      box-shadow: 0px 1px 2px rgba(60, 64, 67, 0.3), 0px 1px 3px 1px rgba(60, 64, 67, 0.15);\n",
              "      fill: #174EA6;\n",
              "    }\n",
              "\n",
              "    [theme=dark] .colab-df-convert {\n",
              "      background-color: #3B4455;\n",
              "      fill: #D2E3FC;\n",
              "    }\n",
              "\n",
              "    [theme=dark] .colab-df-convert:hover {\n",
              "      background-color: #434B5C;\n",
              "      box-shadow: 0px 1px 3px 1px rgba(0, 0, 0, 0.15);\n",
              "      filter: drop-shadow(0px 1px 2px rgba(0, 0, 0, 0.3));\n",
              "      fill: #FFFFFF;\n",
              "    }\n",
              "  </style>\n",
              "\n",
              "      <script>\n",
              "        const buttonEl =\n",
              "          document.querySelector('#df-236b196c-c34f-4e19-aedc-6ab84a7f3013 button.colab-df-convert');\n",
              "        buttonEl.style.display =\n",
              "          google.colab.kernel.accessAllowed ? 'block' : 'none';\n",
              "\n",
              "        async function convertToInteractive(key) {\n",
              "          const element = document.querySelector('#df-236b196c-c34f-4e19-aedc-6ab84a7f3013');\n",
              "          const dataTable =\n",
              "            await google.colab.kernel.invokeFunction('convertToInteractive',\n",
              "                                                     [key], {});\n",
              "          if (!dataTable) return;\n",
              "\n",
              "          const docLinkHtml = 'Like what you see? Visit the ' +\n",
              "            '<a target=\"_blank\" href=https://colab.research.google.com/notebooks/data_table.ipynb>data table notebook</a>'\n",
              "            + ' to learn more about interactive tables.';\n",
              "          element.innerHTML = '';\n",
              "          dataTable['output_type'] = 'display_data';\n",
              "          await google.colab.output.renderOutput(dataTable, element);\n",
              "          const docLink = document.createElement('div');\n",
              "          docLink.innerHTML = docLinkHtml;\n",
              "          element.appendChild(docLink);\n",
              "        }\n",
              "      </script>\n",
              "    </div>\n",
              "  </div>\n",
              "  "
            ]
          },
          "metadata": {},
          "execution_count": 29
        }
      ],
      "source": [
        "# Adaboost Classifier\n",
        "adaboost_model = AdaBoostClassifier(random_state = 1)\n",
        "\n",
        "# Fitting the model\n",
        "adaboost_model.fit(X_train, y_train)\n",
        "\n",
        "# Model Performance on the test data\n",
        "adaboost_model_perf_test = model_performance_classification(adaboost_model,X_test,y_test)\n",
        "\n",
        "\n",
        "adaboost_model_perf_test"
      ],
      "metadata": {
        "pycharm": {
          "name": "#%%\n"
        },
        "colab": {
          "base_uri": "https://localhost:8080/",
          "height": 80
        },
        "id": "b9c8-tjAr3Dx",
        "outputId": "adf4adf5-a218-48a0-ad5b-3518dc38081a"
      }
    },
    {
      "cell_type": "code",
      "execution_count": null,
      "outputs": [
        {
          "output_type": "execute_result",
          "data": {
            "text/plain": [
              "   Precision    Recall  Accuracy\n",
              "0   0.820156  0.780839  0.820225"
            ],
            "text/html": [
              "\n",
              "  <div id=\"df-ebe5c123-4934-42c6-a297-6d0128a01ff5\">\n",
              "    <div class=\"colab-df-container\">\n",
              "      <div>\n",
              "<style scoped>\n",
              "    .dataframe tbody tr th:only-of-type {\n",
              "        vertical-align: middle;\n",
              "    }\n",
              "\n",
              "    .dataframe tbody tr th {\n",
              "        vertical-align: top;\n",
              "    }\n",
              "\n",
              "    .dataframe thead th {\n",
              "        text-align: right;\n",
              "    }\n",
              "</style>\n",
              "<table border=\"1\" class=\"dataframe\">\n",
              "  <thead>\n",
              "    <tr style=\"text-align: right;\">\n",
              "      <th></th>\n",
              "      <th>Precision</th>\n",
              "      <th>Recall</th>\n",
              "      <th>Accuracy</th>\n",
              "    </tr>\n",
              "  </thead>\n",
              "  <tbody>\n",
              "    <tr>\n",
              "      <th>0</th>\n",
              "      <td>0.820156</td>\n",
              "      <td>0.780839</td>\n",
              "      <td>0.820225</td>\n",
              "    </tr>\n",
              "  </tbody>\n",
              "</table>\n",
              "</div>\n",
              "      <button class=\"colab-df-convert\" onclick=\"convertToInteractive('df-ebe5c123-4934-42c6-a297-6d0128a01ff5')\"\n",
              "              title=\"Convert this dataframe to an interactive table.\"\n",
              "              style=\"display:none;\">\n",
              "        \n",
              "  <svg xmlns=\"http://www.w3.org/2000/svg\" height=\"24px\"viewBox=\"0 0 24 24\"\n",
              "       width=\"24px\">\n",
              "    <path d=\"M0 0h24v24H0V0z\" fill=\"none\"/>\n",
              "    <path d=\"M18.56 5.44l.94 2.06.94-2.06 2.06-.94-2.06-.94-.94-2.06-.94 2.06-2.06.94zm-11 1L8.5 8.5l.94-2.06 2.06-.94-2.06-.94L8.5 2.5l-.94 2.06-2.06.94zm10 10l.94 2.06.94-2.06 2.06-.94-2.06-.94-.94-2.06-.94 2.06-2.06.94z\"/><path d=\"M17.41 7.96l-1.37-1.37c-.4-.4-.92-.59-1.43-.59-.52 0-1.04.2-1.43.59L10.3 9.45l-7.72 7.72c-.78.78-.78 2.05 0 2.83L4 21.41c.39.39.9.59 1.41.59.51 0 1.02-.2 1.41-.59l7.78-7.78 2.81-2.81c.8-.78.8-2.07 0-2.86zM5.41 20L4 18.59l7.72-7.72 1.47 1.35L5.41 20z\"/>\n",
              "  </svg>\n",
              "      </button>\n",
              "      \n",
              "  <style>\n",
              "    .colab-df-container {\n",
              "      display:flex;\n",
              "      flex-wrap:wrap;\n",
              "      gap: 12px;\n",
              "    }\n",
              "\n",
              "    .colab-df-convert {\n",
              "      background-color: #E8F0FE;\n",
              "      border: none;\n",
              "      border-radius: 50%;\n",
              "      cursor: pointer;\n",
              "      display: none;\n",
              "      fill: #1967D2;\n",
              "      height: 32px;\n",
              "      padding: 0 0 0 0;\n",
              "      width: 32px;\n",
              "    }\n",
              "\n",
              "    .colab-df-convert:hover {\n",
              "      background-color: #E2EBFA;\n",
              "      box-shadow: 0px 1px 2px rgba(60, 64, 67, 0.3), 0px 1px 3px 1px rgba(60, 64, 67, 0.15);\n",
              "      fill: #174EA6;\n",
              "    }\n",
              "\n",
              "    [theme=dark] .colab-df-convert {\n",
              "      background-color: #3B4455;\n",
              "      fill: #D2E3FC;\n",
              "    }\n",
              "\n",
              "    [theme=dark] .colab-df-convert:hover {\n",
              "      background-color: #434B5C;\n",
              "      box-shadow: 0px 1px 3px 1px rgba(0, 0, 0, 0.15);\n",
              "      filter: drop-shadow(0px 1px 2px rgba(0, 0, 0, 0.3));\n",
              "      fill: #FFFFFF;\n",
              "    }\n",
              "  </style>\n",
              "\n",
              "      <script>\n",
              "        const buttonEl =\n",
              "          document.querySelector('#df-ebe5c123-4934-42c6-a297-6d0128a01ff5 button.colab-df-convert');\n",
              "        buttonEl.style.display =\n",
              "          google.colab.kernel.accessAllowed ? 'block' : 'none';\n",
              "\n",
              "        async function convertToInteractive(key) {\n",
              "          const element = document.querySelector('#df-ebe5c123-4934-42c6-a297-6d0128a01ff5');\n",
              "          const dataTable =\n",
              "            await google.colab.kernel.invokeFunction('convertToInteractive',\n",
              "                                                     [key], {});\n",
              "          if (!dataTable) return;\n",
              "\n",
              "          const docLinkHtml = 'Like what you see? Visit the ' +\n",
              "            '<a target=\"_blank\" href=https://colab.research.google.com/notebooks/data_table.ipynb>data table notebook</a>'\n",
              "            + ' to learn more about interactive tables.';\n",
              "          element.innerHTML = '';\n",
              "          dataTable['output_type'] = 'display_data';\n",
              "          await google.colab.output.renderOutput(dataTable, element);\n",
              "          const docLink = document.createElement('div');\n",
              "          docLink.innerHTML = docLinkHtml;\n",
              "          element.appendChild(docLink);\n",
              "        }\n",
              "      </script>\n",
              "    </div>\n",
              "  </div>\n",
              "  "
            ]
          },
          "metadata": {},
          "execution_count": 30
        }
      ],
      "source": [
        "# Gradient Boost Classifier\n",
        "gbc = GradientBoostingClassifier(random_state = 1)\n",
        "\n",
        "# Fitting the model\n",
        "gbc.fit(X_train, y_train)\n",
        "\n",
        "# Model Performance on the test data\n",
        "gbc_perf_test = model_performance_classification(gbc, X_test, y_test)\n",
        "\n",
        "gbc_perf_test"
      ],
      "metadata": {
        "pycharm": {
          "name": "#%%\n"
        },
        "colab": {
          "base_uri": "https://localhost:8080/",
          "height": 80
        },
        "id": "20bKnsk6r3Dx",
        "outputId": "bb16432f-c401-4823-e12c-a07f0542076b"
      }
    },
    {
      "cell_type": "code",
      "execution_count": null,
      "outputs": [],
      "source": [
        "X_train.info()"
      ],
      "metadata": {
        "pycharm": {
          "name": "#%%\n"
        },
        "id": "_Cj_gZC_r3Dy"
      }
    },
    {
      "cell_type": "code",
      "execution_count": null,
      "outputs": [
        {
          "output_type": "execute_result",
          "data": {
            "text/plain": [
              "   Precision   Recall  Accuracy\n",
              "0    0.80625  0.76864  0.808989"
            ],
            "text/html": [
              "\n",
              "  <div id=\"df-432e849d-7498-45ef-a049-951aedf0e6ef\">\n",
              "    <div class=\"colab-df-container\">\n",
              "      <div>\n",
              "<style scoped>\n",
              "    .dataframe tbody tr th:only-of-type {\n",
              "        vertical-align: middle;\n",
              "    }\n",
              "\n",
              "    .dataframe tbody tr th {\n",
              "        vertical-align: top;\n",
              "    }\n",
              "\n",
              "    .dataframe thead th {\n",
              "        text-align: right;\n",
              "    }\n",
              "</style>\n",
              "<table border=\"1\" class=\"dataframe\">\n",
              "  <thead>\n",
              "    <tr style=\"text-align: right;\">\n",
              "      <th></th>\n",
              "      <th>Precision</th>\n",
              "      <th>Recall</th>\n",
              "      <th>Accuracy</th>\n",
              "    </tr>\n",
              "  </thead>\n",
              "  <tbody>\n",
              "    <tr>\n",
              "      <th>0</th>\n",
              "      <td>0.80625</td>\n",
              "      <td>0.76864</td>\n",
              "      <td>0.808989</td>\n",
              "    </tr>\n",
              "  </tbody>\n",
              "</table>\n",
              "</div>\n",
              "      <button class=\"colab-df-convert\" onclick=\"convertToInteractive('df-432e849d-7498-45ef-a049-951aedf0e6ef')\"\n",
              "              title=\"Convert this dataframe to an interactive table.\"\n",
              "              style=\"display:none;\">\n",
              "        \n",
              "  <svg xmlns=\"http://www.w3.org/2000/svg\" height=\"24px\"viewBox=\"0 0 24 24\"\n",
              "       width=\"24px\">\n",
              "    <path d=\"M0 0h24v24H0V0z\" fill=\"none\"/>\n",
              "    <path d=\"M18.56 5.44l.94 2.06.94-2.06 2.06-.94-2.06-.94-.94-2.06-.94 2.06-2.06.94zm-11 1L8.5 8.5l.94-2.06 2.06-.94-2.06-.94L8.5 2.5l-.94 2.06-2.06.94zm10 10l.94 2.06.94-2.06 2.06-.94-2.06-.94-.94-2.06-.94 2.06-2.06.94z\"/><path d=\"M17.41 7.96l-1.37-1.37c-.4-.4-.92-.59-1.43-.59-.52 0-1.04.2-1.43.59L10.3 9.45l-7.72 7.72c-.78.78-.78 2.05 0 2.83L4 21.41c.39.39.9.59 1.41.59.51 0 1.02-.2 1.41-.59l7.78-7.78 2.81-2.81c.8-.78.8-2.07 0-2.86zM5.41 20L4 18.59l7.72-7.72 1.47 1.35L5.41 20z\"/>\n",
              "  </svg>\n",
              "      </button>\n",
              "      \n",
              "  <style>\n",
              "    .colab-df-container {\n",
              "      display:flex;\n",
              "      flex-wrap:wrap;\n",
              "      gap: 12px;\n",
              "    }\n",
              "\n",
              "    .colab-df-convert {\n",
              "      background-color: #E8F0FE;\n",
              "      border: none;\n",
              "      border-radius: 50%;\n",
              "      cursor: pointer;\n",
              "      display: none;\n",
              "      fill: #1967D2;\n",
              "      height: 32px;\n",
              "      padding: 0 0 0 0;\n",
              "      width: 32px;\n",
              "    }\n",
              "\n",
              "    .colab-df-convert:hover {\n",
              "      background-color: #E2EBFA;\n",
              "      box-shadow: 0px 1px 2px rgba(60, 64, 67, 0.3), 0px 1px 3px 1px rgba(60, 64, 67, 0.15);\n",
              "      fill: #174EA6;\n",
              "    }\n",
              "\n",
              "    [theme=dark] .colab-df-convert {\n",
              "      background-color: #3B4455;\n",
              "      fill: #D2E3FC;\n",
              "    }\n",
              "\n",
              "    [theme=dark] .colab-df-convert:hover {\n",
              "      background-color: #434B5C;\n",
              "      box-shadow: 0px 1px 3px 1px rgba(0, 0, 0, 0.15);\n",
              "      filter: drop-shadow(0px 1px 2px rgba(0, 0, 0, 0.3));\n",
              "      fill: #FFFFFF;\n",
              "    }\n",
              "  </style>\n",
              "\n",
              "      <script>\n",
              "        const buttonEl =\n",
              "          document.querySelector('#df-432e849d-7498-45ef-a049-951aedf0e6ef button.colab-df-convert');\n",
              "        buttonEl.style.display =\n",
              "          google.colab.kernel.accessAllowed ? 'block' : 'none';\n",
              "\n",
              "        async function convertToInteractive(key) {\n",
              "          const element = document.querySelector('#df-432e849d-7498-45ef-a049-951aedf0e6ef');\n",
              "          const dataTable =\n",
              "            await google.colab.kernel.invokeFunction('convertToInteractive',\n",
              "                                                     [key], {});\n",
              "          if (!dataTable) return;\n",
              "\n",
              "          const docLinkHtml = 'Like what you see? Visit the ' +\n",
              "            '<a target=\"_blank\" href=https://colab.research.google.com/notebooks/data_table.ipynb>data table notebook</a>'\n",
              "            + ' to learn more about interactive tables.';\n",
              "          element.innerHTML = '';\n",
              "          dataTable['output_type'] = 'display_data';\n",
              "          await google.colab.output.renderOutput(dataTable, element);\n",
              "          const docLink = document.createElement('div');\n",
              "          docLink.innerHTML = docLinkHtml;\n",
              "          element.appendChild(docLink);\n",
              "        }\n",
              "      </script>\n",
              "    </div>\n",
              "  </div>\n",
              "  "
            ]
          },
          "metadata": {},
          "execution_count": 74
        }
      ],
      "source": [
        "# XGBoost Classifier\n",
        "xgb = XGBClassifier(random_state = 1, eval_metric = 'error')\n",
        "\n",
        "# Fitting the model\n",
        "xgb.fit(X_train,y_train)\n",
        "\n",
        "# Model Performance on the test data\n",
        "xgb_perf_test = model_performance_classification(xgb,X_test,y_test)\n",
        "\n",
        "xgb_perf_test"
      ],
      "metadata": {
        "pycharm": {
          "name": "#%%\n"
        },
        "colab": {
          "base_uri": "https://localhost:8080/",
          "height": 80
        },
        "id": "sHgaOQ1Lr3Dy",
        "outputId": "d810acca-9e6e-4ce1-b5e2-d99cde4e7d0b"
      }
    },
    {
      "cell_type": "code",
      "execution_count": null,
      "outputs": [
        {
          "output_type": "stream",
          "name": "stdout",
          "text": [
            "Test performance comparison:\n"
          ]
        }
      ],
      "source": [
        "models_test_comp_df = pd.concat(\n",
        "\n",
        "    [\n",
        "        model_performance_classification(rf_estimator,X_test,y_test).T,\n",
        "        rf_estimator_tuned_test.T, adaboost_model_perf_test.T,\n",
        "        gbc_perf_test.T, xgb_perf_test.T\n",
        "    ],\n",
        "\n",
        "    axis=1,\n",
        ")\n",
        "\n",
        "models_test_comp_df.columns = [\n",
        "    \"Random Forest classifier\",\n",
        "    \"Tuned Random Forest classifier\",\n",
        "    \"Adaboost classifier\",\n",
        "    \"Gradientboost classifier\",\n",
        "    \"XGBoost classifier\"\n",
        "]\n",
        "\n",
        "print(\"Test performance comparison:\")\n"
      ],
      "metadata": {
        "pycharm": {
          "name": "#%%\n"
        },
        "colab": {
          "base_uri": "https://localhost:8080/"
        },
        "id": "a3yLBAeGr3Dz",
        "outputId": "98daa853-4d15-476d-cb72-e1e05f959b3c"
      }
    },
    {
      "cell_type": "code",
      "execution_count": null,
      "outputs": [
        {
          "output_type": "execute_result",
          "data": {
            "text/plain": [
              "           Random Forest classifier  Tuned Random Forest classifier  \\\n",
              "Precision                  0.800179                        0.808764   \n",
              "Recall                     0.775493                        0.794545   \n",
              "Accuracy                   0.808989                        0.820225   \n",
              "\n",
              "           Adaboost classifier  Gradientboost classifier  XGBoost classifier  \n",
              "Precision             0.807062                  0.820156            0.806250  \n",
              "Recall                0.797971                  0.780839            0.768640  \n",
              "Accuracy              0.820225                  0.820225            0.808989  "
            ],
            "text/html": [
              "\n",
              "  <div id=\"df-2c463b3f-78fd-4299-af91-07a0ad59a638\">\n",
              "    <div class=\"colab-df-container\">\n",
              "      <div>\n",
              "<style scoped>\n",
              "    .dataframe tbody tr th:only-of-type {\n",
              "        vertical-align: middle;\n",
              "    }\n",
              "\n",
              "    .dataframe tbody tr th {\n",
              "        vertical-align: top;\n",
              "    }\n",
              "\n",
              "    .dataframe thead th {\n",
              "        text-align: right;\n",
              "    }\n",
              "</style>\n",
              "<table border=\"1\" class=\"dataframe\">\n",
              "  <thead>\n",
              "    <tr style=\"text-align: right;\">\n",
              "      <th></th>\n",
              "      <th>Random Forest classifier</th>\n",
              "      <th>Tuned Random Forest classifier</th>\n",
              "      <th>Adaboost classifier</th>\n",
              "      <th>Gradientboost classifier</th>\n",
              "      <th>XGBoost classifier</th>\n",
              "    </tr>\n",
              "  </thead>\n",
              "  <tbody>\n",
              "    <tr>\n",
              "      <th>Precision</th>\n",
              "      <td>0.800179</td>\n",
              "      <td>0.808764</td>\n",
              "      <td>0.807062</td>\n",
              "      <td>0.820156</td>\n",
              "      <td>0.806250</td>\n",
              "    </tr>\n",
              "    <tr>\n",
              "      <th>Recall</th>\n",
              "      <td>0.775493</td>\n",
              "      <td>0.794545</td>\n",
              "      <td>0.797971</td>\n",
              "      <td>0.780839</td>\n",
              "      <td>0.768640</td>\n",
              "    </tr>\n",
              "    <tr>\n",
              "      <th>Accuracy</th>\n",
              "      <td>0.808989</td>\n",
              "      <td>0.820225</td>\n",
              "      <td>0.820225</td>\n",
              "      <td>0.820225</td>\n",
              "      <td>0.808989</td>\n",
              "    </tr>\n",
              "  </tbody>\n",
              "</table>\n",
              "</div>\n",
              "      <button class=\"colab-df-convert\" onclick=\"convertToInteractive('df-2c463b3f-78fd-4299-af91-07a0ad59a638')\"\n",
              "              title=\"Convert this dataframe to an interactive table.\"\n",
              "              style=\"display:none;\">\n",
              "        \n",
              "  <svg xmlns=\"http://www.w3.org/2000/svg\" height=\"24px\"viewBox=\"0 0 24 24\"\n",
              "       width=\"24px\">\n",
              "    <path d=\"M0 0h24v24H0V0z\" fill=\"none\"/>\n",
              "    <path d=\"M18.56 5.44l.94 2.06.94-2.06 2.06-.94-2.06-.94-.94-2.06-.94 2.06-2.06.94zm-11 1L8.5 8.5l.94-2.06 2.06-.94-2.06-.94L8.5 2.5l-.94 2.06-2.06.94zm10 10l.94 2.06.94-2.06 2.06-.94-2.06-.94-.94-2.06-.94 2.06-2.06.94z\"/><path d=\"M17.41 7.96l-1.37-1.37c-.4-.4-.92-.59-1.43-.59-.52 0-1.04.2-1.43.59L10.3 9.45l-7.72 7.72c-.78.78-.78 2.05 0 2.83L4 21.41c.39.39.9.59 1.41.59.51 0 1.02-.2 1.41-.59l7.78-7.78 2.81-2.81c.8-.78.8-2.07 0-2.86zM5.41 20L4 18.59l7.72-7.72 1.47 1.35L5.41 20z\"/>\n",
              "  </svg>\n",
              "      </button>\n",
              "      \n",
              "  <style>\n",
              "    .colab-df-container {\n",
              "      display:flex;\n",
              "      flex-wrap:wrap;\n",
              "      gap: 12px;\n",
              "    }\n",
              "\n",
              "    .colab-df-convert {\n",
              "      background-color: #E8F0FE;\n",
              "      border: none;\n",
              "      border-radius: 50%;\n",
              "      cursor: pointer;\n",
              "      display: none;\n",
              "      fill: #1967D2;\n",
              "      height: 32px;\n",
              "      padding: 0 0 0 0;\n",
              "      width: 32px;\n",
              "    }\n",
              "\n",
              "    .colab-df-convert:hover {\n",
              "      background-color: #E2EBFA;\n",
              "      box-shadow: 0px 1px 2px rgba(60, 64, 67, 0.3), 0px 1px 3px 1px rgba(60, 64, 67, 0.15);\n",
              "      fill: #174EA6;\n",
              "    }\n",
              "\n",
              "    [theme=dark] .colab-df-convert {\n",
              "      background-color: #3B4455;\n",
              "      fill: #D2E3FC;\n",
              "    }\n",
              "\n",
              "    [theme=dark] .colab-df-convert:hover {\n",
              "      background-color: #434B5C;\n",
              "      box-shadow: 0px 1px 3px 1px rgba(0, 0, 0, 0.15);\n",
              "      filter: drop-shadow(0px 1px 2px rgba(0, 0, 0, 0.3));\n",
              "      fill: #FFFFFF;\n",
              "    }\n",
              "  </style>\n",
              "\n",
              "      <script>\n",
              "        const buttonEl =\n",
              "          document.querySelector('#df-2c463b3f-78fd-4299-af91-07a0ad59a638 button.colab-df-convert');\n",
              "        buttonEl.style.display =\n",
              "          google.colab.kernel.accessAllowed ? 'block' : 'none';\n",
              "\n",
              "        async function convertToInteractive(key) {\n",
              "          const element = document.querySelector('#df-2c463b3f-78fd-4299-af91-07a0ad59a638');\n",
              "          const dataTable =\n",
              "            await google.colab.kernel.invokeFunction('convertToInteractive',\n",
              "                                                     [key], {});\n",
              "          if (!dataTable) return;\n",
              "\n",
              "          const docLinkHtml = 'Like what you see? Visit the ' +\n",
              "            '<a target=\"_blank\" href=https://colab.research.google.com/notebooks/data_table.ipynb>data table notebook</a>'\n",
              "            + ' to learn more about interactive tables.';\n",
              "          element.innerHTML = '';\n",
              "          dataTable['output_type'] = 'display_data';\n",
              "          await google.colab.output.renderOutput(dataTable, element);\n",
              "          const docLink = document.createElement('div');\n",
              "          docLink.innerHTML = docLinkHtml;\n",
              "          element.appendChild(docLink);\n",
              "        }\n",
              "      </script>\n",
              "    </div>\n",
              "  </div>\n",
              "  "
            ]
          },
          "metadata": {},
          "execution_count": 34
        }
      ],
      "source": [
        "models_test_comp_df"
      ],
      "metadata": {
        "pycharm": {
          "name": "#%%\n"
        },
        "colab": {
          "base_uri": "https://localhost:8080/",
          "height": 220
        },
        "id": "wHsdjYH-r3D0",
        "outputId": "832fba61-6eb7-476e-c485-d44aa8d126f5"
      }
    },
    {
      "cell_type": "markdown",
      "source": [
        "\n",
        "\n",
        "```\n",
        "# This is formatted as code\n",
        "```\n",
        "\n",
        "RF estimator tuned is the best"
      ],
      "metadata": {
        "collapsed": false,
        "pycharm": {
          "name": "#%% md\n"
        },
        "id": "FpB9uokFr3D1"
      }
    },
    {
      "cell_type": "code",
      "execution_count": null,
      "outputs": [],
      "source": [
        "test_data = pd.read_csv(\"test.csv\")"
      ],
      "metadata": {
        "pycharm": {
          "name": "#%%\n"
        },
        "id": "O2haU1yjr3D4"
      }
    },
    {
      "cell_type": "code",
      "execution_count": null,
      "outputs": [
        {
          "output_type": "stream",
          "name": "stdout",
          "text": [
            "<class 'pandas.core.frame.DataFrame'>\n",
            "RangeIndex: 418 entries, 0 to 417\n",
            "Data columns (total 11 columns):\n",
            " #   Column       Non-Null Count  Dtype  \n",
            "---  ------       --------------  -----  \n",
            " 0   PassengerId  418 non-null    int64  \n",
            " 1   Pclass       418 non-null    int64  \n",
            " 2   Name         418 non-null    object \n",
            " 3   Sex          418 non-null    object \n",
            " 4   Age          332 non-null    float64\n",
            " 5   SibSp        418 non-null    int64  \n",
            " 6   Parch        418 non-null    int64  \n",
            " 7   Ticket       418 non-null    object \n",
            " 8   Fare         417 non-null    float64\n",
            " 9   Cabin        91 non-null     object \n",
            " 10  Embarked     418 non-null    object \n",
            "dtypes: float64(2), int64(4), object(5)\n",
            "memory usage: 36.0+ KB\n"
          ]
        }
      ],
      "source": [
        "test_data.info()"
      ],
      "metadata": {
        "pycharm": {
          "name": "#%%\n"
        },
        "colab": {
          "base_uri": "https://localhost:8080/"
        },
        "id": "udzFzkDqr3D6",
        "outputId": "0def2928-adc3-4a2d-a405-70d71cbf74e8"
      }
    },
    {
      "cell_type": "code",
      "execution_count": null,
      "outputs": [
        {
          "output_type": "execute_result",
          "data": {
            "text/plain": [
              "     Pclass     Sex    Age  SibSp  Parch Embarked  FamilySize\n",
              "153       3  female  25-40      0      2        S           2\n",
              "160       3  female    NaN      0      0        Q           0\n",
              "54        2    male    NaN      0      0        C           0\n",
              "393       2    male  40-65      0      0        S           0\n",
              "10        3    male    NaN      0      0        S           0\n",
              "364       1  female  13-25      1      0        C           1\n",
              "347       3  female  25-40      0      0        C           0\n",
              "102       3    male    NaN      0      0        Q           0\n",
              "107       3    male    NaN      0      0        Q           0\n",
              "219       3    male    NaN      0      0        S           0"
            ],
            "text/html": [
              "\n",
              "  <div id=\"df-bc5dc8bd-85df-45a6-a249-b4d3d6d614e0\">\n",
              "    <div class=\"colab-df-container\">\n",
              "      <div>\n",
              "<style scoped>\n",
              "    .dataframe tbody tr th:only-of-type {\n",
              "        vertical-align: middle;\n",
              "    }\n",
              "\n",
              "    .dataframe tbody tr th {\n",
              "        vertical-align: top;\n",
              "    }\n",
              "\n",
              "    .dataframe thead th {\n",
              "        text-align: right;\n",
              "    }\n",
              "</style>\n",
              "<table border=\"1\" class=\"dataframe\">\n",
              "  <thead>\n",
              "    <tr style=\"text-align: right;\">\n",
              "      <th></th>\n",
              "      <th>Pclass</th>\n",
              "      <th>Sex</th>\n",
              "      <th>Age</th>\n",
              "      <th>SibSp</th>\n",
              "      <th>Parch</th>\n",
              "      <th>Embarked</th>\n",
              "      <th>FamilySize</th>\n",
              "    </tr>\n",
              "  </thead>\n",
              "  <tbody>\n",
              "    <tr>\n",
              "      <th>153</th>\n",
              "      <td>3</td>\n",
              "      <td>female</td>\n",
              "      <td>25-40</td>\n",
              "      <td>0</td>\n",
              "      <td>2</td>\n",
              "      <td>S</td>\n",
              "      <td>2</td>\n",
              "    </tr>\n",
              "    <tr>\n",
              "      <th>160</th>\n",
              "      <td>3</td>\n",
              "      <td>female</td>\n",
              "      <td>NaN</td>\n",
              "      <td>0</td>\n",
              "      <td>0</td>\n",
              "      <td>Q</td>\n",
              "      <td>0</td>\n",
              "    </tr>\n",
              "    <tr>\n",
              "      <th>54</th>\n",
              "      <td>2</td>\n",
              "      <td>male</td>\n",
              "      <td>NaN</td>\n",
              "      <td>0</td>\n",
              "      <td>0</td>\n",
              "      <td>C</td>\n",
              "      <td>0</td>\n",
              "    </tr>\n",
              "    <tr>\n",
              "      <th>393</th>\n",
              "      <td>2</td>\n",
              "      <td>male</td>\n",
              "      <td>40-65</td>\n",
              "      <td>0</td>\n",
              "      <td>0</td>\n",
              "      <td>S</td>\n",
              "      <td>0</td>\n",
              "    </tr>\n",
              "    <tr>\n",
              "      <th>10</th>\n",
              "      <td>3</td>\n",
              "      <td>male</td>\n",
              "      <td>NaN</td>\n",
              "      <td>0</td>\n",
              "      <td>0</td>\n",
              "      <td>S</td>\n",
              "      <td>0</td>\n",
              "    </tr>\n",
              "    <tr>\n",
              "      <th>364</th>\n",
              "      <td>1</td>\n",
              "      <td>female</td>\n",
              "      <td>13-25</td>\n",
              "      <td>1</td>\n",
              "      <td>0</td>\n",
              "      <td>C</td>\n",
              "      <td>1</td>\n",
              "    </tr>\n",
              "    <tr>\n",
              "      <th>347</th>\n",
              "      <td>3</td>\n",
              "      <td>female</td>\n",
              "      <td>25-40</td>\n",
              "      <td>0</td>\n",
              "      <td>0</td>\n",
              "      <td>C</td>\n",
              "      <td>0</td>\n",
              "    </tr>\n",
              "    <tr>\n",
              "      <th>102</th>\n",
              "      <td>3</td>\n",
              "      <td>male</td>\n",
              "      <td>NaN</td>\n",
              "      <td>0</td>\n",
              "      <td>0</td>\n",
              "      <td>Q</td>\n",
              "      <td>0</td>\n",
              "    </tr>\n",
              "    <tr>\n",
              "      <th>107</th>\n",
              "      <td>3</td>\n",
              "      <td>male</td>\n",
              "      <td>NaN</td>\n",
              "      <td>0</td>\n",
              "      <td>0</td>\n",
              "      <td>Q</td>\n",
              "      <td>0</td>\n",
              "    </tr>\n",
              "    <tr>\n",
              "      <th>219</th>\n",
              "      <td>3</td>\n",
              "      <td>male</td>\n",
              "      <td>NaN</td>\n",
              "      <td>0</td>\n",
              "      <td>0</td>\n",
              "      <td>S</td>\n",
              "      <td>0</td>\n",
              "    </tr>\n",
              "  </tbody>\n",
              "</table>\n",
              "</div>\n",
              "      <button class=\"colab-df-convert\" onclick=\"convertToInteractive('df-bc5dc8bd-85df-45a6-a249-b4d3d6d614e0')\"\n",
              "              title=\"Convert this dataframe to an interactive table.\"\n",
              "              style=\"display:none;\">\n",
              "        \n",
              "  <svg xmlns=\"http://www.w3.org/2000/svg\" height=\"24px\"viewBox=\"0 0 24 24\"\n",
              "       width=\"24px\">\n",
              "    <path d=\"M0 0h24v24H0V0z\" fill=\"none\"/>\n",
              "    <path d=\"M18.56 5.44l.94 2.06.94-2.06 2.06-.94-2.06-.94-.94-2.06-.94 2.06-2.06.94zm-11 1L8.5 8.5l.94-2.06 2.06-.94-2.06-.94L8.5 2.5l-.94 2.06-2.06.94zm10 10l.94 2.06.94-2.06 2.06-.94-2.06-.94-.94-2.06-.94 2.06-2.06.94z\"/><path d=\"M17.41 7.96l-1.37-1.37c-.4-.4-.92-.59-1.43-.59-.52 0-1.04.2-1.43.59L10.3 9.45l-7.72 7.72c-.78.78-.78 2.05 0 2.83L4 21.41c.39.39.9.59 1.41.59.51 0 1.02-.2 1.41-.59l7.78-7.78 2.81-2.81c.8-.78.8-2.07 0-2.86zM5.41 20L4 18.59l7.72-7.72 1.47 1.35L5.41 20z\"/>\n",
              "  </svg>\n",
              "      </button>\n",
              "      \n",
              "  <style>\n",
              "    .colab-df-container {\n",
              "      display:flex;\n",
              "      flex-wrap:wrap;\n",
              "      gap: 12px;\n",
              "    }\n",
              "\n",
              "    .colab-df-convert {\n",
              "      background-color: #E8F0FE;\n",
              "      border: none;\n",
              "      border-radius: 50%;\n",
              "      cursor: pointer;\n",
              "      display: none;\n",
              "      fill: #1967D2;\n",
              "      height: 32px;\n",
              "      padding: 0 0 0 0;\n",
              "      width: 32px;\n",
              "    }\n",
              "\n",
              "    .colab-df-convert:hover {\n",
              "      background-color: #E2EBFA;\n",
              "      box-shadow: 0px 1px 2px rgba(60, 64, 67, 0.3), 0px 1px 3px 1px rgba(60, 64, 67, 0.15);\n",
              "      fill: #174EA6;\n",
              "    }\n",
              "\n",
              "    [theme=dark] .colab-df-convert {\n",
              "      background-color: #3B4455;\n",
              "      fill: #D2E3FC;\n",
              "    }\n",
              "\n",
              "    [theme=dark] .colab-df-convert:hover {\n",
              "      background-color: #434B5C;\n",
              "      box-shadow: 0px 1px 3px 1px rgba(0, 0, 0, 0.15);\n",
              "      filter: drop-shadow(0px 1px 2px rgba(0, 0, 0, 0.3));\n",
              "      fill: #FFFFFF;\n",
              "    }\n",
              "  </style>\n",
              "\n",
              "      <script>\n",
              "        const buttonEl =\n",
              "          document.querySelector('#df-bc5dc8bd-85df-45a6-a249-b4d3d6d614e0 button.colab-df-convert');\n",
              "        buttonEl.style.display =\n",
              "          google.colab.kernel.accessAllowed ? 'block' : 'none';\n",
              "\n",
              "        async function convertToInteractive(key) {\n",
              "          const element = document.querySelector('#df-bc5dc8bd-85df-45a6-a249-b4d3d6d614e0');\n",
              "          const dataTable =\n",
              "            await google.colab.kernel.invokeFunction('convertToInteractive',\n",
              "                                                     [key], {});\n",
              "          if (!dataTable) return;\n",
              "\n",
              "          const docLinkHtml = 'Like what you see? Visit the ' +\n",
              "            '<a target=\"_blank\" href=https://colab.research.google.com/notebooks/data_table.ipynb>data table notebook</a>'\n",
              "            + ' to learn more about interactive tables.';\n",
              "          element.innerHTML = '';\n",
              "          dataTable['output_type'] = 'display_data';\n",
              "          await google.colab.output.renderOutput(dataTable, element);\n",
              "          const docLink = document.createElement('div');\n",
              "          docLink.innerHTML = docLinkHtml;\n",
              "          element.appendChild(docLink);\n",
              "        }\n",
              "      </script>\n",
              "    </div>\n",
              "  </div>\n",
              "  "
            ]
          },
          "metadata": {},
          "execution_count": 37
        }
      ],
      "source": [
        "# Creating a new column\n",
        "test_data['FamilySize'] = test_data['Parch'] + test_data['SibSp']\n",
        "\n",
        "# Dropping un-necessary columns\n",
        "test_data.drop(['PassengerId', 'Name', 'Ticket', 'Cabin', 'Fare'], axis = 1, inplace = True)\n",
        "\n",
        "# Replacing the initials in the Embarked column with the full name\n",
        "test_data.loc[titanic_df['Embarked'] == 'C', 'Embarked'] = 'Cherbourg'\n",
        "\n",
        "test_data.loc[titanic_df['Embarked'] == 'S', 'Embarked'] = 'Southampton'\n",
        "\n",
        "test_data.loc[titanic_df['Embarked'] == 'Q', 'Embarked'] = 'Queenstown'\n",
        "\n",
        "# Binning the Age column\n",
        "bins = [0, 13, 25, 40, 65, np.inf]\n",
        "\n",
        "names = ['<13', '13-25', '25-40', '40-65', '65+']\n",
        "\n",
        "test_data['Age'] = pd.cut(test_data['Age'], bins, labels = names)\n",
        "\n",
        "# Printing 10 observations\n",
        "test_data.sample(10)"
      ],
      "metadata": {
        "pycharm": {
          "name": "#%%\n"
        },
        "colab": {
          "base_uri": "https://localhost:8080/",
          "height": 359
        },
        "id": "E0mHCC8Br3D6",
        "outputId": "62649a47-ed89-4158-c547-1b790d12a483"
      }
    },
    {
      "cell_type": "code",
      "execution_count": null,
      "outputs": [],
      "source": [
        "X_train.info()"
      ],
      "metadata": {
        "pycharm": {
          "name": "#%%\n"
        },
        "id": "vxtN53Agr3D8"
      }
    },
    {
      "cell_type": "code",
      "execution_count": null,
      "outputs": [
        {
          "output_type": "execute_result",
          "data": {
            "text/plain": [
              "     Pclass  Sex  Age  SibSp  Parch  Embarked  FamilySize\n",
              "86        3    1    0      0      0         0           0\n",
              "27        3    0    2      0      0         2           0\n",
              "8         3    1    2      0      0         2           0\n",
              "180       2    0    0      0      0         1           0\n",
              "281       3    0    3      1      1         1           2\n",
              "259       3    0    2      0      0         1           0\n",
              "126       3    0    2      0      0         1           0\n",
              "398       3    0    2      0      0         1           0\n",
              "95        3    0    2      0      0         1           0\n",
              "11        1    0    1      0      0         1           0"
            ],
            "text/html": [
              "\n",
              "  <div id=\"df-cca906d6-13b9-460b-afcb-9363b82b1bb4\">\n",
              "    <div class=\"colab-df-container\">\n",
              "      <div>\n",
              "<style scoped>\n",
              "    .dataframe tbody tr th:only-of-type {\n",
              "        vertical-align: middle;\n",
              "    }\n",
              "\n",
              "    .dataframe tbody tr th {\n",
              "        vertical-align: top;\n",
              "    }\n",
              "\n",
              "    .dataframe thead th {\n",
              "        text-align: right;\n",
              "    }\n",
              "</style>\n",
              "<table border=\"1\" class=\"dataframe\">\n",
              "  <thead>\n",
              "    <tr style=\"text-align: right;\">\n",
              "      <th></th>\n",
              "      <th>Pclass</th>\n",
              "      <th>Sex</th>\n",
              "      <th>Age</th>\n",
              "      <th>SibSp</th>\n",
              "      <th>Parch</th>\n",
              "      <th>Embarked</th>\n",
              "      <th>FamilySize</th>\n",
              "    </tr>\n",
              "  </thead>\n",
              "  <tbody>\n",
              "    <tr>\n",
              "      <th>86</th>\n",
              "      <td>3</td>\n",
              "      <td>1</td>\n",
              "      <td>0</td>\n",
              "      <td>0</td>\n",
              "      <td>0</td>\n",
              "      <td>0</td>\n",
              "      <td>0</td>\n",
              "    </tr>\n",
              "    <tr>\n",
              "      <th>27</th>\n",
              "      <td>3</td>\n",
              "      <td>0</td>\n",
              "      <td>2</td>\n",
              "      <td>0</td>\n",
              "      <td>0</td>\n",
              "      <td>2</td>\n",
              "      <td>0</td>\n",
              "    </tr>\n",
              "    <tr>\n",
              "      <th>8</th>\n",
              "      <td>3</td>\n",
              "      <td>1</td>\n",
              "      <td>2</td>\n",
              "      <td>0</td>\n",
              "      <td>0</td>\n",
              "      <td>2</td>\n",
              "      <td>0</td>\n",
              "    </tr>\n",
              "    <tr>\n",
              "      <th>180</th>\n",
              "      <td>2</td>\n",
              "      <td>0</td>\n",
              "      <td>0</td>\n",
              "      <td>0</td>\n",
              "      <td>0</td>\n",
              "      <td>1</td>\n",
              "      <td>0</td>\n",
              "    </tr>\n",
              "    <tr>\n",
              "      <th>281</th>\n",
              "      <td>3</td>\n",
              "      <td>0</td>\n",
              "      <td>3</td>\n",
              "      <td>1</td>\n",
              "      <td>1</td>\n",
              "      <td>1</td>\n",
              "      <td>2</td>\n",
              "    </tr>\n",
              "    <tr>\n",
              "      <th>259</th>\n",
              "      <td>3</td>\n",
              "      <td>0</td>\n",
              "      <td>2</td>\n",
              "      <td>0</td>\n",
              "      <td>0</td>\n",
              "      <td>1</td>\n",
              "      <td>0</td>\n",
              "    </tr>\n",
              "    <tr>\n",
              "      <th>126</th>\n",
              "      <td>3</td>\n",
              "      <td>0</td>\n",
              "      <td>2</td>\n",
              "      <td>0</td>\n",
              "      <td>0</td>\n",
              "      <td>1</td>\n",
              "      <td>0</td>\n",
              "    </tr>\n",
              "    <tr>\n",
              "      <th>398</th>\n",
              "      <td>3</td>\n",
              "      <td>0</td>\n",
              "      <td>2</td>\n",
              "      <td>0</td>\n",
              "      <td>0</td>\n",
              "      <td>1</td>\n",
              "      <td>0</td>\n",
              "    </tr>\n",
              "    <tr>\n",
              "      <th>95</th>\n",
              "      <td>3</td>\n",
              "      <td>0</td>\n",
              "      <td>2</td>\n",
              "      <td>0</td>\n",
              "      <td>0</td>\n",
              "      <td>1</td>\n",
              "      <td>0</td>\n",
              "    </tr>\n",
              "    <tr>\n",
              "      <th>11</th>\n",
              "      <td>1</td>\n",
              "      <td>0</td>\n",
              "      <td>1</td>\n",
              "      <td>0</td>\n",
              "      <td>0</td>\n",
              "      <td>1</td>\n",
              "      <td>0</td>\n",
              "    </tr>\n",
              "  </tbody>\n",
              "</table>\n",
              "</div>\n",
              "      <button class=\"colab-df-convert\" onclick=\"convertToInteractive('df-cca906d6-13b9-460b-afcb-9363b82b1bb4')\"\n",
              "              title=\"Convert this dataframe to an interactive table.\"\n",
              "              style=\"display:none;\">\n",
              "        \n",
              "  <svg xmlns=\"http://www.w3.org/2000/svg\" height=\"24px\"viewBox=\"0 0 24 24\"\n",
              "       width=\"24px\">\n",
              "    <path d=\"M0 0h24v24H0V0z\" fill=\"none\"/>\n",
              "    <path d=\"M18.56 5.44l.94 2.06.94-2.06 2.06-.94-2.06-.94-.94-2.06-.94 2.06-2.06.94zm-11 1L8.5 8.5l.94-2.06 2.06-.94-2.06-.94L8.5 2.5l-.94 2.06-2.06.94zm10 10l.94 2.06.94-2.06 2.06-.94-2.06-.94-.94-2.06-.94 2.06-2.06.94z\"/><path d=\"M17.41 7.96l-1.37-1.37c-.4-.4-.92-.59-1.43-.59-.52 0-1.04.2-1.43.59L10.3 9.45l-7.72 7.72c-.78.78-.78 2.05 0 2.83L4 21.41c.39.39.9.59 1.41.59.51 0 1.02-.2 1.41-.59l7.78-7.78 2.81-2.81c.8-.78.8-2.07 0-2.86zM5.41 20L4 18.59l7.72-7.72 1.47 1.35L5.41 20z\"/>\n",
              "  </svg>\n",
              "      </button>\n",
              "      \n",
              "  <style>\n",
              "    .colab-df-container {\n",
              "      display:flex;\n",
              "      flex-wrap:wrap;\n",
              "      gap: 12px;\n",
              "    }\n",
              "\n",
              "    .colab-df-convert {\n",
              "      background-color: #E8F0FE;\n",
              "      border: none;\n",
              "      border-radius: 50%;\n",
              "      cursor: pointer;\n",
              "      display: none;\n",
              "      fill: #1967D2;\n",
              "      height: 32px;\n",
              "      padding: 0 0 0 0;\n",
              "      width: 32px;\n",
              "    }\n",
              "\n",
              "    .colab-df-convert:hover {\n",
              "      background-color: #E2EBFA;\n",
              "      box-shadow: 0px 1px 2px rgba(60, 64, 67, 0.3), 0px 1px 3px 1px rgba(60, 64, 67, 0.15);\n",
              "      fill: #174EA6;\n",
              "    }\n",
              "\n",
              "    [theme=dark] .colab-df-convert {\n",
              "      background-color: #3B4455;\n",
              "      fill: #D2E3FC;\n",
              "    }\n",
              "\n",
              "    [theme=dark] .colab-df-convert:hover {\n",
              "      background-color: #434B5C;\n",
              "      box-shadow: 0px 1px 3px 1px rgba(0, 0, 0, 0.15);\n",
              "      filter: drop-shadow(0px 1px 2px rgba(0, 0, 0, 0.3));\n",
              "      fill: #FFFFFF;\n",
              "    }\n",
              "  </style>\n",
              "\n",
              "      <script>\n",
              "        const buttonEl =\n",
              "          document.querySelector('#df-cca906d6-13b9-460b-afcb-9363b82b1bb4 button.colab-df-convert');\n",
              "        buttonEl.style.display =\n",
              "          google.colab.kernel.accessAllowed ? 'block' : 'none';\n",
              "\n",
              "        async function convertToInteractive(key) {\n",
              "          const element = document.querySelector('#df-cca906d6-13b9-460b-afcb-9363b82b1bb4');\n",
              "          const dataTable =\n",
              "            await google.colab.kernel.invokeFunction('convertToInteractive',\n",
              "                                                     [key], {});\n",
              "          if (!dataTable) return;\n",
              "\n",
              "          const docLinkHtml = 'Like what you see? Visit the ' +\n",
              "            '<a target=\"_blank\" href=https://colab.research.google.com/notebooks/data_table.ipynb>data table notebook</a>'\n",
              "            + ' to learn more about interactive tables.';\n",
              "          element.innerHTML = '';\n",
              "          dataTable['output_type'] = 'display_data';\n",
              "          await google.colab.output.renderOutput(dataTable, element);\n",
              "          const docLink = document.createElement('div');\n",
              "          docLink.innerHTML = docLinkHtml;\n",
              "          element.appendChild(docLink);\n",
              "        }\n",
              "      </script>\n",
              "    </div>\n",
              "  </div>\n",
              "  "
            ]
          },
          "metadata": {},
          "execution_count": 38
        }
      ],
      "source": [
        "# Encoding the categorical columns\n",
        "test_data.Sex = pd.factorize(test_data.Sex)[0]\n",
        "\n",
        "test_data.Embarked = pd.factorize(test_data.Embarked)[0]\n",
        "\n",
        "test_data.Age = pd.factorize(test_data.Age)[0]\n",
        "\n",
        "test_data.sample(10)"
      ],
      "metadata": {
        "pycharm": {
          "name": "#%%\n"
        },
        "colab": {
          "base_uri": "https://localhost:8080/",
          "height": 359
        },
        "id": "vtZn0bbnr3D8",
        "outputId": "20474419-4ad3-42f7-f038-9d68dafebdbd"
      }
    },
    {
      "cell_type": "code",
      "execution_count": null,
      "outputs": [],
      "source": [
        "#preds = gbc.predict(test_data)\n",
        "# preds=adaboost_model.predict(test_data)\n",
        "preds = clf.predict(test_data)"
      ],
      "metadata": {
        "pycharm": {
          "name": "#%%\n"
        },
        "id": "l3iq76t5r3EA"
      }
    },
    {
      "cell_type": "code",
      "execution_count": null,
      "outputs": [],
      "source": [
        "\n",
        "preds[0:5]"
      ],
      "metadata": {
        "pycharm": {
          "name": "#%%\n"
        },
        "id": "dYXRyFLjr3EA"
      }
    },
    {
      "cell_type": "code",
      "execution_count": null,
      "outputs": [],
      "source": [
        "pd.DataFrame(preds)"
      ],
      "metadata": {
        "pycharm": {
          "name": "#%%\n"
        },
        "id": "dHTT1AGbr3EB"
      }
    },
    {
      "cell_type": "code",
      "execution_count": null,
      "outputs": [],
      "source": [
        "out = pd.DataFrame(preds)"
      ],
      "metadata": {
        "pycharm": {
          "name": "#%%\n"
        },
        "id": "ac-YzkHzr3EB"
      }
    },
    {
      "cell_type": "code",
      "execution_count": null,
      "outputs": [],
      "source": [
        "ids=np.arange(892, 1310)"
      ],
      "metadata": {
        "pycharm": {
          "name": "#%%\n"
        },
        "id": "HcGbSk4sr3EB"
      }
    },
    {
      "cell_type": "code",
      "execution_count": null,
      "outputs": [],
      "source": [
        "out.insert(0,\"PassengerId\",ids)"
      ],
      "metadata": {
        "pycharm": {
          "name": "#%%\n"
        },
        "id": "1rIhesXqr3EC"
      }
    },
    {
      "cell_type": "code",
      "execution_count": null,
      "outputs": [],
      "source": [
        "out"
      ],
      "metadata": {
        "pycharm": {
          "name": "#%%\n"
        },
        "id": "xG-g14Xor3EC"
      }
    },
    {
      "cell_type": "code",
      "execution_count": null,
      "outputs": [],
      "source": [
        "csv = out.to_csv"
      ],
      "metadata": {
        "pycharm": {
          "name": "#%%\n"
        },
        "id": "N_F90hiXr3EC"
      }
    },
    {
      "cell_type": "code",
      "execution_count": null,
      "outputs": [],
      "source": [
        "from pathlib import Path"
      ],
      "metadata": {
        "pycharm": {
          "name": "#%%\n"
        },
        "id": "1O_WQGy-r3ED"
      }
    },
    {
      "cell_type": "code",
      "execution_count": null,
      "outputs": [],
      "source": [
        "filepath = Path('out.csv')"
      ],
      "metadata": {
        "pycharm": {
          "name": "#%%\n"
        },
        "id": "i_8xNtner3ED"
      }
    },
    {
      "cell_type": "code",
      "execution_count": null,
      "outputs": [],
      "source": [
        "csv = out.to_csv(filepath, header = [\"PassengerId\",\"Survived\"], index=False)"
      ],
      "metadata": {
        "pycharm": {
          "name": "#%%\n"
        },
        "id": "VrTcrb90r3ED"
      }
    },
    {
      "cell_type": "markdown",
      "source": [
        "# Attempt 2:\n",
        "\n",
        "Some more algorithms and k-folds:"
      ],
      "metadata": {
        "collapsed": false,
        "pycharm": {
          "name": "#%% md\n"
        },
        "id": "COjbYPExr3ED"
      }
    },
    {
      "cell_type": "code",
      "execution_count": null,
      "outputs": [],
      "source": [],
      "metadata": {
        "pycharm": {
          "name": "#%%\n"
        },
        "id": "ryPkMTlvr3EZ"
      }
    },
    {
      "cell_type": "code",
      "execution_count": null,
      "outputs": [],
      "source": [
        "import pandas\n",
        "from pandas import read_csv\n",
        "from pandas import set_option\n",
        "#from pandas import tools\n",
        "#from pandas.tools.plotting import scatter_matrix\n",
        "from sklearn.preprocessing import StandardScaler\n",
        "from sklearn.model_selection import train_test_split\n",
        "from sklearn.model_selection import KFold\n",
        "from sklearn.model_selection import cross_val_score\n",
        "from sklearn.model_selection import GridSearchCV\n",
        "from sklearn.metrics import classification_report\n",
        "from sklearn.metrics import confusion_matrix\n",
        "from sklearn.metrics import accuracy_score\n",
        "from sklearn.pipeline import Pipeline\n",
        "from sklearn.linear_model import LogisticRegression\n",
        "from sklearn.tree import DecisionTreeClassifier\n",
        "from sklearn.neighbors import KNeighborsClassifier\n",
        "from sklearn.discriminant_analysis import LinearDiscriminantAnalysis\n",
        "from sklearn.naive_bayes import GaussianNB\n",
        "from sklearn.svm import SVC\n",
        "from sklearn.ensemble import AdaBoostClassifier\n",
        "from sklearn.ensemble import GradientBoostingClassifier\n",
        "from sklearn.ensemble import RandomForestClassifier\n",
        "from sklearn.ensemble import ExtraTreesClassifier"
      ],
      "metadata": {
        "pycharm": {
          "name": "#%%\n"
        },
        "id": "NR0NGimjr3Ea"
      }
    },
    {
      "cell_type": "code",
      "execution_count": null,
      "outputs": [],
      "source": [
        "# Test options and evaluation metric\n",
        "num_folds = 10\n",
        "seed = 7\n",
        "scoring = 'accuracy'"
      ],
      "metadata": {
        "pycharm": {
          "name": "#%%\n"
        },
        "id": "1N0ZFW6cr3Ea"
      }
    },
    {
      "cell_type": "code",
      "execution_count": null,
      "outputs": [
        {
          "output_type": "execute_result",
          "data": {
            "text/plain": [
              "(None, None, None, None, None, None)"
            ]
          },
          "metadata": {},
          "execution_count": 42
        }
      ],
      "source": [
        "from sklearn import linear_model, discriminant_analysis, neighbors, naive_bayes, svm\n",
        "from sklearn.linear_model import LogisticRegression\n",
        "from sklearn.discriminant_analysis import LinearDiscriminantAnalysis\n",
        "from sklearn.neighbors import KNeighborsClassifier\n",
        "from sklearn.naive_bayes import GaussianNB\n",
        "from sklearn.svm import SVC\n",
        "from sklearn.tree import DecisionTreeClassifier\n",
        "models = []\n",
        "models.append(('LR', LogisticRegression())), models.append(('LDA', LinearDiscriminantAnalysis())), models.append(('KNN', KNeighborsClassifier())), models.append(('CART', DecisionTreeClassifier())), models.append(('NB', GaussianNB())), models.append(('SVM', SVC()))"
      ],
      "metadata": {
        "pycharm": {
          "name": "#%%\n"
        },
        "colab": {
          "base_uri": "https://localhost:8080/"
        },
        "id": "NXyaHp3cr3Eg",
        "outputId": "22f61f3d-7b67-4a47-933c-58c99d759e2f"
      }
    },
    {
      "cell_type": "code",
      "execution_count": null,
      "outputs": [],
      "source": [],
      "metadata": {
        "pycharm": {
          "name": "#%%\n"
        },
        "id": "2wXsFEorr3Eh"
      }
    },
    {
      "cell_type": "code",
      "execution_count": null,
      "outputs": [
        {
          "output_type": "stream",
          "name": "stdout",
          "text": [
            "LR: 0.792351 (0.054943)\n",
            "LDA: 0.790904 (0.059140)\n",
            "KNN: 0.775509 (0.061970)\n",
            "CART: 0.796635 (0.048820)\n",
            "NB: 0.755829 (0.066580)\n",
            "SVM: 0.825978 (0.050341)\n"
          ]
        }
      ],
      "source": [
        "results = []\n",
        "names = []\n",
        "for name, model in models:\n",
        "    kfold = KFold(n_splits=num_folds, random_state=seed, shuffle=True)\n",
        "    cv_results = cross_val_score(model, X_train, y_train, cv=kfold, scoring=scoring)\n",
        "    results.append(cv_results)\n",
        "    names.append(name)\n",
        "    msg = \"%s: %f (%f)\" % (name, cv_results.mean(), cv_results.std())\n",
        "    print(msg)"
      ],
      "metadata": {
        "pycharm": {
          "name": "#%%\n"
        },
        "colab": {
          "base_uri": "https://localhost:8080/"
        },
        "id": "7k9NPH2Qr3Eh",
        "outputId": "e84d8807-3642-43e5-8ec0-f676ccc588e5"
      }
    },
    {
      "cell_type": "code",
      "execution_count": null,
      "outputs": [
        {
          "output_type": "display_data",
          "data": {
            "text/plain": [
              "<Figure size 432x288 with 1 Axes>"
            ],
            "image/png": "[encoded data removed]"
          },
          "metadata": {}
        }
      ],
      "source": [
        "from matplotlib import pyplot\n",
        "# Compare Algorithms\n",
        "fig = pyplot.figure()\n",
        "fig.suptitle('Algorithm Comparison')\n",
        "ax = fig.add_subplot(111)\n",
        "pyplot.boxplot(results)\n",
        "ax.set_xticklabels(names)\n",
        "pyplot.show()"
      ],
      "metadata": {
        "pycharm": {
          "name": "#%%\n"
        },
        "colab": {
          "base_uri": "https://localhost:8080/",
          "height": 294
        },
        "id": "xj52VCc8r3Eh",
        "outputId": "77bc6c43-438d-4d80-d127-9ea49f4729b8"
      }
    },
    {
      "cell_type": "markdown",
      "source": [
        "It looks like SVM is the highest performer"
      ],
      "metadata": {
        "collapsed": false,
        "pycharm": {
          "name": "#%% md\n"
        },
        "id": "d0-l8UQir3Eq"
      }
    },
    {
      "cell_type": "code",
      "execution_count": null,
      "outputs": [
        {
          "output_type": "stream",
          "name": "stdout",
          "text": [
            "ScaledLR: 0.795149 (0.054787)\n",
            "ScaledLDA: 0.790904 (0.059140)\n",
            "ScaledKNN: 0.797887 (0.064905)\n",
            "ScaledCART: 0.798044 (0.048797)\n",
            "ScaledNB: 0.755829 (0.066580)\n",
            "ScaledSVM: 0.816178 (0.053498)\n"
          ]
        }
      ],
      "source": [
        "# Standardize the dataset\n",
        "pipelines = []\n",
        "pipelines.append(('ScaledLR', Pipeline([('Scaler', StandardScaler()),('LR',LogisticRegression())])))\n",
        "pipelines.append(('ScaledLDA', Pipeline([('Scaler', StandardScaler()),('LDA', LinearDiscriminantAnalysis())])))\n",
        "pipelines.append(('ScaledKNN', Pipeline([('Scaler', StandardScaler()),('KNN', KNeighborsClassifier())])))\n",
        "pipelines.append(('ScaledCART', Pipeline([('Scaler', StandardScaler()),('CART', DecisionTreeClassifier())])))\n",
        "pipelines.append(('ScaledNB', Pipeline([('Scaler', StandardScaler()),('NB', GaussianNB())])))\n",
        "pipelines.append(('ScaledSVM', Pipeline([('Scaler', StandardScaler()),('SVM', SVC())])))\n",
        "results = []\n",
        "names = []\n",
        "for name, model in pipelines:\n",
        "    kfold = KFold(n_splits=num_folds, random_state=seed, shuffle=True)\n",
        "    cv_results = cross_val_score(model, X_train, y_train, cv=kfold, scoring=scoring)\n",
        "    results.append(cv_results)\n",
        "    names.append(name)\n",
        "    msg = \"%s: %f (%f)\" % (name, cv_results.mean(), cv_results.std())\n",
        "    print(msg)"
      ],
      "metadata": {
        "pycharm": {
          "name": "#%%\n"
        },
        "colab": {
          "base_uri": "https://localhost:8080/"
        },
        "id": "JbGFWvOvr3Eq",
        "outputId": "da2f92cb-e3b1-43b8-fa83-7d3952470f30"
      }
    },
    {
      "cell_type": "markdown",
      "source": [
        "We can see that SVM is slightly worse on the scaled data and KNN is slightly better."
      ],
      "metadata": {
        "collapsed": false,
        "pycharm": {
          "name": "#%% md\n"
        },
        "id": "jZq8eS9xr3Er"
      }
    },
    {
      "cell_type": "code",
      "execution_count": null,
      "outputs": [
        {
          "output_type": "display_data",
          "data": {
            "text/plain": [
              "<Figure size 432x288 with 1 Axes>"
            ],
            "image/png": "[encoded data removed]"
          },
          "metadata": {}
        }
      ],
      "source": [
        "# Compare Algorithms\n",
        "fig = pyplot.figure()\n",
        "fig.suptitle('Scaled Algorithm Comparison')\n",
        "ax = fig.add_subplot(111)\n",
        "pyplot.boxplot(results)\n",
        "ax.set_xticklabels(names)\n",
        "pyplot.show()"
      ],
      "metadata": {
        "pycharm": {
          "name": "#%%\n"
        },
        "colab": {
          "base_uri": "https://localhost:8080/",
          "height": 294
        },
        "id": "WcVnGYUfr3Es",
        "outputId": "0dc7d693-ded7-47ed-d122-bf7b0cc276c8"
      }
    },
    {
      "cell_type": "markdown",
      "source": [
        "SVM is still the best"
      ],
      "metadata": {
        "collapsed": false,
        "pycharm": {
          "name": "#%% md\n"
        },
        "id": "lB0npXscr3Es"
      }
    },
    {
      "cell_type": "markdown",
      "source": [
        "The results suggest digging deeper into the SVM algorithm. It is very likely that configuration beyond the default may yield even more accurate models."
      ],
      "metadata": {
        "collapsed": false,
        "pycharm": {
          "name": "#%% md\n"
        },
        "id": "4AdR_vx0r3Es"
      }
    },
    {
      "cell_type": "markdown",
      "source": [
        "We can tune two key parameters of the SVM algorithm, the value of C (how much to relax the margin) and the type of kernel.\n",
        "\n",
        "The default for SVM (the SVC class) is to use the Radial Basis Function (RBF) kernel with a C value set to 1.0.\n",
        "\n",
        "We will perform a grid search using 10-fold cross validation with a standardized copy of the training dataset. We will try a number of simpler kernel types and C values with less bias and more bias (less than and more than 1.0 respectively).\n"
      ],
      "metadata": {
        "collapsed": false,
        "pycharm": {
          "name": "#%% md\n"
        },
        "id": "9fSyUC6cr3Et"
      }
    },
    {
      "cell_type": "code",
      "execution_count": null,
      "outputs": [
        {
          "output_type": "stream",
          "name": "stdout",
          "text": [
            "Best: 0.819014 using {'C': 1.5, 'kernel': 'rbf'}\n",
            "0.788087 (0.061835) with: {'C': 0.1, 'kernel': 'linear'}\n",
            "0.761541 (0.056025) with: {'C': 0.1, 'kernel': 'poly'}\n",
            "0.807688 (0.062056) with: {'C': 0.1, 'kernel': 'rbf'}\n",
            "0.776917 (0.062255) with: {'C': 0.1, 'kernel': 'sigmoid'}\n",
            "0.788087 (0.061835) with: {'C': 0.3, 'kernel': 'linear'}\n",
            "0.775587 (0.046273) with: {'C': 0.3, 'kernel': 'poly'}\n",
            "0.816119 (0.049770) with: {'C': 0.3, 'kernel': 'rbf'}\n",
            "0.699844 (0.034951) with: {'C': 0.3, 'kernel': 'sigmoid'}\n",
            "0.788087 (0.061835) with: {'C': 0.5, 'kernel': 'linear'}\n",
            "0.802230 (0.054374) with: {'C': 0.5, 'kernel': 'poly'}\n",
            "0.810583 (0.042635) with: {'C': 0.5, 'kernel': 'rbf'}\n",
            "0.694210 (0.038698) with: {'C': 0.5, 'kernel': 'sigmoid'}\n",
            "0.788087 (0.061835) with: {'C': 0.7, 'kernel': 'linear'}\n",
            "0.803560 (0.045302) with: {'C': 0.7, 'kernel': 'poly'}\n",
            "0.811972 (0.051112) with: {'C': 0.7, 'kernel': 'rbf'}\n",
            "0.692821 (0.037895) with: {'C': 0.7, 'kernel': 'sigmoid'}\n",
            "0.788087 (0.061835) with: {'C': 0.9, 'kernel': 'linear'}\n",
            "0.798005 (0.048564) with: {'C': 0.9, 'kernel': 'poly'}\n",
            "0.816178 (0.053498) with: {'C': 0.9, 'kernel': 'rbf'}\n",
            "0.715121 (0.055519) with: {'C': 0.9, 'kernel': 'sigmoid'}\n",
            "0.788087 (0.061835) with: {'C': 1.0, 'kernel': 'linear'}\n",
            "0.802191 (0.049536) with: {'C': 1.0, 'kernel': 'poly'}\n",
            "0.816178 (0.053498) with: {'C': 1.0, 'kernel': 'rbf'}\n",
            "0.695579 (0.036498) with: {'C': 1.0, 'kernel': 'sigmoid'}\n",
            "0.788087 (0.061835) with: {'C': 1.3, 'kernel': 'linear'}\n",
            "0.802171 (0.047969) with: {'C': 1.3, 'kernel': 'poly'}\n",
            "0.818995 (0.047987) with: {'C': 1.3, 'kernel': 'rbf'}\n",
            "0.712500 (0.045185) with: {'C': 1.3, 'kernel': 'sigmoid'}\n",
            "0.788087 (0.061835) with: {'C': 1.5, 'kernel': 'linear'}\n",
            "0.803580 (0.047760) with: {'C': 1.5, 'kernel': 'poly'}\n",
            "0.819014 (0.048342) with: {'C': 1.5, 'kernel': 'rbf'}\n",
            "0.734683 (0.056550) with: {'C': 1.5, 'kernel': 'sigmoid'}\n",
            "0.788087 (0.061835) with: {'C': 1.7, 'kernel': 'linear'}\n",
            "0.804969 (0.047976) with: {'C': 1.7, 'kernel': 'poly'}\n",
            "0.819014 (0.048342) with: {'C': 1.7, 'kernel': 'rbf'}\n",
            "0.712344 (0.034972) with: {'C': 1.7, 'kernel': 'sigmoid'}\n",
            "0.788087 (0.061835) with: {'C': 2.0, 'kernel': 'linear'}\n",
            "0.796538 (0.047095) with: {'C': 2.0, 'kernel': 'poly'}\n",
            "0.813419 (0.049715) with: {'C': 2.0, 'kernel': 'rbf'}\n",
            "0.736131 (0.056132) with: {'C': 2.0, 'kernel': 'sigmoid'}\n"
          ]
        }
      ],
      "source": [
        "# Tune scaled SVM\n",
        "scaler = StandardScaler().fit(X_train)\n",
        "rescaledX = scaler.transform(X_train)\n",
        "c_values = [0.1, 0.3, 0.5, 0.7, 0.9, 1.0, 1.3, 1.5, 1.7, 2.0]\n",
        "kernel_values = ['linear', 'poly', 'rbf', 'sigmoid']\n",
        "param_grid = dict(C=c_values, kernel=kernel_values)\n",
        "model = SVC()\n",
        "kfold = KFold(n_splits=num_folds, random_state=seed, shuffle=True)\n",
        "grid = GridSearchCV(estimator=model, param_grid=param_grid, scoring=scoring, cv=kfold)\n",
        "grid_result = grid.fit(rescaledX, y_train)\n",
        "print(\"Best: %f using %s\" % (grid_result.best_score_, grid_result.best_params_))\n",
        "means = grid_result.cv_results_['mean_test_score']\n",
        "stds = grid_result.cv_results_['std_test_score']\n",
        "params = grid_result.cv_results_['params']\n",
        "for mean, stdev, param in zip(means, stds, params):\n",
        "    print(\"%f (%f) with: %r\" % (mean, stdev, param))"
      ],
      "metadata": {
        "pycharm": {
          "name": "#%%\n"
        },
        "colab": {
          "base_uri": "https://localhost:8080/"
        },
        "id": "U0Setmd5r3Et",
        "outputId": "80c48a51-ccbd-4d97-9aef-d3b92fefe4b7"
      }
    },
    {
      "cell_type": "markdown",
      "source": [
        "We can try the same for unscaled"
      ],
      "metadata": {
        "collapsed": false,
        "pycharm": {
          "name": "#%% md\n"
        },
        "id": "GwHCcSayr3Ew"
      }
    },
    {
      "cell_type": "code",
      "execution_count": null,
      "outputs": [
        {
          "output_type": "stream",
          "name": "stdout",
          "text": [
            "Best: 0.828795 using {'C': 1.5, 'kernel': 'rbf'}\n",
            "0.788087 (0.061835) with: {'C': 0.1, 'kernel': 'linear'}\n",
            "0.704069 (0.071353) with: {'C': 0.1, 'kernel': 'poly'}\n",
            "0.800724 (0.045689) with: {'C': 0.1, 'kernel': 'rbf'}\n",
            "0.706749 (0.064833) with: {'C': 0.1, 'kernel': 'sigmoid'}\n",
            "0.788087 (0.061835) with: {'C': 0.3, 'kernel': 'linear'}\n",
            "0.701095 (0.072957) with: {'C': 0.3, 'kernel': 'poly'}\n",
            "0.823181 (0.051883) with: {'C': 0.3, 'kernel': 'rbf'}\n",
            "0.667527 (0.044096) with: {'C': 0.3, 'kernel': 'sigmoid'}\n",
            "0.788087 (0.061835) with: {'C': 0.5, 'kernel': 'linear'}\n",
            "0.729128 (0.072094) with: {'C': 0.5, 'kernel': 'poly'}\n",
            "0.827387 (0.049468) with: {'C': 0.5, 'kernel': 'rbf'}\n",
            "0.656377 (0.041065) with: {'C': 0.5, 'kernel': 'sigmoid'}\n",
            "0.788087 (0.061835) with: {'C': 0.7, 'kernel': 'linear'}\n",
            "0.736092 (0.067261) with: {'C': 0.7, 'kernel': 'poly'}\n",
            "0.827387 (0.049468) with: {'C': 0.7, 'kernel': 'rbf'}\n",
            "0.658979 (0.056309) with: {'C': 0.7, 'kernel': 'sigmoid'}\n",
            "0.788087 (0.061835) with: {'C': 0.9, 'kernel': 'linear'}\n",
            "0.755810 (0.050933) with: {'C': 0.9, 'kernel': 'poly'}\n",
            "0.825978 (0.050341) with: {'C': 0.9, 'kernel': 'rbf'}\n",
            "0.688478 (0.051129) with: {'C': 0.9, 'kernel': 'sigmoid'}\n",
            "0.788087 (0.061835) with: {'C': 1.0, 'kernel': 'linear'}\n",
            "0.757199 (0.048971) with: {'C': 1.0, 'kernel': 'poly'}\n",
            "0.825978 (0.050341) with: {'C': 1.0, 'kernel': 'rbf'}\n",
            "0.675900 (0.053465) with: {'C': 1.0, 'kernel': 'sigmoid'}\n",
            "0.788087 (0.061835) with: {'C': 1.3, 'kernel': 'linear'}\n",
            "0.766960 (0.059066) with: {'C': 1.3, 'kernel': 'poly'}\n",
            "0.825978 (0.048330) with: {'C': 1.3, 'kernel': 'rbf'}\n",
            "0.674550 (0.049051) with: {'C': 1.3, 'kernel': 'sigmoid'}\n",
            "0.788087 (0.061835) with: {'C': 1.5, 'kernel': 'linear'}\n",
            "0.773983 (0.059768) with: {'C': 1.5, 'kernel': 'poly'}\n",
            "0.828795 (0.050542) with: {'C': 1.5, 'kernel': 'rbf'}\n",
            "0.687050 (0.047720) with: {'C': 1.5, 'kernel': 'sigmoid'}\n",
            "0.788087 (0.061835) with: {'C': 1.7, 'kernel': 'linear'}\n",
            "0.782433 (0.057908) with: {'C': 1.7, 'kernel': 'poly'}\n",
            "0.825998 (0.049466) with: {'C': 1.7, 'kernel': 'rbf'}\n",
            "0.675900 (0.047156) with: {'C': 1.7, 'kernel': 'sigmoid'}\n",
            "0.788087 (0.061835) with: {'C': 2.0, 'kernel': 'linear'}\n",
            "0.793642 (0.060794) with: {'C': 2.0, 'kernel': 'poly'}\n",
            "0.823181 (0.051080) with: {'C': 2.0, 'kernel': 'rbf'}\n",
            "0.686972 (0.062719) with: {'C': 2.0, 'kernel': 'sigmoid'}\n"
          ]
        }
      ],
      "source": [
        "grid_result = grid.fit(X_train, y_train)\n",
        "print(\"Best: %f using %s\" % (grid_result.best_score_, grid_result.best_params_))\n",
        "means = grid_result.cv_results_['mean_test_score']\n",
        "stds = grid_result.cv_results_['std_test_score']\n",
        "params = grid_result.cv_results_['params']\n",
        "for mean, stdev, param in zip(means, stds, params):\n",
        "    print(\"%f (%f) with: %r\" % (mean, stdev, param))"
      ],
      "metadata": {
        "pycharm": {
          "name": "#%%\n"
        },
        "colab": {
          "base_uri": "https://localhost:8080/"
        },
        "id": "wjtwTRUsr3Ex",
        "outputId": "07fb0a50-4421-461b-c5ba-cc7f5a6f5a79"
      }
    },
    {
      "cell_type": "markdown",
      "source": [
        "The best performance was attained with unscaled X, C=1.5 and the rbf kernel\n",
        "\n",
        "Another way that we can improve the performance of algorithms is by using ensemble methods. I will evaluate four different ensemble machine learning algorithms, two boosting and two bagging methods.\n",
        "\n",
        "We will use the same test harness as before, 10-fold cross validation. No data standardization is used in this case because all four ensemble algorithms are based on decision trees that are less sensitive to data distributions."
      ],
      "metadata": {
        "collapsed": false,
        "pycharm": {
          "name": "#%% md\n"
        },
        "id": "01E50l5Hr3Ey"
      }
    },
    {
      "cell_type": "code",
      "execution_count": null,
      "outputs": [
        {
          "output_type": "stream",
          "name": "stdout",
          "text": [
            "AB: 0.806318 (0.051105)\n",
            "GBM: 0.817606 (0.044738)\n",
            "RF: 0.802230 (0.061130)\n",
            "ET: 0.799413 (0.045050)\n"
          ]
        }
      ],
      "source": [
        "# ensembles\n",
        "ensembles = []\n",
        "ensembles.append(('AB', AdaBoostClassifier()))\n",
        "ensembles.append(('GBM', GradientBoostingClassifier()))\n",
        "ensembles.append(('RF', RandomForestClassifier()))\n",
        "ensembles.append(('ET', ExtraTreesClassifier()))\n",
        "results = []\n",
        "names = []\n",
        "for name, model in ensembles:\n",
        "    kfold = KFold(n_splits=num_folds, random_state=seed, shuffle=True)\n",
        "    cv_results = cross_val_score(model, X_train, y_train, cv=kfold, scoring=scoring)\n",
        "    results.append(cv_results)\n",
        "    names.append(name)\n",
        "    msg = \"%s: %f (%f)\" % (name, cv_results.mean(), cv_results.std())\n",
        "    print(msg)\n"
      ],
      "metadata": {
        "pycharm": {
          "name": "#%%\n"
        },
        "colab": {
          "base_uri": "https://localhost:8080/"
        },
        "id": "mHb0IvHgr3Ey",
        "outputId": "ebe098cc-a3a3-41ea-8ccf-024a0a3b284d"
      }
    },
    {
      "cell_type": "markdown",
      "source": [
        "We can see that both boosting techniques provide strong accuracy scores in the low 80s (%) with default configurations. We can plot the distribution of accuracy scores across the cross validation folds."
      ],
      "metadata": {
        "collapsed": false,
        "pycharm": {
          "name": "#%% md\n"
        },
        "id": "NunHBhInr3Ez"
      }
    },
    {
      "cell_type": "code",
      "execution_count": null,
      "outputs": [
        {
          "output_type": "display_data",
          "data": {
            "text/plain": [
              "<Figure size 432x288 with 1 Axes>"
            ],
            "image/png": "[encoded data removed]"
          },
          "metadata": {}
        }
      ],
      "source": [
        "# Compare Algorithms\n",
        "fig = pyplot.figure()\n",
        "fig.suptitle('Ensemble Algorithm Comparison')\n",
        "ax = fig.add_subplot(111)\n",
        "pyplot.boxplot(results)\n",
        "ax.set_xticklabels(names)\n",
        "pyplot.show()"
      ],
      "metadata": {
        "pycharm": {
          "name": "#%%\n"
        },
        "colab": {
          "base_uri": "https://localhost:8080/",
          "height": 294
        },
        "id": "L0T1mx-mr3Ez",
        "outputId": "d447f3db-3bf7-485c-b58c-adeac5361066"
      }
    },
    {
      "cell_type": "markdown",
      "source": [
        "The SVM showed the most promise as a low complexity and stable model for this problem. I will finalize the model by training it on the entire training dataset and make predictions for the hold-out validation dataset to confirm my findings.\n"
      ],
      "metadata": {
        "collapsed": false,
        "pycharm": {
          "name": "#%% md\n"
        },
        "id": "PIz1T0Q-r3E0"
      }
    },
    {
      "cell_type": "code",
      "execution_count": null,
      "outputs": [
        {
          "output_type": "stream",
          "name": "stdout",
          "text": [
            "0.8033707865168539\n"
          ]
        }
      ],
      "source": [
        "model = SVC(C=1.5)\n",
        "model.fit(X_train, y_train)\n",
        "# estimate accuracy on validation dataset\n",
        "predictions = model.predict(X_test)\n",
        "print(accuracy_score(y_test, predictions))"
      ],
      "metadata": {
        "pycharm": {
          "name": "#%%\n"
        },
        "colab": {
          "base_uri": "https://localhost:8080/"
        },
        "id": "Y0JPcDVsr3E5",
        "outputId": "b05a1f39-3f95-40bb-f911-c32b8ae1df18"
      }
    },
    {
      "cell_type": "code",
      "execution_count": null,
      "outputs": [
        {
          "output_type": "stream",
          "name": "stdout",
          "text": [
            "[[102  12]\n",
            " [ 23  41]]\n",
            "              precision    recall  f1-score   support\n",
            "\n",
            "           0       0.82      0.89      0.85       114\n",
            "           1       0.77      0.64      0.70        64\n",
            "\n",
            "    accuracy                           0.80       178\n",
            "   macro avg       0.79      0.77      0.78       178\n",
            "weighted avg       0.80      0.80      0.80       178\n",
            "\n"
          ]
        }
      ],
      "source": [
        "print(confusion_matrix(y_test, predictions))\n",
        "print(classification_report(y_test, predictions))"
      ],
      "metadata": {
        "pycharm": {
          "name": "#%%\n"
        },
        "colab": {
          "base_uri": "https://localhost:8080/"
        },
        "id": "c1nKiF8hr3E7",
        "outputId": "bc51778b-74eb-49ee-a6e8-2ecd8ee6c770"
      }
    },
    {
      "cell_type": "code",
      "execution_count": null,
      "outputs": [],
      "source": [
        "preds = model.predict(test_data)"
      ],
      "metadata": {
        "pycharm": {
          "name": "#%%\n"
        },
        "id": "AUhOToHjr3FA"
      }
    },
    {
      "cell_type": "markdown",
      "source": [
        "This yielded an accuracy score of .777 on Kaggle"
      ],
      "metadata": {
        "collapsed": false,
        "pycharm": {
          "name": "#%% md\n"
        },
        "id": "n6WW1y1xr3FA"
      }
    },
    {
      "cell_type": "markdown",
      "source": [
        "Lets try all that again with LOOCV"
      ],
      "metadata": {
        "collapsed": false,
        "pycharm": {
          "name": "#%% md\n"
        },
        "id": "wqFbxXHsr3FA"
      }
    },
    {
      "cell_type": "code",
      "execution_count": null,
      "outputs": [
        {
          "output_type": "stream",
          "name": "stdout",
          "text": [
            "LR: 0.792351 (0.054943)\n",
            "LDA: 0.790904 (0.059140)\n",
            "KNN: 0.775509 (0.061970)\n",
            "CART: 0.796635 (0.052370)\n",
            "NB: 0.755829 (0.066580)\n",
            "SVM: 0.825978 (0.050341)\n"
          ]
        }
      ],
      "source": [
        "from sklearn.model_selection import LeaveOneOut\n",
        "from sklearn.model_selection import cross_val_score\n",
        "results = []\n",
        "names = []\n",
        "for name, model in models:\n",
        "    loocv = LeaveOneOut()\n",
        "    cv_results = cross_val_score(model, X_train, y_train, cv=kfold, scoring=scoring)\n",
        "    results.append(cv_results)\n",
        "    names.append(name)\n",
        "    #print(\"Accuracy: %.3f%% (%.3f%%)\") % (results.mean()*100.0, results.std()*100.0)\n",
        "    msg = \"%s: %f (%f)\" % (name, cv_results.mean(), cv_results.std())\n",
        "    print(msg)"
      ],
      "metadata": {
        "pycharm": {
          "name": "#%%\n"
        },
        "colab": {
          "base_uri": "https://localhost:8080/"
        },
        "id": "TZir62vGr3FA",
        "outputId": "112751ea-0a42-4bcd-826f-ca2e0605da70"
      }
    },
    {
      "cell_type": "markdown",
      "source": [
        "SVM is definitely the best on unscaled."
      ],
      "metadata": {
        "collapsed": false,
        "pycharm": {
          "name": "#%% md\n"
        },
        "id": "cGbkdngBr3FB"
      }
    },
    {
      "cell_type": "code",
      "execution_count": null,
      "outputs": [
        {
          "output_type": "stream",
          "name": "stdout",
          "text": [
            "Best: 0.827489 using {'C': 0.3, 'kernel': 'rbf'}\n",
            "0.788219 (0.408571) with: {'C': 0.1, 'kernel': 'linear'}\n",
            "0.762973 (0.425259) with: {'C': 0.1, 'kernel': 'poly'}\n",
            "0.809257 (0.392887) with: {'C': 0.1, 'kernel': 'rbf'}\n",
            "0.771388 (0.419938) with: {'C': 0.1, 'kernel': 'sigmoid'}\n",
            "0.788219 (0.408571) with: {'C': 0.3, 'kernel': 'linear'}\n",
            "0.779804 (0.414379) with: {'C': 0.3, 'kernel': 'poly'}\n",
            "0.827489 (0.377824) with: {'C': 0.3, 'kernel': 'rbf'}\n",
            "0.705470 (0.455831) with: {'C': 0.3, 'kernel': 'sigmoid'}\n",
            "0.788219 (0.408571) with: {'C': 0.5, 'kernel': 'linear'}\n",
            "0.800842 (0.399367) with: {'C': 0.5, 'kernel': 'poly'}\n",
            "0.823282 (0.381430) with: {'C': 0.5, 'kernel': 'rbf'}\n",
            "0.701262 (0.457705) with: {'C': 0.5, 'kernel': 'sigmoid'}\n",
            "0.788219 (0.408571) with: {'C': 0.7, 'kernel': 'linear'}\n",
            "0.813464 (0.389538) with: {'C': 0.7, 'kernel': 'poly'}\n",
            "0.809257 (0.392887) with: {'C': 0.7, 'kernel': 'rbf'}\n",
            "0.705470 (0.455831) with: {'C': 0.7, 'kernel': 'sigmoid'}\n",
            "0.788219 (0.408571) with: {'C': 0.9, 'kernel': 'linear'}\n",
            "0.802244 (0.398307) with: {'C': 0.9, 'kernel': 'poly'}\n",
            "0.805049 (0.396163) with: {'C': 0.9, 'kernel': 'rbf'}\n",
            "0.709677 (0.453911) with: {'C': 0.9, 'kernel': 'sigmoid'}\n",
            "0.788219 (0.408571) with: {'C': 1.0, 'kernel': 'linear'}\n",
            "0.803647 (0.397239) with: {'C': 1.0, 'kernel': 'poly'}\n",
            "0.807854 (0.393987) with: {'C': 1.0, 'kernel': 'rbf'}\n",
            "0.768583 (0.421738) with: {'C': 1.0, 'kernel': 'sigmoid'}\n",
            "0.788219 (0.408571) with: {'C': 1.3, 'kernel': 'linear'}\n",
            "0.806452 (0.395079) with: {'C': 1.3, 'kernel': 'poly'}\n",
            "0.814867 (0.388406) with: {'C': 1.3, 'kernel': 'rbf'}\n",
            "0.687237 (0.463619) with: {'C': 1.3, 'kernel': 'sigmoid'}\n",
            "0.788219 (0.408571) with: {'C': 1.5, 'kernel': 'linear'}\n",
            "0.807854 (0.393987) with: {'C': 1.5, 'kernel': 'poly'}\n",
            "0.812062 (0.390663) with: {'C': 1.5, 'kernel': 'rbf'}\n",
            "0.775596 (0.417189) with: {'C': 1.5, 'kernel': 'sigmoid'}\n",
            "0.788219 (0.408571) with: {'C': 1.7, 'kernel': 'linear'}\n",
            "0.799439 (0.400420) with: {'C': 1.7, 'kernel': 'poly'}\n",
            "0.813464 (0.389538) with: {'C': 1.7, 'kernel': 'rbf'}\n",
            "0.652174 (0.476280) with: {'C': 1.7, 'kernel': 'sigmoid'}\n",
            "0.788219 (0.408571) with: {'C': 2.0, 'kernel': 'linear'}\n",
            "0.803647 (0.397239) with: {'C': 2.0, 'kernel': 'poly'}\n",
            "0.821879 (0.382614) with: {'C': 2.0, 'kernel': 'rbf'}\n",
            "0.709677 (0.453911) with: {'C': 2.0, 'kernel': 'sigmoid'}\n"
          ]
        }
      ],
      "source": [
        "model = SVC()\n",
        "grid = GridSearchCV(estimator=model, param_grid=param_grid, scoring=scoring, cv=LeaveOneOut())\n",
        "grid_result = grid.fit(rescaledX, y_train)\n",
        "print(\"Best: %f using %s\" % (grid_result.best_score_, grid_result.best_params_))\n",
        "means = grid_result.cv_results_['mean_test_score']\n",
        "stds = grid_result.cv_results_['std_test_score']\n",
        "params = grid_result.cv_results_['params']\n",
        "for mean, stdev, param in zip(means, stds, params):\n",
        "    print(\"%f (%f) with: %r\" % (mean, stdev, param))"
      ],
      "metadata": {
        "pycharm": {
          "name": "#%%\n"
        },
        "colab": {
          "base_uri": "https://localhost:8080/"
        },
        "id": "AYXjIj8er3FD",
        "outputId": "bf153dc7-4f06-4800-f840-5214cd56b5dc"
      }
    },
    {
      "cell_type": "code",
      "execution_count": null,
      "outputs": [
        {
          "output_type": "stream",
          "name": "stdout",
          "text": [
            "Best: 0.830295 using {'C': 0.5, 'kernel': 'rbf'}\n",
            "0.788219 (0.408571) with: {'C': 0.1, 'kernel': 'linear'}\n",
            "0.697055 (0.459532) with: {'C': 0.1, 'kernel': 'poly'}\n",
            "0.816269 (0.387264) with: {'C': 0.1, 'kernel': 'rbf'}\n",
            "0.734923 (0.441374) with: {'C': 0.1, 'kernel': 'sigmoid'}\n",
            "0.788219 (0.408571) with: {'C': 0.3, 'kernel': 'linear'}\n",
            "0.708275 (0.454556) with: {'C': 0.3, 'kernel': 'poly'}\n",
            "0.828892 (0.376603) with: {'C': 0.3, 'kernel': 'rbf'}\n",
            "0.673212 (0.469039) with: {'C': 0.3, 'kernel': 'sigmoid'}\n",
            "0.788219 (0.408571) with: {'C': 0.5, 'kernel': 'linear'}\n",
            "0.708275 (0.454556) with: {'C': 0.5, 'kernel': 'poly'}\n",
            "0.830295 (0.375374) with: {'C': 0.5, 'kernel': 'rbf'}\n",
            "0.666199 (0.471570) with: {'C': 0.5, 'kernel': 'sigmoid'}\n",
            "0.788219 (0.408571) with: {'C': 0.7, 'kernel': 'linear'}\n",
            "0.753156 (0.431175) with: {'C': 0.7, 'kernel': 'poly'}\n",
            "0.826087 (0.379035) with: {'C': 0.7, 'kernel': 'rbf'}\n",
            "0.647966 (0.477604) with: {'C': 0.7, 'kernel': 'sigmoid'}\n",
            "0.788219 (0.408571) with: {'C': 0.9, 'kernel': 'linear'}\n",
            "0.755961 (0.429516) with: {'C': 0.9, 'kernel': 'poly'}\n",
            "0.827489 (0.377824) with: {'C': 0.9, 'kernel': 'rbf'}\n",
            "0.740533 (0.438342) with: {'C': 0.9, 'kernel': 'sigmoid'}\n",
            "0.788219 (0.408571) with: {'C': 1.0, 'kernel': 'linear'}\n",
            "0.772791 (0.419029) with: {'C': 1.0, 'kernel': 'poly'}\n",
            "0.826087 (0.379035) with: {'C': 1.0, 'kernel': 'rbf'}\n",
            "0.684432 (0.464742) with: {'C': 1.0, 'kernel': 'sigmoid'}\n",
            "0.788219 (0.408571) with: {'C': 1.3, 'kernel': 'linear'}\n",
            "0.778401 (0.415323) with: {'C': 1.3, 'kernel': 'poly'}\n",
            "0.827489 (0.377824) with: {'C': 1.3, 'kernel': 'rbf'}\n",
            "0.638149 (0.480536) with: {'C': 1.3, 'kernel': 'sigmoid'}\n",
            "0.788219 (0.408571) with: {'C': 1.5, 'kernel': 'linear'}\n",
            "0.805049 (0.396163) with: {'C': 1.5, 'kernel': 'poly'}\n",
            "0.826087 (0.379035) with: {'C': 1.5, 'kernel': 'rbf'}\n",
            "0.734923 (0.441374) with: {'C': 1.5, 'kernel': 'sigmoid'}\n",
            "0.788219 (0.408571) with: {'C': 1.7, 'kernel': 'linear'}\n",
            "0.796634 (0.402503) with: {'C': 1.7, 'kernel': 'poly'}\n",
            "0.821879 (0.382614) with: {'C': 1.7, 'kernel': 'rbf'}\n",
            "0.713885 (0.451944) with: {'C': 1.7, 'kernel': 'sigmoid'}\n",
            "0.788219 (0.408571) with: {'C': 2.0, 'kernel': 'linear'}\n",
            "0.802244 (0.398307) with: {'C': 2.0, 'kernel': 'poly'}\n",
            "0.821879 (0.382614) with: {'C': 2.0, 'kernel': 'rbf'}\n",
            "0.683029 (0.465296) with: {'C': 2.0, 'kernel': 'sigmoid'}\n"
          ]
        }
      ],
      "source": [
        "grid_result = grid.fit(X_train, y_train)\n",
        "print(\"Best: %f using %s\" % (grid_result.best_score_, grid_result.best_params_))\n",
        "means = grid_result.cv_results_['mean_test_score']\n",
        "stds = grid_result.cv_results_['std_test_score']\n",
        "params = grid_result.cv_results_['params']\n",
        "for mean, stdev, param in zip(means, stds, params):\n",
        "    print(\"%f (%f) with: %r\" % (mean, stdev, param))"
      ],
      "metadata": {
        "pycharm": {
          "name": "#%%\n"
        },
        "colab": {
          "base_uri": "https://localhost:8080/"
        },
        "id": "n4CDs_aNr3FD",
        "outputId": "04496a28-b7eb-43a6-b137-d9b7ce07cc9c"
      }
    },
    {
      "cell_type": "code",
      "execution_count": null,
      "outputs": [],
      "source": [],
      "metadata": {
        "pycharm": {
          "name": "#%%\n"
        },
        "id": "7xgh3T0zr3FD"
      }
    },
    {
      "cell_type": "markdown",
      "source": [
        "For scaled x, SVC with rbf and C=0.3 yields an accuracy of 82.7% on the training data (6 minutes). For unscaled x, we get 83.0% with C=0.5 and rbf kernel.\n",
        "\n",
        "Lets try some ensembles."
      ],
      "metadata": {
        "id": "K23JDEXM0hj7"
      }
    },
    {
      "cell_type": "code",
      "source": [
        "from sklearn.ensemble import VotingClassifier\n",
        "# create the sub models\n",
        "estimators = []\n",
        "model1 = LogisticRegression()\n",
        "estimators.append(('logistic', model1))\n",
        "model2 = DecisionTreeClassifier()\n",
        "estimators.append(('cart', model2))\n",
        "model3 = SVC(C=0.5)\n",
        "estimators.append(('svm', model3))\n",
        "estimators.append(('xgb', xgb))\n",
        "# create the ensemble model\n",
        "ensemble = VotingClassifier(estimators)\n",
        "results = cross_val_score(ensemble, X_train, y_train, cv=loocv)\n",
        "print(results.mean())"
      ],
      "metadata": {
        "colab": {
          "base_uri": "https://localhost:8080/"
        },
        "id": "fd8hVV_F2KhJ",
        "outputId": "6fb0784f-2cc2-44a9-c543-d45c289f1aea"
      },
      "execution_count": null,
      "outputs": [
        {
          "output_type": "stream",
          "name": "stdout",
          "text": [
            "0.8316970546984572\n"
          ]
        }
      ]
    },
    {
      "cell_type": "markdown",
      "source": [
        "We can check with log"
      ],
      "metadata": {
        "id": "d-1g68E72ZPZ"
      }
    },
    {
      "cell_type": "code",
      "source": [
        "ensemble.fit(X_train, y_train)"
      ],
      "metadata": {
        "colab": {
          "base_uri": "https://localhost:8080/"
        },
        "id": "BuEwUJfA4wiT",
        "outputId": "577e4249-3ce7-4edb-d047-5b440110be61"
      },
      "execution_count": null,
      "outputs": [
        {
          "output_type": "execute_result",
          "data": {
            "text/plain": [
              "VotingClassifier(estimators=[('logistic', LogisticRegression()),\n",
              "                             ('cart', DecisionTreeClassifier()),\n",
              "                             ('svm', SVC())])"
            ]
          },
          "metadata": {},
          "execution_count": 60
        }
      ]
    },
    {
      "cell_type": "code",
      "source": [
        "model_performance_classification(model3, X_test, y_test)"
      ],
      "metadata": {
        "colab": {
          "base_uri": "https://localhost:8080/",
          "height": 80
        },
        "id": "uVg6JN8Z8R4a",
        "outputId": "86ad4bec-d0ee-4c71-acd4-54b4c0b3f192"
      },
      "execution_count": null,
      "outputs": [
        {
          "output_type": "execute_result",
          "data": {
            "text/plain": [
              "   Precision    Recall  Accuracy\n",
              "0   0.794792  0.767681  0.803371"
            ],
            "text/html": [
              "\n",
              "  <div id=\"df-dfa55530-ab2c-4c65-bf5d-414ae9a04c30\">\n",
              "    <div class=\"colab-df-container\">\n",
              "      <div>\n",
              "<style scoped>\n",
              "    .dataframe tbody tr th:only-of-type {\n",
              "        vertical-align: middle;\n",
              "    }\n",
              "\n",
              "    .dataframe tbody tr th {\n",
              "        vertical-align: top;\n",
              "    }\n",
              "\n",
              "    .dataframe thead th {\n",
              "        text-align: right;\n",
              "    }\n",
              "</style>\n",
              "<table border=\"1\" class=\"dataframe\">\n",
              "  <thead>\n",
              "    <tr style=\"text-align: right;\">\n",
              "      <th></th>\n",
              "      <th>Precision</th>\n",
              "      <th>Recall</th>\n",
              "      <th>Accuracy</th>\n",
              "    </tr>\n",
              "  </thead>\n",
              "  <tbody>\n",
              "    <tr>\n",
              "      <th>0</th>\n",
              "      <td>0.794792</td>\n",
              "      <td>0.767681</td>\n",
              "      <td>0.803371</td>\n",
              "    </tr>\n",
              "  </tbody>\n",
              "</table>\n",
              "</div>\n",
              "      <button class=\"colab-df-convert\" onclick=\"convertToInteractive('df-dfa55530-ab2c-4c65-bf5d-414ae9a04c30')\"\n",
              "              title=\"Convert this dataframe to an interactive table.\"\n",
              "              style=\"display:none;\">\n",
              "        \n",
              "  <svg xmlns=\"http://www.w3.org/2000/svg\" height=\"24px\"viewBox=\"0 0 24 24\"\n",
              "       width=\"24px\">\n",
              "    <path d=\"M0 0h24v24H0V0z\" fill=\"none\"/>\n",
              "    <path d=\"M18.56 5.44l.94 2.06.94-2.06 2.06-.94-2.06-.94-.94-2.06-.94 2.06-2.06.94zm-11 1L8.5 8.5l.94-2.06 2.06-.94-2.06-.94L8.5 2.5l-.94 2.06-2.06.94zm10 10l.94 2.06.94-2.06 2.06-.94-2.06-.94-.94-2.06-.94 2.06-2.06.94z\"/><path d=\"M17.41 7.96l-1.37-1.37c-.4-.4-.92-.59-1.43-.59-.52 0-1.04.2-1.43.59L10.3 9.45l-7.72 7.72c-.78.78-.78 2.05 0 2.83L4 21.41c.39.39.9.59 1.41.59.51 0 1.02-.2 1.41-.59l7.78-7.78 2.81-2.81c.8-.78.8-2.07 0-2.86zM5.41 20L4 18.59l7.72-7.72 1.47 1.35L5.41 20z\"/>\n",
              "  </svg>\n",
              "      </button>\n",
              "      \n",
              "  <style>\n",
              "    .colab-df-container {\n",
              "      display:flex;\n",
              "      flex-wrap:wrap;\n",
              "      gap: 12px;\n",
              "    }\n",
              "\n",
              "    .colab-df-convert {\n",
              "      background-color: #E8F0FE;\n",
              "      border: none;\n",
              "      border-radius: 50%;\n",
              "      cursor: pointer;\n",
              "      display: none;\n",
              "      fill: #1967D2;\n",
              "      height: 32px;\n",
              "      padding: 0 0 0 0;\n",
              "      width: 32px;\n",
              "    }\n",
              "\n",
              "    .colab-df-convert:hover {\n",
              "      background-color: #E2EBFA;\n",
              "      box-shadow: 0px 1px 2px rgba(60, 64, 67, 0.3), 0px 1px 3px 1px rgba(60, 64, 67, 0.15);\n",
              "      fill: #174EA6;\n",
              "    }\n",
              "\n",
              "    [theme=dark] .colab-df-convert {\n",
              "      background-color: #3B4455;\n",
              "      fill: #D2E3FC;\n",
              "    }\n",
              "\n",
              "    [theme=dark] .colab-df-convert:hover {\n",
              "      background-color: #434B5C;\n",
              "      box-shadow: 0px 1px 3px 1px rgba(0, 0, 0, 0.15);\n",
              "      filter: drop-shadow(0px 1px 2px rgba(0, 0, 0, 0.3));\n",
              "      fill: #FFFFFF;\n",
              "    }\n",
              "  </style>\n",
              "\n",
              "      <script>\n",
              "        const buttonEl =\n",
              "          document.querySelector('#df-dfa55530-ab2c-4c65-bf5d-414ae9a04c30 button.colab-df-convert');\n",
              "        buttonEl.style.display =\n",
              "          google.colab.kernel.accessAllowed ? 'block' : 'none';\n",
              "\n",
              "        async function convertToInteractive(key) {\n",
              "          const element = document.querySelector('#df-dfa55530-ab2c-4c65-bf5d-414ae9a04c30');\n",
              "          const dataTable =\n",
              "            await google.colab.kernel.invokeFunction('convertToInteractive',\n",
              "                                                     [key], {});\n",
              "          if (!dataTable) return;\n",
              "\n",
              "          const docLinkHtml = 'Like what you see? Visit the ' +\n",
              "            '<a target=\"_blank\" href=https://colab.research.google.com/notebooks/data_table.ipynb>data table notebook</a>'\n",
              "            + ' to learn more about interactive tables.';\n",
              "          element.innerHTML = '';\n",
              "          dataTable['output_type'] = 'display_data';\n",
              "          await google.colab.output.renderOutput(dataTable, element);\n",
              "          const docLink = document.createElement('div');\n",
              "          docLink.innerHTML = docLinkHtml;\n",
              "          element.appendChild(docLink);\n",
              "        }\n",
              "      </script>\n",
              "    </div>\n",
              "  </div>\n",
              "  "
            ]
          },
          "metadata": {},
          "execution_count": 76
        }
      ]
    },
    {
      "cell_type": "code",
      "source": [
        "model3.fit(X_train, y_train)"
      ],
      "metadata": {
        "colab": {
          "base_uri": "https://localhost:8080/"
        },
        "id": "9RD9dLFw5tjz",
        "outputId": "f24dedfb-e64c-4028-cc50-e6bb328e7e3f"
      },
      "execution_count": null,
      "outputs": [
        {
          "output_type": "execute_result",
          "data": {
            "text/plain": [
              "SVC()"
            ]
          },
          "metadata": {},
          "execution_count": 68
        }
      ]
    },
    {
      "cell_type": "code",
      "source": [],
      "metadata": {
        "id": "7LYsZGVK51bu"
      },
      "execution_count": null,
      "outputs": []
    },
    {
      "cell_type": "code",
      "source": [
        "preds = model3.predict(test_data)"
      ],
      "metadata": {
        "id": "ZzUfLu_Y43yl"
      },
      "execution_count": null,
      "outputs": []
    },
    {
      "cell_type": "code",
      "source": [
        "out = pd.DataFrame(preds)"
      ],
      "metadata": {
        "id": "yEBPTnxR5E9g"
      },
      "execution_count": null,
      "outputs": []
    },
    {
      "cell_type": "code",
      "source": [
        "ids=np.arange(892, 1310)\n",
        "\n",
        "out.insert(0,\"PassengerId\",ids)\n"
      ],
      "metadata": {
        "id": "f5Jz5jgp5QLw"
      },
      "execution_count": null,
      "outputs": []
    },
    {
      "cell_type": "code",
      "source": [
        "from pathlib import Path"
      ],
      "metadata": {
        "id": "WY8iRgOl5S-7"
      },
      "execution_count": null,
      "outputs": []
    },
    {
      "cell_type": "code",
      "source": [
        "filepath = Path('out.csv')\n"
      ],
      "metadata": {
        "id": "dxUfhMrF5ZMv"
      },
      "execution_count": null,
      "outputs": []
    },
    {
      "cell_type": "code",
      "source": [
        "csv = out.to_csv(filepath, header = [\"PassengerId\",\"Survived\"], index=False)\n"
      ],
      "metadata": {
        "id": "7MRL2g7m5bUM"
      },
      "execution_count": null,
      "outputs": []
    },
    {
      "cell_type": "code",
      "source": [],
      "metadata": {
        "id": "KsEZ95gv5dTV"
      },
      "execution_count": null,
      "outputs": []
    }
  ],
  "metadata": {
    "colab": {
      "provenance": []
    },
    "kernelspec": {
      "display_name": "Python 3 (ipykernel)",
      "language": "python",
      "name": "python3"
    },
    "language_info": {
      "codemirror_mode": {
        "name": "ipython",
        "version": 3
      },
      "file_extension": ".py",
      "mimetype": "text/x-python",
      "name": "python",
      "nbconvert_exporter": "python",
      "pygments_lexer": "ipython3",
      "version": "3.9.7"
    },
    "accelerator": "GPU",
    "gpuClass": "standard"
  },
  "nbformat": 4,
  "nbformat_minor": 0
}
