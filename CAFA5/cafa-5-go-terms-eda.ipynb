{
 "cells": [
  {
   "cell_type": "markdown",
   "id": "28ff8662",
   "metadata": {
    "papermill": {
     "duration": 0.005068,
     "end_time": "2023-05-31T19:07:14.465056",
     "exception": false,
     "start_time": "2023-05-31T19:07:14.459988",
     "status": "completed"
    },
    "tags": []
   },
   "source": [
    "# Exploratory Data Analysis (EDA) - Gene Ontology (GO) Terms\n"
   ]
  },
  {
   "cell_type": "markdown",
   "id": "3d77fe23",
   "metadata": {
    "papermill": {
     "duration": 0.00415,
     "end_time": "2023-05-31T19:07:14.473754",
     "exception": false,
     "start_time": "2023-05-31T19:07:14.469604",
     "status": "completed"
    },
    "tags": []
   },
   "source": [
    "In this notebook, we will perform an Exploratory Data Analysis (EDA) on the gene ontology terms associated with the sequences in the train dataset. The gene ontology terms provide functional annotations to the sequences, allowing us to gain insights into the biological processes, cellular components, and molecular functions associated with the sequences.\n",
    "\n",
    "## Dataset Overview\n",
    "\n",
    "The analysis will be based on the following files:\n",
    "\n",
    "- `train_terms.tsv`: This file contains the gene ontology terms associated with each sequence in the train dataset. The terms are represented as a tab-separated values (TSV) file, where each row corresponds to a sequence and the associated gene ontology terms are listed.\n",
    "- `go-basic.obo`: This file contains the ontology data in the GO graph structure. The GO graph represents the hierarchical relationships between gene ontology terms, providing information about the parent-child relationships and the overall structure of the gene ontology.\n",
    "\n",
    "## Goals of the Analysis\n",
    "\n",
    "The main goals of this analysis are:\n",
    "\n",
    "1. Analyze the distribution of GO terms across the sequences to understand the functional annotations present in the dataset.\n",
    "2. Identify the most common or prevalent GO terms to gain insights into the dominant functional annotations.\n",
    "3. Explore the relationships and dependencies between GO terms using the GO graph structure to uncover the hierarchical organization of functional annotations.\n",
    "\n",
    "## Approach\n",
    "\n",
    "To achieve these goals, we will perform various exploratory data analysis techniques, including data visualization and statistical analysis. We will use Python and relevant libraries such as pandas, matplotlib, and networkx to load, process, and analyze the data.\n",
    "\n",
    "Let's begin the analysis and delve into the gene ontology terms associated with the sequences in the train dataset!"
   ]
  },
  {
   "cell_type": "code",
   "execution_count": 1,
   "id": "b810727d",
   "metadata": {
    "_cell_guid": "b1076dfc-b9ad-4769-8c92-a6c4dae69d19",
    "_uuid": "8f2839f25d086af736a60e9eeb907d3b93b6e0e5",
    "execution": {
     "iopub.execute_input": "2023-05-31T19:07:14.486175Z",
     "iopub.status.busy": "2023-05-31T19:07:14.485189Z",
     "iopub.status.idle": "2023-05-31T19:07:14.506588Z",
     "shell.execute_reply": "2023-05-31T19:07:14.505675Z"
    },
    "papermill": {
     "duration": 0.029536,
     "end_time": "2023-05-31T19:07:14.508571",
     "exception": false,
     "start_time": "2023-05-31T19:07:14.479035",
     "status": "completed"
    },
    "tags": []
   },
   "outputs": [
    {
     "name": "stdout",
     "output_type": "stream",
     "text": [
      "/kaggle/input/cafa-5-protein-function-prediction/sample_submission.tsv\n",
      "/kaggle/input/cafa-5-protein-function-prediction/IA.txt\n",
      "/kaggle/input/cafa-5-protein-function-prediction/Test (Targets)/testsuperset.fasta\n",
      "/kaggle/input/cafa-5-protein-function-prediction/Test (Targets)/testsuperset-taxon-list.tsv\n",
      "/kaggle/input/cafa-5-protein-function-prediction/Train/train_terms.tsv\n",
      "/kaggle/input/cafa-5-protein-function-prediction/Train/train_sequences.fasta\n",
      "/kaggle/input/cafa-5-protein-function-prediction/Train/train_taxonomy.tsv\n",
      "/kaggle/input/cafa-5-protein-function-prediction/Train/go-basic.obo\n"
     ]
    }
   ],
   "source": [
    "# This Python 3 environment comes with many helpful analytics libraries installed\n",
    "# It is defined by the kaggle/python Docker image: https://github.com/kaggle/docker-python\n",
    "# For example, here's several helpful packages to load\n",
    "\n",
    "import numpy as np # linear algebra\n",
    "import pandas as pd # data processing, CSV file I/O (e.g. pd.read_csv)\n",
    "import matplotlib.pyplot as plt\n",
    "\n",
    "# Input data files are available in the read-only \"../input/\" directory\n",
    "# For example, running this (by clicking run or pressing Shift+Enter) will list all files under the input directory\n",
    "\n",
    "import os\n",
    "for dirname, _, filenames in os.walk('/kaggle/input'):\n",
    "    for filename in filenames:\n",
    "        print(os.path.join(dirname, filename))\n",
    "\n",
    "# You can write up to 20GB to the current directory (/kaggle/working/) that gets preserved as output when you create a version using \"Save & Run All\" \n",
    "# You can also write temporary files to /kaggle/temp/, but they won't be saved outside of the current session"
   ]
  },
  {
   "cell_type": "code",
   "execution_count": 2,
   "id": "4aafa9f7",
   "metadata": {
    "execution": {
     "iopub.execute_input": "2023-05-31T19:07:14.519271Z",
     "iopub.status.busy": "2023-05-31T19:07:14.518948Z",
     "iopub.status.idle": "2023-05-31T19:07:18.706509Z",
     "shell.execute_reply": "2023-05-31T19:07:18.705697Z"
    },
    "papermill": {
     "duration": 4.195522,
     "end_time": "2023-05-31T19:07:18.708742",
     "exception": false,
     "start_time": "2023-05-31T19:07:14.513220",
     "status": "completed"
    },
    "tags": []
   },
   "outputs": [],
   "source": [
    "import pandas as pd\n",
    "\n",
    "train_terms_df = pd.read_csv('/kaggle/input/cafa-5-protein-function-prediction/Train/train_terms.tsv', delimiter='\\t')\n",
    "go_terms_df = pd.read_csv('/kaggle/input/cafa-5-protein-function-prediction/Train/train_terms.tsv', delimiter='\\t')\n"
   ]
  },
  {
   "cell_type": "code",
   "execution_count": 3,
   "id": "7600d1fb",
   "metadata": {
    "execution": {
     "iopub.execute_input": "2023-05-31T19:07:18.719991Z",
     "iopub.status.busy": "2023-05-31T19:07:18.719432Z",
     "iopub.status.idle": "2023-05-31T19:07:20.793435Z",
     "shell.execute_reply": "2023-05-31T19:07:20.792111Z"
    },
    "papermill": {
     "duration": 2.082301,
     "end_time": "2023-05-31T19:07:20.795893",
     "exception": false,
     "start_time": "2023-05-31T19:07:18.713592",
     "status": "completed"
    },
    "tags": []
   },
   "outputs": [
    {
     "name": "stdout",
     "output_type": "stream",
     "text": [
      "Number of rows: 5363863\n",
      "Number of columns: 3\n",
      "Data types:\n",
      "EntryID    object\n",
      "term       object\n",
      "aspect     object\n",
      "dtype: object\n",
      "Missing values:\n",
      "EntryID    0\n",
      "term       0\n",
      "aspect     0\n",
      "dtype: int64\n",
      "Sample data:\n",
      "      EntryID        term aspect\n",
      "0  A0A009IHW8  GO:0008152    BPO\n",
      "1  A0A009IHW8  GO:0034655    BPO\n",
      "2  A0A009IHW8  GO:0072523    BPO\n",
      "3  A0A009IHW8  GO:0044270    BPO\n",
      "4  A0A009IHW8  GO:0006753    BPO\n"
     ]
    }
   ],
   "source": [
    "# Perform initial data exploration\n",
    "print(\"Number of rows:\", len(train_terms_df))\n",
    "print(\"Number of columns:\", len(train_terms_df.columns))\n",
    "print(\"Data types:\")\n",
    "print(train_terms_df.dtypes)\n",
    "print(\"Missing values:\")\n",
    "print(train_terms_df.isnull().sum())\n",
    "\n",
    "# Sample the first few rows of the DataFrame\n",
    "print(\"Sample data:\")\n",
    "print(train_terms_df.head())\n"
   ]
  },
  {
   "cell_type": "markdown",
   "id": "90a172a8",
   "metadata": {
    "papermill": {
     "duration": 0.00467,
     "end_time": "2023-05-31T19:07:20.807330",
     "exception": false,
     "start_time": "2023-05-31T19:07:20.802660",
     "status": "completed"
    },
    "tags": []
   },
   "source": [
    "We can see that the dataset consists of 5,363,863 rows and 3 columns. The columns are labeled as EntryID, term, and aspect, with each column having an object data type.\n",
    "\n",
    "Furthermore, there are no missing values in any of the columns, as indicated by the count of 0 for each column.\n",
    "\n",
    "The sample data shows a subset of the dataset, displaying the EntryID, term, and aspect values for five rows."
   ]
  },
  {
   "cell_type": "code",
   "execution_count": 4,
   "id": "5df2f9bc",
   "metadata": {
    "execution": {
     "iopub.execute_input": "2023-05-31T19:07:20.818248Z",
     "iopub.status.busy": "2023-05-31T19:07:20.817928Z",
     "iopub.status.idle": "2023-05-31T19:07:24.053722Z",
     "shell.execute_reply": "2023-05-31T19:07:24.052351Z"
    },
    "papermill": {
     "duration": 3.244039,
     "end_time": "2023-05-31T19:07:24.056105",
     "exception": false,
     "start_time": "2023-05-31T19:07:20.812066",
     "status": "completed"
    },
    "tags": []
   },
   "outputs": [
    {
     "data": {
      "image/png": "[encoded data removed]",
      "text/plain": [
       "<Figure size 1000x600 with 1 Axes>"
      ]
     },
     "metadata": {},
     "output_type": "display_data"
    }
   ],
   "source": [
    "import pandas as pd\n",
    "import matplotlib.pyplot as plt\n",
    "\n",
    "# Read the train_terms.tsv file into a DataFrame\n",
    "data = pd.read_csv('/kaggle/input/cafa-5-protein-function-prediction/Train/train_terms.tsv', sep='\\t')\n",
    "\n",
    "# Calculate the frequency of different GO terms\n",
    "go_term_counts = data['term'].value_counts()\n",
    "\n",
    "# Read the go-basic.obo file and extract the mapping of term codes to names\n",
    "go_terms_mapping = {}\n",
    "with open('/kaggle/input/cafa-5-protein-function-prediction/Train/go-basic.obo', 'r') as file:\n",
    "    for line in file:\n",
    "        if line.startswith('id:'):\n",
    "            term_code = line.strip().split(' ')[-1]\n",
    "        elif line.startswith('name:'):\n",
    "            term_name = line.strip().split(' ')[1:]\n",
    "            go_terms_mapping[term_code] = term_name\n",
    "\n",
    "# Replace the term codes in the index of go_term_counts with the corresponding term names\n",
    "go_term_counts.index = go_term_counts.index.map(go_terms_mapping)\n",
    "\n",
    "# Plot the distribution of GO terms using a bar plot\n",
    "plt.figure(figsize=(10, 6))\n",
    "go_term_counts.head(20).plot(kind='bar')\n",
    "plt.xlabel('GO Term')\n",
    "plt.ylabel('Frequency')\n",
    "plt.title('Distribution of GO Terms (Top 20)')\n",
    "plt.xticks(rotation=45, ha='right')\n",
    "plt.tight_layout()\n",
    "plt.show()\n"
   ]
  },
  {
   "cell_type": "code",
   "execution_count": 5,
   "id": "89630b1b",
   "metadata": {
    "execution": {
     "iopub.execute_input": "2023-05-31T19:07:24.069517Z",
     "iopub.status.busy": "2023-05-31T19:07:24.069146Z",
     "iopub.status.idle": "2023-05-31T19:07:24.080848Z",
     "shell.execute_reply": "2023-05-31T19:07:24.079950Z"
    },
    "papermill": {
     "duration": 0.020599,
     "end_time": "2023-05-31T19:07:24.082742",
     "exception": false,
     "start_time": "2023-05-31T19:07:24.062143",
     "status": "completed"
    },
    "tags": []
   },
   "outputs": [
    {
     "data": {
      "text/plain": [
       "[cellular_component]                            92912\n",
       "[biological_process]                            92210\n",
       "[cellular, anatomical, entity]                  91286\n",
       "[molecular_function]                            78637\n",
       "[intracellular, anatomical, structure]          70785\n",
       "[cellular, process]                             61293\n",
       "[organelle]                                     60883\n",
       "[intracellular, organelle]                      58315\n",
       "[binding]                                       57380\n",
       "[membrane-bounded, organelle]                   55452\n",
       "[cytoplasm]                                     53193\n",
       "[intracellular, membrane-bounded, organelle]    52218\n",
       "[protein, binding]                              47987\n",
       "[biological, regulation]                        41457\n",
       "[regulation, of, biological, process]           39256\n",
       "[regulation, of, cellular, process]             33888\n",
       "[response, to, stimulus]                        31098\n",
       "[metabolic, process]                            30448\n",
       "[multicellular, organismal, process]            29274\n",
       "[nucleus]                                       28932\n",
       "Name: term, dtype: int64"
      ]
     },
     "execution_count": 5,
     "metadata": {},
     "output_type": "execute_result"
    }
   ],
   "source": [
    "go_term_counts.head(20)"
   ]
  },
  {
   "cell_type": "markdown",
   "id": "78dd42df",
   "metadata": {
    "papermill": {
     "duration": 0.005628,
     "end_time": "2023-05-31T19:07:24.094611",
     "exception": false,
     "start_time": "2023-05-31T19:07:24.088983",
     "status": "completed"
    },
    "tags": []
   },
   "source": [
    "These terms represent different functional categories such as cellular components, biological processes, and molecular functions. Here are some observations and possible next steps based on the prevalent terms:\n",
    "\n",
    "1. **Cellular Component**: The terms related to cellular components are highly prevalent, indicating that the dataset contains a significant focus on the organization and localization of cellular structures.\n",
    "2. **Biological Process**: Similarly, the prevalence of terms related to biological processes suggests that the dataset covers a diverse range of biological activities and functions.\n",
    "3. **Molecular Function**: Molecular function terms indicate the types of activities performed by individual molecules, such as binding, catalysis, or receptor activity.\n",
    "4. **Intracellular Structures and Organelles**: Terms related to intracellular structures and organelles are prominent, emphasizing the importance of studying the internal organization and functions of cells.\n",
    "\n",
    "Based on these prevalent terms, some possible next steps could include:\n",
    "\n",
    "1. **Further Exploration of Specific Functional Categories**: Dive deeper into specific functional categories by analyzing their distributions, exploring relationships between different terms within a category, and investigating their associations with other variables of interest.\n",
    "2. **Functional Enrichment Analysis**: Perform functional enrichment analysis to identify overrepresented or enriched functional categories within the dataset. This analysis can provide insights into the functional significance of the dataset and potentially reveal underlying biological processes or pathways.\n",
    "3. **Comparative Analysis**: Compare the distribution of GO terms across different subsets or categories within the dataset. This analysis can help identify differences or similarities in functional annotations among different groups or conditions."
   ]
  },
  {
   "cell_type": "code",
   "execution_count": 6,
   "id": "3dad902c",
   "metadata": {
    "execution": {
     "iopub.execute_input": "2023-05-31T19:07:24.108942Z",
     "iopub.status.busy": "2023-05-31T19:07:24.108583Z",
     "iopub.status.idle": "2023-05-31T19:07:24.491576Z",
     "shell.execute_reply": "2023-05-31T19:07:24.490661Z"
    },
    "papermill": {
     "duration": 0.392719,
     "end_time": "2023-05-31T19:07:24.493337",
     "exception": false,
     "start_time": "2023-05-31T19:07:24.100618",
     "status": "completed"
    },
    "tags": []
   },
   "outputs": [
    {
     "name": "stdout",
     "output_type": "stream",
     "text": [
      "['GO:0008152' 'GO:0034655' 'GO:0072523' ... 'GO:0102626' 'GO:0102627'\n",
      " 'GO:0102628']\n"
     ]
    }
   ],
   "source": [
    "unique_categories = go_terms_df['term'].unique()\n",
    "print(unique_categories)"
   ]
  },
  {
   "cell_type": "code",
   "execution_count": 7,
   "id": "00754538",
   "metadata": {
    "execution": {
     "iopub.execute_input": "2023-05-31T19:07:24.507253Z",
     "iopub.status.busy": "2023-05-31T19:07:24.506922Z",
     "iopub.status.idle": "2023-05-31T19:07:24.969274Z",
     "shell.execute_reply": "2023-05-31T19:07:24.968194Z"
    },
    "papermill": {
     "duration": 0.471648,
     "end_time": "2023-05-31T19:07:24.971270",
     "exception": false,
     "start_time": "2023-05-31T19:07:24.499622",
     "status": "completed"
    },
    "tags": []
   },
   "outputs": [
    {
     "name": "stdout",
     "output_type": "stream",
     "text": [
      "GO:0005575    92912\n",
      "GO:0008150    92210\n",
      "GO:0110165    91286\n",
      "GO:0003674    78637\n",
      "GO:0005622    70785\n",
      "              ...  \n",
      "GO:0031772        1\n",
      "GO:0042324        1\n",
      "GO:0031771        1\n",
      "GO:0051041        1\n",
      "GO:0102628        1\n",
      "Name: term, Length: 31466, dtype: int64\n"
     ]
    }
   ],
   "source": [
    "category_counts = data['term'].value_counts()\n",
    "print(category_counts)"
   ]
  },
  {
   "cell_type": "markdown",
   "id": "b2056de6",
   "metadata": {
    "papermill": {
     "duration": 0.005867,
     "end_time": "2023-05-31T19:07:24.983614",
     "exception": false,
     "start_time": "2023-05-31T19:07:24.977747",
     "status": "completed"
    },
    "tags": []
   },
   "source": [
    "The unique values in the \"category\" column are represented by the GO term codes, such as 'GO:0008152', 'GO:0034655', etc. Instead of having explicit category names, the dataset contains the GO term codes as categories.\n",
    "\n",
    "To investigate the data further and understand the distribution and availability of GO terms, we can follow these steps:\n",
    "\n",
    "1. Convert GO term codes to category names"
   ]
  },
  {
   "cell_type": "markdown",
   "id": "e3529a92",
   "metadata": {
    "papermill": {
     "duration": 0.005877,
     "end_time": "2023-05-31T19:07:24.995498",
     "exception": false,
     "start_time": "2023-05-31T19:07:24.989621",
     "status": "completed"
    },
    "tags": []
   },
   "source": [
    "2. Analyze the distribution of GO terms"
   ]
  },
  {
   "cell_type": "code",
   "execution_count": 8,
   "id": "82676de8",
   "metadata": {
    "execution": {
     "iopub.execute_input": "2023-05-31T19:07:25.009397Z",
     "iopub.status.busy": "2023-05-31T19:07:25.009056Z",
     "iopub.status.idle": "2023-05-31T19:07:56.394063Z",
     "shell.execute_reply": "2023-05-31T19:07:56.392219Z"
    },
    "papermill": {
     "duration": 31.395273,
     "end_time": "2023-05-31T19:07:56.396896",
     "exception": false,
     "start_time": "2023-05-31T19:07:25.001623",
     "status": "completed"
    },
    "tags": []
   },
   "outputs": [
    {
     "name": "stdout",
     "output_type": "stream",
     "text": [
      "Collecting goatools\r\n",
      "  Downloading goatools-1.3.1-py3-none-any.whl (15.8 MB)\r\n",
      "\u001b[2K     \u001b[90m━━━━━━━━━━━━━━━━━━━━━━━━━━━━━━━━━━━━━━━━\u001b[0m \u001b[32m15.8/15.8 MB\u001b[0m \u001b[31m74.5 MB/s\u001b[0m eta \u001b[36m0:00:00\u001b[0m\r\n",
      "\u001b[?25hRequirement already satisfied: pandas in /opt/conda/lib/python3.10/site-packages (from goatools) (1.5.3)\r\n",
      "Requirement already satisfied: numpy in /opt/conda/lib/python3.10/site-packages (from goatools) (1.23.5)\r\n",
      "Requirement already satisfied: scipy in /opt/conda/lib/python3.10/site-packages (from goatools) (1.10.1)\r\n",
      "Collecting xlsxwriter (from goatools)\r\n",
      "  Downloading XlsxWriter-3.1.2-py3-none-any.whl (153 kB)\r\n",
      "\u001b[2K     \u001b[90m━━━━━━━━━━━━━━━━━━━━━━━━━━━━━━━━━━━━━━\u001b[0m \u001b[32m153.0/153.0 kB\u001b[0m \u001b[31m13.1 MB/s\u001b[0m eta \u001b[36m0:00:00\u001b[0m\r\n",
      "\u001b[?25hRequirement already satisfied: statsmodels in /opt/conda/lib/python3.10/site-packages (from goatools) (0.13.5)\r\n",
      "Requirement already satisfied: openpyxl in /opt/conda/lib/python3.10/site-packages (from goatools) (3.1.2)\r\n",
      "Requirement already satisfied: docopt in /opt/conda/lib/python3.10/site-packages (from goatools) (0.6.2)\r\n",
      "Requirement already satisfied: pydot in /opt/conda/lib/python3.10/site-packages (from goatools) (1.4.2)\r\n",
      "Requirement already satisfied: requests in /opt/conda/lib/python3.10/site-packages (from goatools) (2.28.2)\r\n",
      "Requirement already satisfied: et-xmlfile in /opt/conda/lib/python3.10/site-packages (from openpyxl->goatools) (1.1.0)\r\n",
      "Requirement already satisfied: python-dateutil>=2.8.1 in /opt/conda/lib/python3.10/site-packages (from pandas->goatools) (2.8.2)\r\n",
      "Requirement already satisfied: pytz>=2020.1 in /opt/conda/lib/python3.10/site-packages (from pandas->goatools) (2023.3)\r\n",
      "Requirement already satisfied: pyparsing>=2.1.4 in /opt/conda/lib/python3.10/site-packages (from pydot->goatools) (3.0.9)\r\n",
      "Requirement already satisfied: charset-normalizer<4,>=2 in /opt/conda/lib/python3.10/site-packages (from requests->goatools) (2.1.1)\r\n",
      "Requirement already satisfied: idna<4,>=2.5 in /opt/conda/lib/python3.10/site-packages (from requests->goatools) (3.4)\r\n",
      "Requirement already satisfied: urllib3<1.27,>=1.21.1 in /opt/conda/lib/python3.10/site-packages (from requests->goatools) (1.26.15)\r\n",
      "Requirement already satisfied: certifi>=2017.4.17 in /opt/conda/lib/python3.10/site-packages (from requests->goatools) (2023.5.7)\r\n",
      "Requirement already satisfied: patsy>=0.5.2 in /opt/conda/lib/python3.10/site-packages (from statsmodels->goatools) (0.5.3)\r\n",
      "Requirement already satisfied: packaging>=21.3 in /opt/conda/lib/python3.10/site-packages (from statsmodels->goatools) (21.3)\r\n",
      "Requirement already satisfied: six in /opt/conda/lib/python3.10/site-packages (from patsy>=0.5.2->statsmodels->goatools) (1.16.0)\r\n",
      "Installing collected packages: xlsxwriter, goatools\r\n",
      "Successfully installed goatools-1.3.1 xlsxwriter-3.1.2\r\n",
      "\u001b[33mWARNING: Running pip as the 'root' user can result in broken permissions and conflicting behaviour with the system package manager. It is recommended to use a virtual environment instead: https://pip.pypa.io/warnings/venv\u001b[0m\u001b[33m\r\n",
      "\u001b[0m"
     ]
    }
   ],
   "source": [
    "!pip install goatools"
   ]
  },
  {
   "cell_type": "code",
   "execution_count": 9,
   "id": "4cdb238b",
   "metadata": {
    "execution": {
     "iopub.execute_input": "2023-05-31T19:07:56.413516Z",
     "iopub.status.busy": "2023-05-31T19:07:56.413099Z",
     "iopub.status.idle": "2023-05-31T19:07:57.658806Z",
     "shell.execute_reply": "2023-05-31T19:07:57.657299Z"
    },
    "papermill": {
     "duration": 1.255888,
     "end_time": "2023-05-31T19:07:57.660395",
     "exception": true,
     "start_time": "2023-05-31T19:07:56.404507",
     "status": "failed"
    },
    "tags": []
   },
   "outputs": [
    {
     "ename": "FileNotFoundError",
     "evalue": "[Errno 2] No such file or directory: '/opt/conda/lib/python3.10/site-packages/numpy-1.24.3.dist-info/METADATA'",
     "output_type": "error",
     "traceback": [
      "\u001b[0;31m---------------------------------------------------------------------------\u001b[0m",
      "\u001b[0;31mAttributeError\u001b[0m                            Traceback (most recent call last)",
      "File \u001b[0;32m/opt/conda/lib/python3.10/site-packages/pkg_resources/__init__.py:3031\u001b[0m, in \u001b[0;36mDistInfoDistribution._dep_map\u001b[0;34m(self)\u001b[0m\n\u001b[1;32m   3030\u001b[0m \u001b[38;5;28;01mtry\u001b[39;00m:\n\u001b[0;32m-> 3031\u001b[0m     \u001b[38;5;28;01mreturn\u001b[39;00m \u001b[38;5;28;43mself\u001b[39;49m\u001b[38;5;241;43m.\u001b[39;49m\u001b[43m__dep_map\u001b[49m\n\u001b[1;32m   3032\u001b[0m \u001b[38;5;28;01mexcept\u001b[39;00m \u001b[38;5;167;01mAttributeError\u001b[39;00m:\n",
      "File \u001b[0;32m/opt/conda/lib/python3.10/site-packages/pkg_resources/__init__.py:2828\u001b[0m, in \u001b[0;36mDistribution.__getattr__\u001b[0;34m(self, attr)\u001b[0m\n\u001b[1;32m   2827\u001b[0m \u001b[38;5;28;01mif\u001b[39;00m attr\u001b[38;5;241m.\u001b[39mstartswith(\u001b[38;5;124m'\u001b[39m\u001b[38;5;124m_\u001b[39m\u001b[38;5;124m'\u001b[39m):\n\u001b[0;32m-> 2828\u001b[0m     \u001b[38;5;28;01mraise\u001b[39;00m \u001b[38;5;167;01mAttributeError\u001b[39;00m(attr)\n\u001b[1;32m   2829\u001b[0m \u001b[38;5;28;01mreturn\u001b[39;00m \u001b[38;5;28mgetattr\u001b[39m(\u001b[38;5;28mself\u001b[39m\u001b[38;5;241m.\u001b[39m_provider, attr)\n",
      "\u001b[0;31mAttributeError\u001b[0m: _DistInfoDistribution__dep_map",
      "\nDuring handling of the above exception, another exception occurred:\n",
      "\u001b[0;31mAttributeError\u001b[0m                            Traceback (most recent call last)",
      "File \u001b[0;32m/opt/conda/lib/python3.10/site-packages/pkg_resources/__init__.py:3022\u001b[0m, in \u001b[0;36mDistInfoDistribution._parsed_pkg_info\u001b[0;34m(self)\u001b[0m\n\u001b[1;32m   3021\u001b[0m \u001b[38;5;28;01mtry\u001b[39;00m:\n\u001b[0;32m-> 3022\u001b[0m     \u001b[38;5;28;01mreturn\u001b[39;00m \u001b[38;5;28;43mself\u001b[39;49m\u001b[38;5;241;43m.\u001b[39;49m\u001b[43m_pkg_info\u001b[49m\n\u001b[1;32m   3023\u001b[0m \u001b[38;5;28;01mexcept\u001b[39;00m \u001b[38;5;167;01mAttributeError\u001b[39;00m:\n",
      "File \u001b[0;32m/opt/conda/lib/python3.10/site-packages/pkg_resources/__init__.py:2828\u001b[0m, in \u001b[0;36mDistribution.__getattr__\u001b[0;34m(self, attr)\u001b[0m\n\u001b[1;32m   2827\u001b[0m \u001b[38;5;28;01mif\u001b[39;00m attr\u001b[38;5;241m.\u001b[39mstartswith(\u001b[38;5;124m'\u001b[39m\u001b[38;5;124m_\u001b[39m\u001b[38;5;124m'\u001b[39m):\n\u001b[0;32m-> 2828\u001b[0m     \u001b[38;5;28;01mraise\u001b[39;00m \u001b[38;5;167;01mAttributeError\u001b[39;00m(attr)\n\u001b[1;32m   2829\u001b[0m \u001b[38;5;28;01mreturn\u001b[39;00m \u001b[38;5;28mgetattr\u001b[39m(\u001b[38;5;28mself\u001b[39m\u001b[38;5;241m.\u001b[39m_provider, attr)\n",
      "\u001b[0;31mAttributeError\u001b[0m: _pkg_info",
      "\nDuring handling of the above exception, another exception occurred:\n",
      "\u001b[0;31mFileNotFoundError\u001b[0m                         Traceback (most recent call last)",
      "Cell \u001b[0;32mIn[9], line 2\u001b[0m\n\u001b[1;32m      1\u001b[0m \u001b[38;5;28;01mimport\u001b[39;00m \u001b[38;5;21;01mrequests\u001b[39;00m\n\u001b[0;32m----> 2\u001b[0m \u001b[38;5;28;01mfrom\u001b[39;00m \u001b[38;5;21;01mgoatools\u001b[39;00m \u001b[38;5;28;01mimport\u001b[39;00m obo_parser\n\u001b[1;32m      4\u001b[0m \u001b[38;5;66;03m# Download the OBO file if not already downloaded\u001b[39;00m\n\u001b[1;32m      5\u001b[0m obo_file_url \u001b[38;5;241m=\u001b[39m \u001b[38;5;124m'\u001b[39m\u001b[38;5;124mhttp://purl.obolibrary.org/obo/go/go-basic.obo\u001b[39m\u001b[38;5;124m'\u001b[39m\n",
      "File \u001b[0;32m/opt/conda/lib/python3.10/site-packages/goatools/__init__.py:13\u001b[0m\n\u001b[1;32m     10\u001b[0m __status__ \u001b[38;5;241m=\u001b[39m \u001b[38;5;124m\"\u001b[39m\u001b[38;5;124mDevelopment\u001b[39m\u001b[38;5;124m\"\u001b[39m\n\u001b[1;32m     12\u001b[0m \u001b[38;5;28;01mtry\u001b[39;00m:\n\u001b[0;32m---> 13\u001b[0m     VERSION \u001b[38;5;241m=\u001b[39m \u001b[43mget_distribution\u001b[49m\u001b[43m(\u001b[49m\u001b[38;5;18;43m__name__\u001b[39;49m\u001b[43m)\u001b[49m\u001b[38;5;241m.\u001b[39mversion\n\u001b[1;32m     14\u001b[0m \u001b[38;5;28;01mexcept\u001b[39;00m DistributionNotFound:  \u001b[38;5;66;03m# pragma: no cover\u001b[39;00m\n\u001b[1;32m     15\u001b[0m     \u001b[38;5;28;01mtry\u001b[39;00m:\n",
      "File \u001b[0;32m/opt/conda/lib/python3.10/site-packages/pkg_resources/__init__.py:471\u001b[0m, in \u001b[0;36mget_distribution\u001b[0;34m(dist)\u001b[0m\n\u001b[1;32m    469\u001b[0m     dist \u001b[38;5;241m=\u001b[39m Requirement\u001b[38;5;241m.\u001b[39mparse(dist)\n\u001b[1;32m    470\u001b[0m \u001b[38;5;28;01mif\u001b[39;00m \u001b[38;5;28misinstance\u001b[39m(dist, Requirement):\n\u001b[0;32m--> 471\u001b[0m     dist \u001b[38;5;241m=\u001b[39m \u001b[43mget_provider\u001b[49m\u001b[43m(\u001b[49m\u001b[43mdist\u001b[49m\u001b[43m)\u001b[49m\n\u001b[1;32m    472\u001b[0m \u001b[38;5;28;01mif\u001b[39;00m \u001b[38;5;129;01mnot\u001b[39;00m \u001b[38;5;28misinstance\u001b[39m(dist, Distribution):\n\u001b[1;32m    473\u001b[0m     \u001b[38;5;28;01mraise\u001b[39;00m \u001b[38;5;167;01mTypeError\u001b[39;00m(\u001b[38;5;124m\"\u001b[39m\u001b[38;5;124mExpected string, Requirement, or Distribution\u001b[39m\u001b[38;5;124m\"\u001b[39m, dist)\n",
      "File \u001b[0;32m/opt/conda/lib/python3.10/site-packages/pkg_resources/__init__.py:347\u001b[0m, in \u001b[0;36mget_provider\u001b[0;34m(moduleOrReq)\u001b[0m\n\u001b[1;32m    345\u001b[0m \u001b[38;5;250m\u001b[39m\u001b[38;5;124;03m\"\"\"Return an IResourceProvider for the named module or requirement\"\"\"\u001b[39;00m\n\u001b[1;32m    346\u001b[0m \u001b[38;5;28;01mif\u001b[39;00m \u001b[38;5;28misinstance\u001b[39m(moduleOrReq, Requirement):\n\u001b[0;32m--> 347\u001b[0m     \u001b[38;5;28;01mreturn\u001b[39;00m working_set\u001b[38;5;241m.\u001b[39mfind(moduleOrReq) \u001b[38;5;129;01mor\u001b[39;00m \u001b[43mrequire\u001b[49m\u001b[43m(\u001b[49m\u001b[38;5;28;43mstr\u001b[39;49m\u001b[43m(\u001b[49m\u001b[43mmoduleOrReq\u001b[49m\u001b[43m)\u001b[49m\u001b[43m)\u001b[49m[\u001b[38;5;241m0\u001b[39m]\n\u001b[1;32m    348\u001b[0m \u001b[38;5;28;01mtry\u001b[39;00m:\n\u001b[1;32m    349\u001b[0m     module \u001b[38;5;241m=\u001b[39m sys\u001b[38;5;241m.\u001b[39mmodules[moduleOrReq]\n",
      "File \u001b[0;32m/opt/conda/lib/python3.10/site-packages/pkg_resources/__init__.py:891\u001b[0m, in \u001b[0;36mWorkingSet.require\u001b[0;34m(self, *requirements)\u001b[0m\n\u001b[1;32m    882\u001b[0m \u001b[38;5;28;01mdef\u001b[39;00m \u001b[38;5;21mrequire\u001b[39m(\u001b[38;5;28mself\u001b[39m, \u001b[38;5;241m*\u001b[39mrequirements):\n\u001b[1;32m    883\u001b[0m \u001b[38;5;250m    \u001b[39m\u001b[38;5;124;03m\"\"\"Ensure that distributions matching `requirements` are activated\u001b[39;00m\n\u001b[1;32m    884\u001b[0m \n\u001b[1;32m    885\u001b[0m \u001b[38;5;124;03m    `requirements` must be a string or a (possibly-nested) sequence\u001b[39;00m\n\u001b[0;32m   (...)\u001b[0m\n\u001b[1;32m    889\u001b[0m \u001b[38;5;124;03m    included, even if they were already activated in this working set.\u001b[39;00m\n\u001b[1;32m    890\u001b[0m \u001b[38;5;124;03m    \"\"\"\u001b[39;00m\n\u001b[0;32m--> 891\u001b[0m     needed \u001b[38;5;241m=\u001b[39m \u001b[38;5;28;43mself\u001b[39;49m\u001b[38;5;241;43m.\u001b[39;49m\u001b[43mresolve\u001b[49m\u001b[43m(\u001b[49m\u001b[43mparse_requirements\u001b[49m\u001b[43m(\u001b[49m\u001b[43mrequirements\u001b[49m\u001b[43m)\u001b[49m\u001b[43m)\u001b[49m\n\u001b[1;32m    893\u001b[0m     \u001b[38;5;28;01mfor\u001b[39;00m dist \u001b[38;5;129;01min\u001b[39;00m needed:\n\u001b[1;32m    894\u001b[0m         \u001b[38;5;28mself\u001b[39m\u001b[38;5;241m.\u001b[39madd(dist)\n",
      "File \u001b[0;32m/opt/conda/lib/python3.10/site-packages/pkg_resources/__init__.py:785\u001b[0m, in \u001b[0;36mWorkingSet.resolve\u001b[0;34m(self, requirements, env, installer, replace_conflicting, extras)\u001b[0m\n\u001b[1;32m    782\u001b[0m     \u001b[38;5;28;01mraise\u001b[39;00m VersionConflict(dist, req)\u001b[38;5;241m.\u001b[39mwith_context(dependent_req)\n\u001b[1;32m    784\u001b[0m \u001b[38;5;66;03m# push the new requirements onto the stack\u001b[39;00m\n\u001b[0;32m--> 785\u001b[0m new_requirements \u001b[38;5;241m=\u001b[39m \u001b[43mdist\u001b[49m\u001b[38;5;241;43m.\u001b[39;49m\u001b[43mrequires\u001b[49m\u001b[43m(\u001b[49m\u001b[43mreq\u001b[49m\u001b[38;5;241;43m.\u001b[39;49m\u001b[43mextras\u001b[49m\u001b[43m)\u001b[49m[::\u001b[38;5;241m-\u001b[39m\u001b[38;5;241m1\u001b[39m]\n\u001b[1;32m    786\u001b[0m requirements\u001b[38;5;241m.\u001b[39mextend(new_requirements)\n\u001b[1;32m    788\u001b[0m \u001b[38;5;66;03m# Register the new requirements needed by req\u001b[39;00m\n",
      "File \u001b[0;32m/opt/conda/lib/python3.10/site-packages/pkg_resources/__init__.py:2749\u001b[0m, in \u001b[0;36mDistribution.requires\u001b[0;34m(self, extras)\u001b[0m\n\u001b[1;32m   2747\u001b[0m \u001b[38;5;28;01mdef\u001b[39;00m \u001b[38;5;21mrequires\u001b[39m(\u001b[38;5;28mself\u001b[39m, extras\u001b[38;5;241m=\u001b[39m()):\n\u001b[1;32m   2748\u001b[0m \u001b[38;5;250m    \u001b[39m\u001b[38;5;124;03m\"\"\"List of Requirements needed for this distro if `extras` are used\"\"\"\u001b[39;00m\n\u001b[0;32m-> 2749\u001b[0m     dm \u001b[38;5;241m=\u001b[39m \u001b[38;5;28;43mself\u001b[39;49m\u001b[38;5;241;43m.\u001b[39;49m\u001b[43m_dep_map\u001b[49m\n\u001b[1;32m   2750\u001b[0m     deps \u001b[38;5;241m=\u001b[39m []\n\u001b[1;32m   2751\u001b[0m     deps\u001b[38;5;241m.\u001b[39mextend(dm\u001b[38;5;241m.\u001b[39mget(\u001b[38;5;28;01mNone\u001b[39;00m, ()))\n",
      "File \u001b[0;32m/opt/conda/lib/python3.10/site-packages/pkg_resources/__init__.py:3033\u001b[0m, in \u001b[0;36mDistInfoDistribution._dep_map\u001b[0;34m(self)\u001b[0m\n\u001b[1;32m   3031\u001b[0m     \u001b[38;5;28;01mreturn\u001b[39;00m \u001b[38;5;28mself\u001b[39m\u001b[38;5;241m.\u001b[39m__dep_map\n\u001b[1;32m   3032\u001b[0m \u001b[38;5;28;01mexcept\u001b[39;00m \u001b[38;5;167;01mAttributeError\u001b[39;00m:\n\u001b[0;32m-> 3033\u001b[0m     \u001b[38;5;28mself\u001b[39m\u001b[38;5;241m.\u001b[39m__dep_map \u001b[38;5;241m=\u001b[39m \u001b[38;5;28;43mself\u001b[39;49m\u001b[38;5;241;43m.\u001b[39;49m\u001b[43m_compute_dependencies\u001b[49m\u001b[43m(\u001b[49m\u001b[43m)\u001b[49m\n\u001b[1;32m   3034\u001b[0m     \u001b[38;5;28;01mreturn\u001b[39;00m \u001b[38;5;28mself\u001b[39m\u001b[38;5;241m.\u001b[39m__dep_map\n",
      "File \u001b[0;32m/opt/conda/lib/python3.10/site-packages/pkg_resources/__init__.py:3042\u001b[0m, in \u001b[0;36mDistInfoDistribution._compute_dependencies\u001b[0;34m(self)\u001b[0m\n\u001b[1;32m   3040\u001b[0m reqs \u001b[38;5;241m=\u001b[39m []\n\u001b[1;32m   3041\u001b[0m \u001b[38;5;66;03m# Including any condition expressions\u001b[39;00m\n\u001b[0;32m-> 3042\u001b[0m \u001b[38;5;28;01mfor\u001b[39;00m req \u001b[38;5;129;01min\u001b[39;00m \u001b[38;5;28;43mself\u001b[39;49m\u001b[38;5;241;43m.\u001b[39;49m\u001b[43m_parsed_pkg_info\u001b[49m\u001b[38;5;241m.\u001b[39mget_all(\u001b[38;5;124m'\u001b[39m\u001b[38;5;124mRequires-Dist\u001b[39m\u001b[38;5;124m'\u001b[39m) \u001b[38;5;129;01mor\u001b[39;00m []:\n\u001b[1;32m   3043\u001b[0m     reqs\u001b[38;5;241m.\u001b[39mextend(parse_requirements(req))\n\u001b[1;32m   3045\u001b[0m \u001b[38;5;28;01mdef\u001b[39;00m \u001b[38;5;21mreqs_for_extra\u001b[39m(extra):\n",
      "File \u001b[0;32m/opt/conda/lib/python3.10/site-packages/pkg_resources/__init__.py:3024\u001b[0m, in \u001b[0;36mDistInfoDistribution._parsed_pkg_info\u001b[0;34m(self)\u001b[0m\n\u001b[1;32m   3022\u001b[0m     \u001b[38;5;28;01mreturn\u001b[39;00m \u001b[38;5;28mself\u001b[39m\u001b[38;5;241m.\u001b[39m_pkg_info\n\u001b[1;32m   3023\u001b[0m \u001b[38;5;28;01mexcept\u001b[39;00m \u001b[38;5;167;01mAttributeError\u001b[39;00m:\n\u001b[0;32m-> 3024\u001b[0m     metadata \u001b[38;5;241m=\u001b[39m \u001b[38;5;28;43mself\u001b[39;49m\u001b[38;5;241;43m.\u001b[39;49m\u001b[43mget_metadata\u001b[49m\u001b[43m(\u001b[49m\u001b[38;5;28;43mself\u001b[39;49m\u001b[38;5;241;43m.\u001b[39;49m\u001b[43mPKG_INFO\u001b[49m\u001b[43m)\u001b[49m\n\u001b[1;32m   3025\u001b[0m     \u001b[38;5;28mself\u001b[39m\u001b[38;5;241m.\u001b[39m_pkg_info \u001b[38;5;241m=\u001b[39m email\u001b[38;5;241m.\u001b[39mparser\u001b[38;5;241m.\u001b[39mParser()\u001b[38;5;241m.\u001b[39mparsestr(metadata)\n\u001b[1;32m   3026\u001b[0m     \u001b[38;5;28;01mreturn\u001b[39;00m \u001b[38;5;28mself\u001b[39m\u001b[38;5;241m.\u001b[39m_pkg_info\n",
      "File \u001b[0;32m/opt/conda/lib/python3.10/site-packages/pkg_resources/__init__.py:1412\u001b[0m, in \u001b[0;36mNullProvider.get_metadata\u001b[0;34m(self, name)\u001b[0m\n\u001b[1;32m   1410\u001b[0m     \u001b[38;5;28;01mreturn\u001b[39;00m \u001b[38;5;124m\"\u001b[39m\u001b[38;5;124m\"\u001b[39m\n\u001b[1;32m   1411\u001b[0m path \u001b[38;5;241m=\u001b[39m \u001b[38;5;28mself\u001b[39m\u001b[38;5;241m.\u001b[39m_get_metadata_path(name)\n\u001b[0;32m-> 1412\u001b[0m value \u001b[38;5;241m=\u001b[39m \u001b[38;5;28;43mself\u001b[39;49m\u001b[38;5;241;43m.\u001b[39;49m\u001b[43m_get\u001b[49m\u001b[43m(\u001b[49m\u001b[43mpath\u001b[49m\u001b[43m)\u001b[49m\n\u001b[1;32m   1413\u001b[0m \u001b[38;5;28;01mtry\u001b[39;00m:\n\u001b[1;32m   1414\u001b[0m     \u001b[38;5;28;01mreturn\u001b[39;00m value\u001b[38;5;241m.\u001b[39mdecode(\u001b[38;5;124m'\u001b[39m\u001b[38;5;124mutf-8\u001b[39m\u001b[38;5;124m'\u001b[39m)\n",
      "File \u001b[0;32m/opt/conda/lib/python3.10/site-packages/pkg_resources/__init__.py:1616\u001b[0m, in \u001b[0;36mDefaultProvider._get\u001b[0;34m(self, path)\u001b[0m\n\u001b[1;32m   1615\u001b[0m \u001b[38;5;28;01mdef\u001b[39;00m \u001b[38;5;21m_get\u001b[39m(\u001b[38;5;28mself\u001b[39m, path):\n\u001b[0;32m-> 1616\u001b[0m     \u001b[38;5;28;01mwith\u001b[39;00m \u001b[38;5;28;43mopen\u001b[39;49m\u001b[43m(\u001b[49m\u001b[43mpath\u001b[49m\u001b[43m,\u001b[49m\u001b[43m \u001b[49m\u001b[38;5;124;43m'\u001b[39;49m\u001b[38;5;124;43mrb\u001b[39;49m\u001b[38;5;124;43m'\u001b[39;49m\u001b[43m)\u001b[49m \u001b[38;5;28;01mas\u001b[39;00m stream:\n\u001b[1;32m   1617\u001b[0m         \u001b[38;5;28;01mreturn\u001b[39;00m stream\u001b[38;5;241m.\u001b[39mread()\n",
      "\u001b[0;31mFileNotFoundError\u001b[0m: [Errno 2] No such file or directory: '/opt/conda/lib/python3.10/site-packages/numpy-1.24.3.dist-info/METADATA'"
     ]
    }
   ],
   "source": [
    "import requests\n",
    "from goatools import obo_parser\n",
    "\n",
    "# Download the OBO file if not already downloaded\n",
    "obo_file_url = 'http://purl.obolibrary.org/obo/go/go-basic.obo'\n",
    "obo_file_path = '/kaggle/input/cafa-5-protein-function-prediction/Train/go-basic.obo'\n",
    "\n",
    "\n",
    "# Load the GO graph from the OBO file\n",
    "go_graph = obo_parser.GODag(obo_file_path)\n",
    "\n",
    "# Create a dictionary with term names and their IDs\n",
    "go_names_dict = {go_id: go_term.name for go_id, go_term in go_graph.items()}\n"
   ]
  },
  {
   "cell_type": "code",
   "execution_count": null,
   "id": "730f99cd",
   "metadata": {
    "execution": {
     "iopub.execute_input": "2023-05-31T18:56:24.333590Z",
     "iopub.status.busy": "2023-05-31T18:56:24.333079Z",
     "iopub.status.idle": "2023-05-31T18:56:25.424772Z",
     "shell.execute_reply": "2023-05-31T18:56:25.423723Z",
     "shell.execute_reply.started": "2023-05-31T18:56:24.333555Z"
    },
    "papermill": {
     "duration": null,
     "end_time": null,
     "exception": null,
     "start_time": null,
     "status": "pending"
    },
    "tags": []
   },
   "outputs": [],
   "source": [
    "from wordcloud import WordCloud\n",
    "from collections import Counter\n",
    "\n",
    "# Flatten the list of term names\n",
    "term_names = [term for terms in go_terms_mapping.values() for term in terms]\n",
    "\n",
    "# Count the frequency of each term name\n",
    "term_counts = Counter(term_names)\n",
    "\n",
    "# Convert term names and frequencies to a dictionary\n",
    "term_freq_dict = {term: frequency for term, frequency in term_counts.items()}\n",
    "del term_freq_dict['of']\n",
    "del term_freq_dict['to']\n",
    "del term_freq_dict['in']\n",
    "del term_freq_dict['or']\n",
    "del term_freq_dict['by']\n",
    "del term_freq_dict['into']\n",
    "\n",
    "# Generate word cloud using term names and frequencies\n",
    "wordcloud = WordCloud(width=800, height=400, background_color='white').generate_from_frequencies(term_freq_dict)\n",
    "\n",
    "# Display the word cloud\n",
    "plt.figure(figsize=(12, 6))\n",
    "plt.imshow(wordcloud, interpolation='bilinear')\n",
    "plt.axis('off')\n",
    "plt.title('Distribution of GO Terms')\n",
    "plt.show()\n"
   ]
  },
  {
   "cell_type": "code",
   "execution_count": null,
   "id": "16d06e60",
   "metadata": {
    "execution": {
     "iopub.execute_input": "2023-05-31T19:00:34.958798Z",
     "iopub.status.busy": "2023-05-31T19:00:34.957632Z",
     "iopub.status.idle": "2023-05-31T19:00:35.459251Z",
     "shell.execute_reply": "2023-05-31T19:00:35.457860Z",
     "shell.execute_reply.started": "2023-05-31T19:00:34.958750Z"
    },
    "papermill": {
     "duration": null,
     "end_time": null,
     "exception": null,
     "start_time": null,
     "status": "pending"
    },
    "tags": []
   },
   "outputs": [],
   "source": [
    "# Get the top 20 words excluding 'of', 'in', and 'to'\n",
    "top_words = [word for word in term_counts.most_common(23) if word[0] not in ['of', 'in', 'to']]\n",
    "top_word_labels = [word[0] for word in top_words[:20]]\n",
    "top_word_counts = [word[1] for word in top_words[:20]]\n",
    "\n",
    "# Create a bar plot of the top 20 words\n",
    "plt.figure(figsize=(12, 6))\n",
    "plt.bar(range(len(top_word_labels)), top_word_counts)\n",
    "plt.xlabel('Term')\n",
    "plt.ylabel('Frequency')\n",
    "plt.title('Top 20 Words (Excluding \"of\", \"in\", and \"to\")')\n",
    "plt.xticks(range(len(top_word_labels)), top_word_labels, rotation=45, ha='right')\n",
    "plt.tight_layout()\n",
    "plt.show()\n"
   ]
  },
  {
   "cell_type": "markdown",
   "id": "869998ec",
   "metadata": {
    "papermill": {
     "duration": null,
     "end_time": null,
     "exception": null,
     "start_time": null,
     "status": "pending"
    },
    "tags": []
   },
   "source": [
    "Lets look at a random Go Term:"
   ]
  },
  {
   "cell_type": "code",
   "execution_count": null,
   "id": "3c4d4047",
   "metadata": {
    "execution": {
     "iopub.execute_input": "2023-05-27T20:17:27.372511Z",
     "iopub.status.busy": "2023-05-27T20:17:27.371325Z",
     "iopub.status.idle": "2023-05-27T20:17:27.392899Z",
     "shell.execute_reply": "2023-05-27T20:17:27.391389Z",
     "shell.execute_reply.started": "2023-05-27T20:17:27.372465Z"
    },
    "papermill": {
     "duration": null,
     "end_time": null,
     "exception": null,
     "start_time": null,
     "status": "pending"
    },
    "tags": []
   },
   "outputs": [],
   "source": [
    "go_term = 'GO:0005575'  \n",
    "max_child_terms = 10  # Maximum number of child terms to display\n",
    "\n",
    "# Retrieve the GO term from the GO graph\n",
    "term = go_graph.get(go_term)\n",
    "\n",
    "if term is not None:\n",
    "    # Get the immediate parent terms\n",
    "    parent_terms = []\n",
    "    for parent_term_id in term.get_all_parents():\n",
    "        parent_term = go_graph.get(parent_term_id)\n",
    "        if parent_term is not None:\n",
    "            parent_terms.append(parent_term.name)\n",
    "\n",
    "    # Get the immediate child terms\n",
    "    child_terms = []\n",
    "    for child_term_id in term.get_all_children():\n",
    "        child_term = go_graph.get(child_term_id)\n",
    "        if child_term is not None:\n",
    "            child_terms.append(child_term.name)\n",
    "\n",
    "    # Print the information\n",
    "    print(\"GO Term:\", go_term)\n",
    "    print(\"Term Name:\", term.name)\n",
    "    print(\"Immediate Parents:\")\n",
    "    if parent_terms:\n",
    "        print(\"\\n\".join(parent_terms))\n",
    "    else:\n",
    "        print(\"None\")\n",
    "    print(\"Immediate Children:\")\n",
    "    if child_terms:\n",
    "        if len(child_terms) <= max_child_terms:\n",
    "            print(\"\\n\".join(child_terms))\n",
    "        else:\n",
    "            print(\"\\n\".join(child_terms[:max_child_terms]) + f\"\\n... and {len(child_terms) - max_child_terms} more\")\n",
    "    else:\n",
    "        print(\"None\")\n",
    "    print(\"-\" * 50)\n",
    "else:\n",
    "    print(\"GO term not found in the GO graph.\")\n"
   ]
  },
  {
   "cell_type": "markdown",
   "id": "c965f433",
   "metadata": {
    "papermill": {
     "duration": null,
     "end_time": null,
     "exception": null,
     "start_time": null,
     "status": "pending"
    },
    "tags": []
   },
   "source": [
    "\n",
    "Lets categorize the GO terms based on their namespaces (biological process, molecular function, cellular component) and display the top few GO terms within each category. Remember that GO terms represent functional annotations associated with genes or gene products, describing their biological processes, molecular functions, or cellular components.\n",
    "\n",
    "To do so, we'll get an overview of the distribution of GO terms across different functional categories. By categorizing and displaying the top GO terms within each category, we can gain insights into the prevalent functional annotations in the dataset and better understand the functional landscape of the proteins."
   ]
  },
  {
   "cell_type": "code",
   "execution_count": null,
   "id": "8b9eb2f9",
   "metadata": {
    "execution": {
     "iopub.execute_input": "2023-05-27T20:22:17.676767Z",
     "iopub.status.busy": "2023-05-27T20:22:17.676391Z",
     "iopub.status.idle": "2023-05-27T20:22:17.721310Z",
     "shell.execute_reply": "2023-05-27T20:22:17.719290Z",
     "shell.execute_reply.started": "2023-05-27T20:22:17.676737Z"
    },
    "papermill": {
     "duration": null,
     "end_time": null,
     "exception": null,
     "start_time": null,
     "status": "pending"
    },
    "tags": []
   },
   "outputs": [],
   "source": [
    "from goatools.obo_parser import GODag\n",
    "from collections import defaultdict\n",
    "\n",
    "def get_go_categories(go_graph):\n",
    "    categories = defaultdict(list)\n",
    "    for go_id, go_term in go_graph.items():\n",
    "        for parent_id in go_term.parents:\n",
    "            if parent_id in go_graph:\n",
    "                parent_term = go_graph[parent_id]\n",
    "                if parent_term.namespace != go_term.namespace:\n",
    "                    categories[parent_id].append(go_id)\n",
    "    return categories\n",
    "\n",
    "\n",
    "# Load the GO graph from the OBO file\n",
    "#go_graph = GODag('go-basic.obo')\n",
    "\n",
    "# Derive categories from the GO graph\n",
    "categories = get_go_categories(go_graph)\n"
   ]
  },
  {
   "cell_type": "code",
   "execution_count": null,
   "id": "1c592110",
   "metadata": {
    "execution": {
     "iopub.execute_input": "2023-05-27T20:30:54.333665Z",
     "iopub.status.busy": "2023-05-27T20:30:54.333263Z",
     "iopub.status.idle": "2023-05-27T20:30:54.568279Z",
     "shell.execute_reply": "2023-05-27T20:30:54.566442Z",
     "shell.execute_reply.started": "2023-05-27T20:30:54.333635Z"
    },
    "papermill": {
     "duration": null,
     "end_time": null,
     "exception": null,
     "start_time": null,
     "status": "pending"
    },
    "tags": []
   },
   "outputs": [],
   "source": [
    "from collections import defaultdict\n",
    "\n",
    "# Derive categories from the GO graph\n",
    "categories = defaultdict(list)\n",
    "\n",
    "for go_id, go_term in go_graph.items():\n",
    "    if go_term.namespace == 'biological_process':\n",
    "        categories['Biological Process'].append(go_term.name)\n",
    "    elif go_term.namespace == 'molecular_function':\n",
    "        categories['Molecular Function'].append(go_term.name)\n",
    "    elif go_term.namespace == 'cellular_component':\n",
    "        categories['Cellular Component'].append(go_term.name)\n",
    "\n",
    "# Define the number of top GO terms to display per category\n",
    "top_n = 10\n",
    "\n",
    "# Sort the terms within each category by prevalence in the go_term dataframe\n",
    "for category, go_terms in categories.items():\n",
    "    go_terms_sorted = sorted(go_terms, key=lambda x: go_term_counts.get(x, 0), reverse=True)\n",
    "    print(f\"Category: {category}\")\n",
    "    print(\"Top GO Terms:\")\n",
    "    for go_term in go_terms_sorted[:top_n]:\n",
    "        print(go_term)\n",
    "    print(\"-\" * 50)\n",
    "\n"
   ]
  },
  {
   "cell_type": "code",
   "execution_count": null,
   "id": "f30b542c",
   "metadata": {
    "papermill": {
     "duration": null,
     "end_time": null,
     "exception": null,
     "start_time": null,
     "status": "pending"
    },
    "tags": []
   },
   "outputs": [],
   "source": []
  }
 ],
 "metadata": {
  "kernelspec": {
   "display_name": "Python 3",
   "language": "python",
   "name": "python3"
  },
  "language_info": {
   "codemirror_mode": {
    "name": "ipython",
    "version": 3
   },
   "file_extension": ".py",
   "mimetype": "text/x-python",
   "name": "python",
   "nbconvert_exporter": "python",
   "pygments_lexer": "ipython3",
   "version": "3.10.10"
  },
  "papermill": {
   "default_parameters": {},
   "duration": 53.339075,
   "end_time": "2023-05-31T19:07:58.789291",
   "environment_variables": {},
   "exception": true,
   "input_path": "__notebook__.ipynb",
   "output_path": "__notebook__.ipynb",
   "parameters": {},
   "start_time": "2023-05-31T19:07:05.450216",
   "version": "2.4.0"
  }
 },
 "nbformat": 4,
 "nbformat_minor": 5
}
