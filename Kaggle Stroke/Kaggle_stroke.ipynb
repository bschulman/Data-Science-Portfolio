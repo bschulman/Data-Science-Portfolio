{
  "cells": [
    {
      "cell_type": "markdown",
      "metadata": {
        "id": "IIfOydFLJIaI",
        "pycharm": {
          "name": "#%% md\n"
        }
      },
      "source": [
        "--------------------------------------------------------------------------------------------------\n",
        "# **Stroke Occurrence Prediction**\n",
        "--------------------------------------------------------------------------------------------------"
      ]
    },
    {
      "cell_type": "markdown",
      "metadata": {
        "id": "9s4YOTYtdsPc",
        "pycharm": {
          "name": "#%% md\n"
        }
      },
      "source": [
        "--------------------\n",
        "## **Context**\n",
        "--------------------\n",
        "\n",
        "The dataset for this competition (both train and test) was generated from a deep learning model trained on the Stroke Prediction Dataset. Feature distributions are close to, but not exactly the same, as the original. Feel free to use the original dataset as part of this competition, both to explore differences as well as to see whether incorporating the original in training improves model performance.\n",
        "\n",
        "----------------------\n",
        "## **Objective**\n",
        "----------------------\n",
        "\n",
        "Build a classification model using neural networks to predict the probability of positive stroke\n",
        "\n",
        "------------------------------\n",
        "## **Data Dictionary**\n",
        "------------------------------\n",
        "\n",
        "This dataset is used to predict whether a patient is likely to get stroke based on the input parameters like gender, age, various diseases, and smoking status. Each row in the data provides relavant information about the patient.\n",
        "The features included are: \n",
        "\n",
        "1) id: unique identifier\n",
        "\n",
        "2) gender: \"Male\", \"Female\" or \"Other\"\n",
        "\n",
        "3) age: age of the patient\n",
        "\n",
        "4) hypertension: 0 if the patient doesn't have hypertension, 1 if the patient has hypertension\n",
        "\n",
        "5) heart_disease: 0 if the patient doesn't have any heart diseases, 1 if the patient has a heart disease\n",
        "\n",
        "6) ever_married: \"No\" or \"Yes\"\n",
        "\n",
        "7) work_type: \"children\", \"Govt_jov\", \"Never_worked\", \"Private\" or \"Self-employed\"\n",
        "\n",
        "8) Residence_type: \"Rural\" or \"Urban\"\n",
        "\n",
        "9) avg_glucose_level: average glucose level in blood\n",
        "\n",
        "10) bmi: body mass index\n",
        "\n",
        "11) smoking_status: \"formerly smoked\", \"never smoked\", \"smokes\" or \"Unknown\"*\n",
        "\n",
        "12) stroke: 1 if the patient had a stroke or 0 if not\n",
        "\n",
        "*Note: \"Unknown\" in smoking_status means that the information is unavailable for this patient"
      ]
    },
    {
      "cell_type": "markdown",
      "metadata": {
        "id": "RUNw9Lh-mZHQ",
        "pycharm": {
          "name": "#%% md\n"
        }
      },
      "source": [
        "## **Loading the libraries and the dataset**"
      ]
    },
    {
      "cell_type": "code",
      "execution_count": 1,
      "metadata": {
        "colab": {
          "base_uri": "https://localhost:8080/",
          "height": 32
        },
        "id": "wxUDP72g1N96",
        "outputId": "8b0ecb74-1f6a-441e-e304-2512bbdc56ee",
        "pycharm": {
          "name": "#%%\n"
        }
      },
      "outputs": [
        {
          "output_type": "display_data",
          "data": {
            "text/plain": [
              "<IPython.core.display.HTML object>"
            ],
            "text/html": [
              "\n",
              "     <input type=\"file\" id=\"files-417b324e-2332-45b3-808c-714dc314cb67\" name=\"files[]\" multiple disabled\n",
              "        style=\"border:none\" />\n",
              "     <output id=\"result-417b324e-2332-45b3-808c-714dc314cb67\">\n",
              "      Upload widget is only available when the cell has been executed in the\n",
              "      current browser session. Please rerun this cell to enable.\n",
              "      </output>\n",
              "      <script>// Copyright 2017 Google LLC\n",
              "//\n",
              "// Licensed under the Apache License, Version 2.0 (the \"License\");\n",
              "// you may not use this file except in compliance with the License.\n",
              "// You may obtain a copy of the License at\n",
              "//\n",
              "//      http://www.apache.org/licenses/LICENSE-2.0\n",
              "//\n",
              "// Unless required by applicable law or agreed to in writing, software\n",
              "// distributed under the License is distributed on an \"AS IS\" BASIS,\n",
              "// WITHOUT WARRANTIES OR CONDITIONS OF ANY KIND, either express or implied.\n",
              "// See the License for the specific language governing permissions and\n",
              "// limitations under the License.\n",
              "\n",
              "/**\n",
              " * @fileoverview Helpers for google.colab Python module.\n",
              " */\n",
              "(function(scope) {\n",
              "function span(text, styleAttributes = {}) {\n",
              "  const element = document.createElement('span');\n",
              "  element.textContent = text;\n",
              "  for (const key of Object.keys(styleAttributes)) {\n",
              "    element.style[key] = styleAttributes[key];\n",
              "  }\n",
              "  return element;\n",
              "}\n",
              "\n",
              "// Max number of bytes which will be uploaded at a time.\n",
              "const MAX_PAYLOAD_SIZE = 100 * 1024;\n",
              "\n",
              "function _uploadFiles(inputId, outputId) {\n",
              "  const steps = uploadFilesStep(inputId, outputId);\n",
              "  const outputElement = document.getElementById(outputId);\n",
              "  // Cache steps on the outputElement to make it available for the next call\n",
              "  // to uploadFilesContinue from Python.\n",
              "  outputElement.steps = steps;\n",
              "\n",
              "  return _uploadFilesContinue(outputId);\n",
              "}\n",
              "\n",
              "// This is roughly an async generator (not supported in the browser yet),\n",
              "// where there are multiple asynchronous steps and the Python side is going\n",
              "// to poll for completion of each step.\n",
              "// This uses a Promise to block the python side on completion of each step,\n",
              "// then passes the result of the previous step as the input to the next step.\n",
              "function _uploadFilesContinue(outputId) {\n",
              "  const outputElement = document.getElementById(outputId);\n",
              "  const steps = outputElement.steps;\n",
              "\n",
              "  const next = steps.next(outputElement.lastPromiseValue);\n",
              "  return Promise.resolve(next.value.promise).then((value) => {\n",
              "    // Cache the last promise value to make it available to the next\n",
              "    // step of the generator.\n",
              "    outputElement.lastPromiseValue = value;\n",
              "    return next.value.response;\n",
              "  });\n",
              "}\n",
              "\n",
              "/**\n",
              " * Generator function which is called between each async step of the upload\n",
              " * process.\n",
              " * @param {string} inputId Element ID of the input file picker element.\n",
              " * @param {string} outputId Element ID of the output display.\n",
              " * @return {!Iterable<!Object>} Iterable of next steps.\n",
              " */\n",
              "function* uploadFilesStep(inputId, outputId) {\n",
              "  const inputElement = document.getElementById(inputId);\n",
              "  inputElement.disabled = false;\n",
              "\n",
              "  const outputElement = document.getElementById(outputId);\n",
              "  outputElement.innerHTML = '';\n",
              "\n",
              "  const pickedPromise = new Promise((resolve) => {\n",
              "    inputElement.addEventListener('change', (e) => {\n",
              "      resolve(e.target.files);\n",
              "    });\n",
              "  });\n",
              "\n",
              "  const cancel = document.createElement('button');\n",
              "  inputElement.parentElement.appendChild(cancel);\n",
              "  cancel.textContent = 'Cancel upload';\n",
              "  const cancelPromise = new Promise((resolve) => {\n",
              "    cancel.onclick = () => {\n",
              "      resolve(null);\n",
              "    };\n",
              "  });\n",
              "\n",
              "  // Wait for the user to pick the files.\n",
              "  const files = yield {\n",
              "    promise: Promise.race([pickedPromise, cancelPromise]),\n",
              "    response: {\n",
              "      action: 'starting',\n",
              "    }\n",
              "  };\n",
              "\n",
              "  cancel.remove();\n",
              "\n",
              "  // Disable the input element since further picks are not allowed.\n",
              "  inputElement.disabled = true;\n",
              "\n",
              "  if (!files) {\n",
              "    return {\n",
              "      response: {\n",
              "        action: 'complete',\n",
              "      }\n",
              "    };\n",
              "  }\n",
              "\n",
              "  for (const file of files) {\n",
              "    const li = document.createElement('li');\n",
              "    li.append(span(file.name, {fontWeight: 'bold'}));\n",
              "    li.append(span(\n",
              "        `(${file.type || 'n/a'}) - ${file.size} bytes, ` +\n",
              "        `last modified: ${\n",
              "            file.lastModifiedDate ? file.lastModifiedDate.toLocaleDateString() :\n",
              "                                    'n/a'} - `));\n",
              "    const percent = span('0% done');\n",
              "    li.appendChild(percent);\n",
              "\n",
              "    outputElement.appendChild(li);\n",
              "\n",
              "    const fileDataPromise = new Promise((resolve) => {\n",
              "      const reader = new FileReader();\n",
              "      reader.onload = (e) => {\n",
              "        resolve(e.target.result);\n",
              "      };\n",
              "      reader.readAsArrayBuffer(file);\n",
              "    });\n",
              "    // Wait for the data to be ready.\n",
              "    let fileData = yield {\n",
              "      promise: fileDataPromise,\n",
              "      response: {\n",
              "        action: 'continue',\n",
              "      }\n",
              "    };\n",
              "\n",
              "    // Use a chunked sending to avoid message size limits. See b/62115660.\n",
              "    let position = 0;\n",
              "    do {\n",
              "      const length = Math.min(fileData.byteLength - position, MAX_PAYLOAD_SIZE);\n",
              "      const chunk = new Uint8Array(fileData, position, length);\n",
              "      position += length;\n",
              "\n",
              "      const base64 = btoa(String.fromCharCode.apply(null, chunk));\n",
              "      yield {\n",
              "        response: {\n",
              "          action: 'append',\n",
              "          file: file.name,\n",
              "          data: base64,\n",
              "        },\n",
              "      };\n",
              "\n",
              "      let percentDone = fileData.byteLength === 0 ?\n",
              "          100 :\n",
              "          Math.round((position / fileData.byteLength) * 100);\n",
              "      percent.textContent = `${percentDone}% done`;\n",
              "\n",
              "    } while (position < fileData.byteLength);\n",
              "  }\n",
              "\n",
              "  // All done.\n",
              "  yield {\n",
              "    response: {\n",
              "      action: 'complete',\n",
              "    }\n",
              "  };\n",
              "}\n",
              "\n",
              "scope.google = scope.google || {};\n",
              "scope.google.colab = scope.google.colab || {};\n",
              "scope.google.colab._files = {\n",
              "  _uploadFiles,\n",
              "  _uploadFilesContinue,\n",
              "};\n",
              "})(self);\n",
              "</script> "
            ]
          },
          "metadata": {}
        }
      ],
      "source": [
        "from google.colab import files\n",
        "\n",
        "uploaded = files.upload()"
      ]
    },
    {
      "cell_type": "code",
      "execution_count": 2,
      "metadata": {
        "id": "CK_nbUDBmX2E",
        "pycharm": {
          "name": "#%%\n"
        }
      },
      "outputs": [],
      "source": [
        "import numpy as np\n",
        "\n",
        "import pandas as pd\n",
        "\n",
        "import matplotlib.pyplot as plt\n",
        "\n",
        "import seaborn as sns\n",
        "\n",
        "from sklearn.model_selection import train_test_split\n",
        "\n",
        "from sklearn.preprocessing import MinMaxScaler\n",
        "\n",
        "import tensorflow as tf\n",
        "\n",
        "from tensorflow.keras.models import Sequential\n",
        "\n",
        "from tensorflow.keras.layers import Dense, Dropout, Activation\n",
        "\n",
        "from tensorflow.keras.metrics import AUC\n",
        "\n",
        "from tensorflow.keras.optimizers import experimental"
      ]
    },
    {
      "cell_type": "code",
      "execution_count": 4,
      "metadata": {
        "colab": {
          "base_uri": "https://localhost:8080/",
          "height": 264
        },
        "id": "cF6d_Z6B2CpB",
        "outputId": "b0c2b201-005a-41dd-9a33-d2b81e48454a",
        "pycharm": {
          "name": "#%%\n"
        }
      },
      "outputs": [
        {
          "output_type": "execute_result",
          "data": {
            "text/plain": [
              "   id  gender   age  hypertension  heart_disease ever_married work_type  \\\n",
              "0   0    Male  28.0             0              0          Yes   Private   \n",
              "1   1    Male  33.0             0              0          Yes   Private   \n",
              "2   2  Female  42.0             0              0          Yes   Private   \n",
              "3   3    Male  56.0             0              0          Yes   Private   \n",
              "4   4  Female  24.0             0              0           No   Private   \n",
              "\n",
              "  Residence_type  avg_glucose_level   bmi   smoking_status  stroke  \n",
              "0          Urban              79.53  31.1     never smoked       0  \n",
              "1          Rural              78.44  23.9  formerly smoked       0  \n",
              "2          Rural             103.00  40.3          Unknown       0  \n",
              "3          Urban              64.87  28.8     never smoked       0  \n",
              "4          Rural              73.36  28.8     never smoked       0  "
            ],
            "text/html": [
              "\n",
              "  <div id=\"df-53075788-d45c-46ba-bd81-4e99e51a41d3\">\n",
              "    <div class=\"colab-df-container\">\n",
              "      <div>\n",
              "<style scoped>\n",
              "    .dataframe tbody tr th:only-of-type {\n",
              "        vertical-align: middle;\n",
              "    }\n",
              "\n",
              "    .dataframe tbody tr th {\n",
              "        vertical-align: top;\n",
              "    }\n",
              "\n",
              "    .dataframe thead th {\n",
              "        text-align: right;\n",
              "    }\n",
              "</style>\n",
              "<table border=\"1\" class=\"dataframe\">\n",
              "  <thead>\n",
              "    <tr style=\"text-align: right;\">\n",
              "      <th></th>\n",
              "      <th>id</th>\n",
              "      <th>gender</th>\n",
              "      <th>age</th>\n",
              "      <th>hypertension</th>\n",
              "      <th>heart_disease</th>\n",
              "      <th>ever_married</th>\n",
              "      <th>work_type</th>\n",
              "      <th>Residence_type</th>\n",
              "      <th>avg_glucose_level</th>\n",
              "      <th>bmi</th>\n",
              "      <th>smoking_status</th>\n",
              "      <th>stroke</th>\n",
              "    </tr>\n",
              "  </thead>\n",
              "  <tbody>\n",
              "    <tr>\n",
              "      <th>0</th>\n",
              "      <td>0</td>\n",
              "      <td>Male</td>\n",
              "      <td>28.0</td>\n",
              "      <td>0</td>\n",
              "      <td>0</td>\n",
              "      <td>Yes</td>\n",
              "      <td>Private</td>\n",
              "      <td>Urban</td>\n",
              "      <td>79.53</td>\n",
              "      <td>31.1</td>\n",
              "      <td>never smoked</td>\n",
              "      <td>0</td>\n",
              "    </tr>\n",
              "    <tr>\n",
              "      <th>1</th>\n",
              "      <td>1</td>\n",
              "      <td>Male</td>\n",
              "      <td>33.0</td>\n",
              "      <td>0</td>\n",
              "      <td>0</td>\n",
              "      <td>Yes</td>\n",
              "      <td>Private</td>\n",
              "      <td>Rural</td>\n",
              "      <td>78.44</td>\n",
              "      <td>23.9</td>\n",
              "      <td>formerly smoked</td>\n",
              "      <td>0</td>\n",
              "    </tr>\n",
              "    <tr>\n",
              "      <th>2</th>\n",
              "      <td>2</td>\n",
              "      <td>Female</td>\n",
              "      <td>42.0</td>\n",
              "      <td>0</td>\n",
              "      <td>0</td>\n",
              "      <td>Yes</td>\n",
              "      <td>Private</td>\n",
              "      <td>Rural</td>\n",
              "      <td>103.00</td>\n",
              "      <td>40.3</td>\n",
              "      <td>Unknown</td>\n",
              "      <td>0</td>\n",
              "    </tr>\n",
              "    <tr>\n",
              "      <th>3</th>\n",
              "      <td>3</td>\n",
              "      <td>Male</td>\n",
              "      <td>56.0</td>\n",
              "      <td>0</td>\n",
              "      <td>0</td>\n",
              "      <td>Yes</td>\n",
              "      <td>Private</td>\n",
              "      <td>Urban</td>\n",
              "      <td>64.87</td>\n",
              "      <td>28.8</td>\n",
              "      <td>never smoked</td>\n",
              "      <td>0</td>\n",
              "    </tr>\n",
              "    <tr>\n",
              "      <th>4</th>\n",
              "      <td>4</td>\n",
              "      <td>Female</td>\n",
              "      <td>24.0</td>\n",
              "      <td>0</td>\n",
              "      <td>0</td>\n",
              "      <td>No</td>\n",
              "      <td>Private</td>\n",
              "      <td>Rural</td>\n",
              "      <td>73.36</td>\n",
              "      <td>28.8</td>\n",
              "      <td>never smoked</td>\n",
              "      <td>0</td>\n",
              "    </tr>\n",
              "  </tbody>\n",
              "</table>\n",
              "</div>\n",
              "      <button class=\"colab-df-convert\" onclick=\"convertToInteractive('df-53075788-d45c-46ba-bd81-4e99e51a41d3')\"\n",
              "              title=\"Convert this dataframe to an interactive table.\"\n",
              "              style=\"display:none;\">\n",
              "        \n",
              "  <svg xmlns=\"http://www.w3.org/2000/svg\" height=\"24px\"viewBox=\"0 0 24 24\"\n",
              "       width=\"24px\">\n",
              "    <path d=\"M0 0h24v24H0V0z\" fill=\"none\"/>\n",
              "    <path d=\"M18.56 5.44l.94 2.06.94-2.06 2.06-.94-2.06-.94-.94-2.06-.94 2.06-2.06.94zm-11 1L8.5 8.5l.94-2.06 2.06-.94-2.06-.94L8.5 2.5l-.94 2.06-2.06.94zm10 10l.94 2.06.94-2.06 2.06-.94-2.06-.94-.94-2.06-.94 2.06-2.06.94z\"/><path d=\"M17.41 7.96l-1.37-1.37c-.4-.4-.92-.59-1.43-.59-.52 0-1.04.2-1.43.59L10.3 9.45l-7.72 7.72c-.78.78-.78 2.05 0 2.83L4 21.41c.39.39.9.59 1.41.59.51 0 1.02-.2 1.41-.59l7.78-7.78 2.81-2.81c.8-.78.8-2.07 0-2.86zM5.41 20L4 18.59l7.72-7.72 1.47 1.35L5.41 20z\"/>\n",
              "  </svg>\n",
              "      </button>\n",
              "      \n",
              "  <style>\n",
              "    .colab-df-container {\n",
              "      display:flex;\n",
              "      flex-wrap:wrap;\n",
              "      gap: 12px;\n",
              "    }\n",
              "\n",
              "    .colab-df-convert {\n",
              "      background-color: #E8F0FE;\n",
              "      border: none;\n",
              "      border-radius: 50%;\n",
              "      cursor: pointer;\n",
              "      display: none;\n",
              "      fill: #1967D2;\n",
              "      height: 32px;\n",
              "      padding: 0 0 0 0;\n",
              "      width: 32px;\n",
              "    }\n",
              "\n",
              "    .colab-df-convert:hover {\n",
              "      background-color: #E2EBFA;\n",
              "      box-shadow: 0px 1px 2px rgba(60, 64, 67, 0.3), 0px 1px 3px 1px rgba(60, 64, 67, 0.15);\n",
              "      fill: #174EA6;\n",
              "    }\n",
              "\n",
              "    [theme=dark] .colab-df-convert {\n",
              "      background-color: #3B4455;\n",
              "      fill: #D2E3FC;\n",
              "    }\n",
              "\n",
              "    [theme=dark] .colab-df-convert:hover {\n",
              "      background-color: #434B5C;\n",
              "      box-shadow: 0px 1px 3px 1px rgba(0, 0, 0, 0.15);\n",
              "      filter: drop-shadow(0px 1px 2px rgba(0, 0, 0, 0.3));\n",
              "      fill: #FFFFFF;\n",
              "    }\n",
              "  </style>\n",
              "\n",
              "      <script>\n",
              "        const buttonEl =\n",
              "          document.querySelector('#df-53075788-d45c-46ba-bd81-4e99e51a41d3 button.colab-df-convert');\n",
              "        buttonEl.style.display =\n",
              "          google.colab.kernel.accessAllowed ? 'block' : 'none';\n",
              "\n",
              "        async function convertToInteractive(key) {\n",
              "          const element = document.querySelector('#df-53075788-d45c-46ba-bd81-4e99e51a41d3');\n",
              "          const dataTable =\n",
              "            await google.colab.kernel.invokeFunction('convertToInteractive',\n",
              "                                                     [key], {});\n",
              "          if (!dataTable) return;\n",
              "\n",
              "          const docLinkHtml = 'Like what you see? Visit the ' +\n",
              "            '<a target=\"_blank\" href=https://colab.research.google.com/notebooks/data_table.ipynb>data table notebook</a>'\n",
              "            + ' to learn more about interactive tables.';\n",
              "          element.innerHTML = '';\n",
              "          dataTable['output_type'] = 'display_data';\n",
              "          await google.colab.output.renderOutput(dataTable, element);\n",
              "          const docLink = document.createElement('div');\n",
              "          docLink.innerHTML = docLinkHtml;\n",
              "          element.appendChild(docLink);\n",
              "        }\n",
              "      </script>\n",
              "    </div>\n",
              "  </div>\n",
              "  "
            ]
          },
          "metadata": {},
          "execution_count": 4
        }
      ],
      "source": [
        "# Importing the dataset\n",
        "data = pd.read_csv('/content/train.csv')\n",
        "\n",
        "# Check the top five records of the data\n",
        "data.head()"
      ]
    },
    {
      "cell_type": "markdown",
      "metadata": {
        "id": "yVsWWzVw2brU",
        "pycharm": {
          "name": "#%% md\n"
        }
      },
      "source": [
        "- In the above dataset, the target variable is **stroke**."
      ]
    },
    {
      "cell_type": "code",
      "execution_count": 5,
      "metadata": {
        "colab": {
          "base_uri": "https://localhost:8080/",
          "height": 264
        },
        "id": "XGCid1us3jRJ",
        "outputId": "a3cc511a-6edf-4ef1-8808-f3bf58436a87",
        "pycharm": {
          "name": "#%%\n"
        }
      },
      "outputs": [
        {
          "output_type": "execute_result",
          "data": {
            "text/plain": [
              "   gender   age  hypertension  heart_disease ever_married work_type  \\\n",
              "0    Male  28.0             0              0          Yes   Private   \n",
              "1    Male  33.0             0              0          Yes   Private   \n",
              "2  Female  42.0             0              0          Yes   Private   \n",
              "3    Male  56.0             0              0          Yes   Private   \n",
              "4  Female  24.0             0              0           No   Private   \n",
              "\n",
              "  Residence_type  avg_glucose_level   bmi   smoking_status  stroke  \n",
              "0          Urban              79.53  31.1     never smoked       0  \n",
              "1          Rural              78.44  23.9  formerly smoked       0  \n",
              "2          Rural             103.00  40.3          Unknown       0  \n",
              "3          Urban              64.87  28.8     never smoked       0  \n",
              "4          Rural              73.36  28.8     never smoked       0  "
            ],
            "text/html": [
              "\n",
              "  <div id=\"df-a8cfeb9f-b047-44e4-99b7-4d50da8f8f4d\">\n",
              "    <div class=\"colab-df-container\">\n",
              "      <div>\n",
              "<style scoped>\n",
              "    .dataframe tbody tr th:only-of-type {\n",
              "        vertical-align: middle;\n",
              "    }\n",
              "\n",
              "    .dataframe tbody tr th {\n",
              "        vertical-align: top;\n",
              "    }\n",
              "\n",
              "    .dataframe thead th {\n",
              "        text-align: right;\n",
              "    }\n",
              "</style>\n",
              "<table border=\"1\" class=\"dataframe\">\n",
              "  <thead>\n",
              "    <tr style=\"text-align: right;\">\n",
              "      <th></th>\n",
              "      <th>gender</th>\n",
              "      <th>age</th>\n",
              "      <th>hypertension</th>\n",
              "      <th>heart_disease</th>\n",
              "      <th>ever_married</th>\n",
              "      <th>work_type</th>\n",
              "      <th>Residence_type</th>\n",
              "      <th>avg_glucose_level</th>\n",
              "      <th>bmi</th>\n",
              "      <th>smoking_status</th>\n",
              "      <th>stroke</th>\n",
              "    </tr>\n",
              "  </thead>\n",
              "  <tbody>\n",
              "    <tr>\n",
              "      <th>0</th>\n",
              "      <td>Male</td>\n",
              "      <td>28.0</td>\n",
              "      <td>0</td>\n",
              "      <td>0</td>\n",
              "      <td>Yes</td>\n",
              "      <td>Private</td>\n",
              "      <td>Urban</td>\n",
              "      <td>79.53</td>\n",
              "      <td>31.1</td>\n",
              "      <td>never smoked</td>\n",
              "      <td>0</td>\n",
              "    </tr>\n",
              "    <tr>\n",
              "      <th>1</th>\n",
              "      <td>Male</td>\n",
              "      <td>33.0</td>\n",
              "      <td>0</td>\n",
              "      <td>0</td>\n",
              "      <td>Yes</td>\n",
              "      <td>Private</td>\n",
              "      <td>Rural</td>\n",
              "      <td>78.44</td>\n",
              "      <td>23.9</td>\n",
              "      <td>formerly smoked</td>\n",
              "      <td>0</td>\n",
              "    </tr>\n",
              "    <tr>\n",
              "      <th>2</th>\n",
              "      <td>Female</td>\n",
              "      <td>42.0</td>\n",
              "      <td>0</td>\n",
              "      <td>0</td>\n",
              "      <td>Yes</td>\n",
              "      <td>Private</td>\n",
              "      <td>Rural</td>\n",
              "      <td>103.00</td>\n",
              "      <td>40.3</td>\n",
              "      <td>Unknown</td>\n",
              "      <td>0</td>\n",
              "    </tr>\n",
              "    <tr>\n",
              "      <th>3</th>\n",
              "      <td>Male</td>\n",
              "      <td>56.0</td>\n",
              "      <td>0</td>\n",
              "      <td>0</td>\n",
              "      <td>Yes</td>\n",
              "      <td>Private</td>\n",
              "      <td>Urban</td>\n",
              "      <td>64.87</td>\n",
              "      <td>28.8</td>\n",
              "      <td>never smoked</td>\n",
              "      <td>0</td>\n",
              "    </tr>\n",
              "    <tr>\n",
              "      <th>4</th>\n",
              "      <td>Female</td>\n",
              "      <td>24.0</td>\n",
              "      <td>0</td>\n",
              "      <td>0</td>\n",
              "      <td>No</td>\n",
              "      <td>Private</td>\n",
              "      <td>Rural</td>\n",
              "      <td>73.36</td>\n",
              "      <td>28.8</td>\n",
              "      <td>never smoked</td>\n",
              "      <td>0</td>\n",
              "    </tr>\n",
              "  </tbody>\n",
              "</table>\n",
              "</div>\n",
              "      <button class=\"colab-df-convert\" onclick=\"convertToInteractive('df-a8cfeb9f-b047-44e4-99b7-4d50da8f8f4d')\"\n",
              "              title=\"Convert this dataframe to an interactive table.\"\n",
              "              style=\"display:none;\">\n",
              "        \n",
              "  <svg xmlns=\"http://www.w3.org/2000/svg\" height=\"24px\"viewBox=\"0 0 24 24\"\n",
              "       width=\"24px\">\n",
              "    <path d=\"M0 0h24v24H0V0z\" fill=\"none\"/>\n",
              "    <path d=\"M18.56 5.44l.94 2.06.94-2.06 2.06-.94-2.06-.94-.94-2.06-.94 2.06-2.06.94zm-11 1L8.5 8.5l.94-2.06 2.06-.94-2.06-.94L8.5 2.5l-.94 2.06-2.06.94zm10 10l.94 2.06.94-2.06 2.06-.94-2.06-.94-.94-2.06-.94 2.06-2.06.94z\"/><path d=\"M17.41 7.96l-1.37-1.37c-.4-.4-.92-.59-1.43-.59-.52 0-1.04.2-1.43.59L10.3 9.45l-7.72 7.72c-.78.78-.78 2.05 0 2.83L4 21.41c.39.39.9.59 1.41.59.51 0 1.02-.2 1.41-.59l7.78-7.78 2.81-2.81c.8-.78.8-2.07 0-2.86zM5.41 20L4 18.59l7.72-7.72 1.47 1.35L5.41 20z\"/>\n",
              "  </svg>\n",
              "      </button>\n",
              "      \n",
              "  <style>\n",
              "    .colab-df-container {\n",
              "      display:flex;\n",
              "      flex-wrap:wrap;\n",
              "      gap: 12px;\n",
              "    }\n",
              "\n",
              "    .colab-df-convert {\n",
              "      background-color: #E8F0FE;\n",
              "      border: none;\n",
              "      border-radius: 50%;\n",
              "      cursor: pointer;\n",
              "      display: none;\n",
              "      fill: #1967D2;\n",
              "      height: 32px;\n",
              "      padding: 0 0 0 0;\n",
              "      width: 32px;\n",
              "    }\n",
              "\n",
              "    .colab-df-convert:hover {\n",
              "      background-color: #E2EBFA;\n",
              "      box-shadow: 0px 1px 2px rgba(60, 64, 67, 0.3), 0px 1px 3px 1px rgba(60, 64, 67, 0.15);\n",
              "      fill: #174EA6;\n",
              "    }\n",
              "\n",
              "    [theme=dark] .colab-df-convert {\n",
              "      background-color: #3B4455;\n",
              "      fill: #D2E3FC;\n",
              "    }\n",
              "\n",
              "    [theme=dark] .colab-df-convert:hover {\n",
              "      background-color: #434B5C;\n",
              "      box-shadow: 0px 1px 3px 1px rgba(0, 0, 0, 0.15);\n",
              "      filter: drop-shadow(0px 1px 2px rgba(0, 0, 0, 0.3));\n",
              "      fill: #FFFFFF;\n",
              "    }\n",
              "  </style>\n",
              "\n",
              "      <script>\n",
              "        const buttonEl =\n",
              "          document.querySelector('#df-a8cfeb9f-b047-44e4-99b7-4d50da8f8f4d button.colab-df-convert');\n",
              "        buttonEl.style.display =\n",
              "          google.colab.kernel.accessAllowed ? 'block' : 'none';\n",
              "\n",
              "        async function convertToInteractive(key) {\n",
              "          const element = document.querySelector('#df-a8cfeb9f-b047-44e4-99b7-4d50da8f8f4d');\n",
              "          const dataTable =\n",
              "            await google.colab.kernel.invokeFunction('convertToInteractive',\n",
              "                                                     [key], {});\n",
              "          if (!dataTable) return;\n",
              "\n",
              "          const docLinkHtml = 'Like what you see? Visit the ' +\n",
              "            '<a target=\"_blank\" href=https://colab.research.google.com/notebooks/data_table.ipynb>data table notebook</a>'\n",
              "            + ' to learn more about interactive tables.';\n",
              "          element.innerHTML = '';\n",
              "          dataTable['output_type'] = 'display_data';\n",
              "          await google.colab.output.renderOutput(dataTable, element);\n",
              "          const docLink = document.createElement('div');\n",
              "          docLink.innerHTML = docLinkHtml;\n",
              "          element.appendChild(docLink);\n",
              "        }\n",
              "      </script>\n",
              "    </div>\n",
              "  </div>\n",
              "  "
            ]
          },
          "metadata": {},
          "execution_count": 5
        }
      ],
      "source": [
        "# Dropping columns\n",
        "data = data.drop(['id'], axis = 1)\n",
        "\n",
        "data.head()"
      ]
    },
    {
      "cell_type": "markdown",
      "metadata": {
        "pycharm": {
          "name": "#%% md\n"
        },
        "id": "RTjpz1xIdiRr"
      },
      "source": [
        "## **Exploratory Data Analysis**"
      ]
    },
    {
      "cell_type": "code",
      "execution_count": null,
      "metadata": {
        "colab": {
          "base_uri": "https://localhost:8080/"
        },
        "id": "Y5wPX0lb3wRU",
        "outputId": "cf5b257f-f9bb-477d-ec81-53aad2ed93b9",
        "pycharm": {
          "name": "#%%\n"
        }
      },
      "outputs": [
        {
          "output_type": "stream",
          "name": "stdout",
          "text": [
            "<class 'pandas.core.frame.DataFrame'>\n",
            "RangeIndex: 15304 entries, 0 to 15303\n",
            "Data columns (total 11 columns):\n",
            " #   Column             Non-Null Count  Dtype  \n",
            "---  ------             --------------  -----  \n",
            " 0   gender             15304 non-null  object \n",
            " 1   age                15304 non-null  float64\n",
            " 2   hypertension       15304 non-null  int64  \n",
            " 3   heart_disease      15304 non-null  int64  \n",
            " 4   ever_married       15304 non-null  object \n",
            " 5   work_type          15304 non-null  object \n",
            " 6   Residence_type     15304 non-null  object \n",
            " 7   avg_glucose_level  15304 non-null  float64\n",
            " 8   bmi                15304 non-null  float64\n",
            " 9   smoking_status     15304 non-null  object \n",
            " 10  stroke             15304 non-null  int64  \n",
            "dtypes: float64(3), int64(3), object(5)\n",
            "memory usage: 1.3+ MB\n"
          ]
        }
      ],
      "source": [
        "# Let's check the info of the data\n",
        "data.info()"
      ]
    },
    {
      "cell_type": "markdown",
      "metadata": {
        "id": "cBQS9b56DC2_",
        "pycharm": {
          "name": "#%% md\n"
        }
      },
      "source": [
        "**Observations:**\n",
        "\n",
        "- There are **15304 observations and 11 columns** in the data.\n",
        "- 6 of the columns are of **numeric data** type and 5 are non-numeric\n",
        "- There are **no missing values** in the data."
      ]
    },
    {
      "cell_type": "markdown",
      "metadata": {
        "pycharm": {
          "name": "#%% md\n"
        },
        "id": "dJCz87RSdiRt"
      },
      "source": [
        "### **Summary Statistics**"
      ]
    },
    {
      "cell_type": "code",
      "execution_count": null,
      "metadata": {
        "colab": {
          "base_uri": "https://localhost:8080/",
          "height": 231
        },
        "id": "WpdM4iC0DwPJ",
        "outputId": "a85bf0b6-1f15-4a65-884c-62d1fb2f25e4",
        "pycharm": {
          "name": "#%%\n"
        }
      },
      "outputs": [
        {
          "output_type": "execute_result",
          "data": {
            "text/plain": [
              "                     count       mean        std    min   25%    50%    75%  \\\n",
              "age                15304.0  41.417708  21.444673   0.08  26.0  43.00  57.00   \n",
              "hypertension       15304.0   0.049726   0.217384   0.00   0.0   0.00   0.00   \n",
              "heart_disease      15304.0   0.023327   0.150946   0.00   0.0   0.00   0.00   \n",
              "avg_glucose_level  15304.0  89.039853  25.476102  55.22  74.9  85.12  96.98   \n",
              "bmi                15304.0  28.112721   6.722315  10.30  23.5  27.60  32.00   \n",
              "stroke             15304.0   0.041296   0.198981   0.00   0.0   0.00   0.00   \n",
              "\n",
              "                     max  \n",
              "age                 82.0  \n",
              "hypertension         1.0  \n",
              "heart_disease        1.0  \n",
              "avg_glucose_level  267.6  \n",
              "bmi                 80.1  \n",
              "stroke               1.0  "
            ],
            "text/html": [
              "\n",
              "  <div id=\"df-7a083448-f6f3-49a7-be6b-8fdc34e723e2\">\n",
              "    <div class=\"colab-df-container\">\n",
              "      <div>\n",
              "<style scoped>\n",
              "    .dataframe tbody tr th:only-of-type {\n",
              "        vertical-align: middle;\n",
              "    }\n",
              "\n",
              "    .dataframe tbody tr th {\n",
              "        vertical-align: top;\n",
              "    }\n",
              "\n",
              "    .dataframe thead th {\n",
              "        text-align: right;\n",
              "    }\n",
              "</style>\n",
              "<table border=\"1\" class=\"dataframe\">\n",
              "  <thead>\n",
              "    <tr style=\"text-align: right;\">\n",
              "      <th></th>\n",
              "      <th>count</th>\n",
              "      <th>mean</th>\n",
              "      <th>std</th>\n",
              "      <th>min</th>\n",
              "      <th>25%</th>\n",
              "      <th>50%</th>\n",
              "      <th>75%</th>\n",
              "      <th>max</th>\n",
              "    </tr>\n",
              "  </thead>\n",
              "  <tbody>\n",
              "    <tr>\n",
              "      <th>age</th>\n",
              "      <td>15304.0</td>\n",
              "      <td>41.417708</td>\n",
              "      <td>21.444673</td>\n",
              "      <td>0.08</td>\n",
              "      <td>26.0</td>\n",
              "      <td>43.00</td>\n",
              "      <td>57.00</td>\n",
              "      <td>82.0</td>\n",
              "    </tr>\n",
              "    <tr>\n",
              "      <th>hypertension</th>\n",
              "      <td>15304.0</td>\n",
              "      <td>0.049726</td>\n",
              "      <td>0.217384</td>\n",
              "      <td>0.00</td>\n",
              "      <td>0.0</td>\n",
              "      <td>0.00</td>\n",
              "      <td>0.00</td>\n",
              "      <td>1.0</td>\n",
              "    </tr>\n",
              "    <tr>\n",
              "      <th>heart_disease</th>\n",
              "      <td>15304.0</td>\n",
              "      <td>0.023327</td>\n",
              "      <td>0.150946</td>\n",
              "      <td>0.00</td>\n",
              "      <td>0.0</td>\n",
              "      <td>0.00</td>\n",
              "      <td>0.00</td>\n",
              "      <td>1.0</td>\n",
              "    </tr>\n",
              "    <tr>\n",
              "      <th>avg_glucose_level</th>\n",
              "      <td>15304.0</td>\n",
              "      <td>89.039853</td>\n",
              "      <td>25.476102</td>\n",
              "      <td>55.22</td>\n",
              "      <td>74.9</td>\n",
              "      <td>85.12</td>\n",
              "      <td>96.98</td>\n",
              "      <td>267.6</td>\n",
              "    </tr>\n",
              "    <tr>\n",
              "      <th>bmi</th>\n",
              "      <td>15304.0</td>\n",
              "      <td>28.112721</td>\n",
              "      <td>6.722315</td>\n",
              "      <td>10.30</td>\n",
              "      <td>23.5</td>\n",
              "      <td>27.60</td>\n",
              "      <td>32.00</td>\n",
              "      <td>80.1</td>\n",
              "    </tr>\n",
              "    <tr>\n",
              "      <th>stroke</th>\n",
              "      <td>15304.0</td>\n",
              "      <td>0.041296</td>\n",
              "      <td>0.198981</td>\n",
              "      <td>0.00</td>\n",
              "      <td>0.0</td>\n",
              "      <td>0.00</td>\n",
              "      <td>0.00</td>\n",
              "      <td>1.0</td>\n",
              "    </tr>\n",
              "  </tbody>\n",
              "</table>\n",
              "</div>\n",
              "      <button class=\"colab-df-convert\" onclick=\"convertToInteractive('df-7a083448-f6f3-49a7-be6b-8fdc34e723e2')\"\n",
              "              title=\"Convert this dataframe to an interactive table.\"\n",
              "              style=\"display:none;\">\n",
              "        \n",
              "  <svg xmlns=\"http://www.w3.org/2000/svg\" height=\"24px\"viewBox=\"0 0 24 24\"\n",
              "       width=\"24px\">\n",
              "    <path d=\"M0 0h24v24H0V0z\" fill=\"none\"/>\n",
              "    <path d=\"M18.56 5.44l.94 2.06.94-2.06 2.06-.94-2.06-.94-.94-2.06-.94 2.06-2.06.94zm-11 1L8.5 8.5l.94-2.06 2.06-.94-2.06-.94L8.5 2.5l-.94 2.06-2.06.94zm10 10l.94 2.06.94-2.06 2.06-.94-2.06-.94-.94-2.06-.94 2.06-2.06.94z\"/><path d=\"M17.41 7.96l-1.37-1.37c-.4-.4-.92-.59-1.43-.59-.52 0-1.04.2-1.43.59L10.3 9.45l-7.72 7.72c-.78.78-.78 2.05 0 2.83L4 21.41c.39.39.9.59 1.41.59.51 0 1.02-.2 1.41-.59l7.78-7.78 2.81-2.81c.8-.78.8-2.07 0-2.86zM5.41 20L4 18.59l7.72-7.72 1.47 1.35L5.41 20z\"/>\n",
              "  </svg>\n",
              "      </button>\n",
              "      \n",
              "  <style>\n",
              "    .colab-df-container {\n",
              "      display:flex;\n",
              "      flex-wrap:wrap;\n",
              "      gap: 12px;\n",
              "    }\n",
              "\n",
              "    .colab-df-convert {\n",
              "      background-color: #E8F0FE;\n",
              "      border: none;\n",
              "      border-radius: 50%;\n",
              "      cursor: pointer;\n",
              "      display: none;\n",
              "      fill: #1967D2;\n",
              "      height: 32px;\n",
              "      padding: 0 0 0 0;\n",
              "      width: 32px;\n",
              "    }\n",
              "\n",
              "    .colab-df-convert:hover {\n",
              "      background-color: #E2EBFA;\n",
              "      box-shadow: 0px 1px 2px rgba(60, 64, 67, 0.3), 0px 1px 3px 1px rgba(60, 64, 67, 0.15);\n",
              "      fill: #174EA6;\n",
              "    }\n",
              "\n",
              "    [theme=dark] .colab-df-convert {\n",
              "      background-color: #3B4455;\n",
              "      fill: #D2E3FC;\n",
              "    }\n",
              "\n",
              "    [theme=dark] .colab-df-convert:hover {\n",
              "      background-color: #434B5C;\n",
              "      box-shadow: 0px 1px 3px 1px rgba(0, 0, 0, 0.15);\n",
              "      filter: drop-shadow(0px 1px 2px rgba(0, 0, 0, 0.3));\n",
              "      fill: #FFFFFF;\n",
              "    }\n",
              "  </style>\n",
              "\n",
              "      <script>\n",
              "        const buttonEl =\n",
              "          document.querySelector('#df-7a083448-f6f3-49a7-be6b-8fdc34e723e2 button.colab-df-convert');\n",
              "        buttonEl.style.display =\n",
              "          google.colab.kernel.accessAllowed ? 'block' : 'none';\n",
              "\n",
              "        async function convertToInteractive(key) {\n",
              "          const element = document.querySelector('#df-7a083448-f6f3-49a7-be6b-8fdc34e723e2');\n",
              "          const dataTable =\n",
              "            await google.colab.kernel.invokeFunction('convertToInteractive',\n",
              "                                                     [key], {});\n",
              "          if (!dataTable) return;\n",
              "\n",
              "          const docLinkHtml = 'Like what you see? Visit the ' +\n",
              "            '<a target=\"_blank\" href=https://colab.research.google.com/notebooks/data_table.ipynb>data table notebook</a>'\n",
              "            + ' to learn more about interactive tables.';\n",
              "          element.innerHTML = '';\n",
              "          dataTable['output_type'] = 'display_data';\n",
              "          await google.colab.output.renderOutput(dataTable, element);\n",
              "          const docLink = document.createElement('div');\n",
              "          docLink.innerHTML = docLinkHtml;\n",
              "          element.appendChild(docLink);\n",
              "        }\n",
              "      </script>\n",
              "    </div>\n",
              "  </div>\n",
              "  "
            ]
          },
          "metadata": {},
          "execution_count": 6
        }
      ],
      "source": [
        "# Let's check the summary statistics of the data\n",
        "data.describe().T "
      ]
    },
    {
      "cell_type": "markdown",
      "metadata": {
        "id": "Dwro2RclD222",
        "pycharm": {
          "name": "#%% md\n"
        }
      },
      "source": [
        "**Observations:**\n",
        "\n",
        "- The average age of patients ~ 41. Patients ranged in age from 0 to 82. \n",
        "- The average BMI score of patients is 28.1 which is overweight. The median is 27.6 which means that a majority of patients were overweight or obese.\n",
        "- There are patients with a wide range of glucose levels - ranging from 55 to 267.\n",
        "- 5% of patients have hypertension, 5% have heart disease and 4% have had a stroke"
      ]
    },
    {
      "cell_type": "markdown",
      "metadata": {
        "id": "fhotGVGD4hgT",
        "pycharm": {
          "name": "#%% md\n"
        }
      },
      "source": [
        "### **Let's visualize the dataset to see some patterns**"
      ]
    },
    {
      "cell_type": "code",
      "execution_count": 6,
      "metadata": {
        "colab": {
          "base_uri": "https://localhost:8080/",
          "height": 408
        },
        "id": "vwTqs3205Zk6",
        "outputId": "e60a0f5f-fffa-4ec8-8d63-846d8cebfb17",
        "pycharm": {
          "name": "#%%\n"
        }
      },
      "outputs": [
        {
          "output_type": "execute_result",
          "data": {
            "text/plain": [
              "<matplotlib.axes._subplots.AxesSubplot at 0x7fdd4366fb80>"
            ]
          },
          "metadata": {},
          "execution_count": 6
        },
        {
          "output_type": "display_data",
          "data": {
            "text/plain": [
              "<Figure size 1080x576 with 1 Axes>"
            ],
            "image/png": "[encoded data removed]"
          },
          "metadata": {
            "needs_background": "light"
          }
        }
      ],
      "source": [
        "plt.figure(figsize = (15, 8))\n",
        "\n",
        "sns.scatterplot(data = data,\n",
        "                 \n",
        "           x = 'age',\n",
        "\n",
        "           y = 'bmi',\n",
        "\n",
        "           hue = 'stroke',\n",
        "\n",
        "           size = 'avg_glucose_level'\n",
        ")"
      ]
    },
    {
      "cell_type": "markdown",
      "metadata": {
        "id": "csxwJUu4Kmj4",
        "pycharm": {
          "name": "#%% md\n"
        }
      },
      "source": [
        "**Observations:** \n",
        "\n",
        "- There is no obvious relationship between age and BMI.\n",
        "- Glucose levels increase with age and weight. \n",
        "- We can see a distinction between patients who suffered a stroke (denoted by orange) vs those who did not (denoted by blue). We can see that the majority of stroke patients were older than 60, BMI greater than 25, and average glucose of 160 or higher."
      ]
    },
    {
      "cell_type": "code",
      "execution_count": null,
      "metadata": {
        "colab": {
          "base_uri": "https://localhost:8080/",
          "height": 458
        },
        "id": "cEOrIzXp4m4L",
        "outputId": "7502b54d-5cba-4d74-9e2d-84f57ba63770",
        "pycharm": {
          "name": "#%%\n"
        }
      },
      "outputs": [
        {
          "output_type": "display_data",
          "data": {
            "text/plain": [
              "<Figure size 720x504 with 1 Axes>"
            ],
            "image/png": "[encoded data removed]"
          },
          "metadata": {
            "needs_background": "light"
          }
        }
      ],
      "source": [
        "plt.figure(figsize = (10, 7))\n",
        "\n",
        "sns.boxplot(data = data,\n",
        "            \n",
        "             x = 'smoking_status', \n",
        "            \n",
        "             y = 'bmi',\n",
        "            \n",
        "             hue = 'stroke')\n",
        "\n",
        "plt.title('Relationship between different Smoking Statuses and bmi')\n",
        "\n",
        "plt.show()"
      ]
    },
    {
      "cell_type": "code",
      "source": [
        "plt.figure(figsize = (10, 7))\n",
        "\n",
        "sns.boxplot(data = data,\n",
        "            \n",
        "             x = 'stroke', \n",
        "            \n",
        "             y = 'age')\n",
        "\n",
        "plt.title('Relationship between age and stroke')\n",
        "\n",
        "plt.show()"
      ],
      "metadata": {
        "colab": {
          "base_uri": "https://localhost:8080/",
          "height": 457
        },
        "id": "vhoUn41qh8d2",
        "outputId": "3f876c42-9f7c-4172-adfc-32c046f61692"
      },
      "execution_count": null,
      "outputs": [
        {
          "output_type": "display_data",
          "data": {
            "text/plain": [
              "<Figure size 720x504 with 1 Axes>"
            ],
            "image/png": "[encoded data removed]"
          },
          "metadata": {
            "needs_background": "light"
          }
        }
      ]
    },
    {
      "cell_type": "code",
      "source": [
        "plt.figure(figsize = (10, 7))\n",
        "\n",
        "sns.boxplot(data = data,\n",
        "            \n",
        "             x = 'stroke', \n",
        "            \n",
        "             y = 'bmi')\n",
        "\n",
        "plt.title('Relationship between BMI and stroke')\n",
        "\n",
        "plt.show()"
      ],
      "metadata": {
        "colab": {
          "base_uri": "https://localhost:8080/",
          "height": 457
        },
        "id": "NeY_nfReihJH",
        "outputId": "3a5eded3-d47e-4cb3-f39e-7521be560a9f"
      },
      "execution_count": null,
      "outputs": [
        {
          "output_type": "display_data",
          "data": {
            "text/plain": [
              "<Figure size 720x504 with 1 Axes>"
            ],
            "image/png": "[encoded data removed]"
          },
          "metadata": {
            "needs_background": "light"
          }
        }
      ]
    },
    {
      "cell_type": "code",
      "source": [
        "plt.figure(figsize = (10, 7))\n",
        "\n",
        "sns.boxplot(data = data,\n",
        "            \n",
        "             x = 'stroke', \n",
        "            \n",
        "             y = 'avg_glucose_level')\n",
        "\n",
        "plt.title('Relationship between different stroke and glucose')\n",
        "\n",
        "plt.show()"
      ],
      "metadata": {
        "colab": {
          "base_uri": "https://localhost:8080/",
          "height": 457
        },
        "id": "ep3bUVMjjJpK",
        "outputId": "a4cfdd0e-90b8-43cb-fffa-e85194af25b9"
      },
      "execution_count": null,
      "outputs": [
        {
          "output_type": "display_data",
          "data": {
            "text/plain": [
              "<Figure size 720x504 with 1 Axes>"
            ],
            "image/png": "[encoded data removed]"
          },
          "metadata": {
            "needs_background": "light"
          }
        }
      ]
    },
    {
      "cell_type": "code",
      "source": [
        "for col in ['age', 'avg_glucose_level', 'bmi']:\n",
        "    print(col)\n",
        "    \n",
        "    print('Skew :', round(data[col].skew(), 2))\n",
        "    \n",
        "    plt.figure(figsize = (15, 4))\n",
        "    \n",
        "    plt.subplot(1,2,1)\n",
        "    \n",
        "    data[col].hist(bins = 10, grid = False)\n",
        "    \n",
        "    plt.ylabel('count')\n",
        "    \n",
        "    plt.subplot(1, 2, 2)\n",
        "    \n",
        "    sns.boxplot(x = data[col])\n",
        "    \n",
        "    plt.show()"
      ],
      "metadata": {
        "colab": {
          "base_uri": "https://localhost:8080/",
          "height": 907
        },
        "id": "pJGalhQQsuRt",
        "outputId": "60e0de6f-2aa0-4ed1-aeac-7f9d006c4b04"
      },
      "execution_count": null,
      "outputs": [
        {
          "output_type": "stream",
          "name": "stdout",
          "text": [
            "age\n",
            "Skew : -0.11\n"
          ]
        },
        {
          "output_type": "display_data",
          "data": {
            "text/plain": [
              "<Figure size 1080x288 with 2 Axes>"
            ],
            "image/png": "[encoded data removed]"
          },
          "metadata": {
            "needs_background": "light"
          }
        },
        {
          "output_type": "stream",
          "name": "stdout",
          "text": [
            "avg_glucose_level\n",
            "Skew : 3.07\n"
          ]
        },
        {
          "output_type": "display_data",
          "data": {
            "text/plain": [
              "<Figure size 1080x288 with 2 Axes>"
            ],
            "image/png": "[encoded data removed]"
          },
          "metadata": {
            "needs_background": "light"
          }
        },
        {
          "output_type": "stream",
          "name": "stdout",
          "text": [
            "bmi\n",
            "Skew : 0.86\n"
          ]
        },
        {
          "output_type": "display_data",
          "data": {
            "text/plain": [
              "<Figure size 1080x288 with 2 Axes>"
            ],
            "image/png": "[encoded data removed]"
          },
          "metadata": {
            "needs_background": "light"
          }
        }
      ]
    },
    {
      "cell_type": "markdown",
      "metadata": {
        "id": "qphs_7DPMb05",
        "pycharm": {
          "name": "#%% md\n"
        }
      },
      "source": [
        "**Observations:** \n",
        "\n",
        "- We can see that stroke patients are more likely to have smoked than non-stroke patients, tend to be older, and tend to be heavier.\n",
        "\n",
        "- We can also see there are quite a few outliers."
      ]
    },
    {
      "cell_type": "markdown",
      "metadata": {
        "id": "ZZP_r2sD7B0P",
        "pycharm": {
          "name": "#%% md\n"
        }
      },
      "source": [
        "## **Data Preparation**"
      ]
    },
    {
      "cell_type": "markdown",
      "metadata": {
        "id": "5N2uA8r4MwX6",
        "pycharm": {
          "name": "#%% md\n"
        }
      },
      "source": [
        "This dataset contains both numerical and categorical variables. We need to treat them before we pass them onto the neural network. We will perform the below pre-processing steps: \n",
        "*   One hot encoding of categorical variables\n",
        "*   Scaling numerical variables\n",
        "\n",
        "Before we scale numerical variables, we would first split the dataset into train and test datasets and perform scaling separately. Otherwise, we would be leaking information from the test data to the train data and the resulting model might give a false sense of good performance. This is known as **data leakage** which we would like to avoid."
      ]
    },
    {
      "cell_type": "code",
      "source": [
        "one_hot_data = data.copy()\n"
      ],
      "metadata": {
        "id": "3Z46_mTxmbU0"
      },
      "execution_count": 7,
      "outputs": []
    },
    {
      "cell_type": "code",
      "source": [
        "s = (data.dtypes == 'object')"
      ],
      "metadata": {
        "id": "fZaTBZS3nyA5"
      },
      "execution_count": 8,
      "outputs": []
    },
    {
      "cell_type": "code",
      "source": [
        "for ch in list(s[s].index):\n",
        "  one_hot_data = pd.concat([one_hot_data, pd.get_dummies(data[ch], prefix = ch)], axis = 1)\n",
        "\n",
        "  one_hot_data = one_hot_data.drop(columns = ch)\n",
        "\n",
        "one_hot_data.head()"
      ],
      "metadata": {
        "colab": {
          "base_uri": "https://localhost:8080/",
          "height": 309
        },
        "id": "L_4tSOASno14",
        "outputId": "22cb12e2-f6a4-4c88-a95c-97026ca59e90"
      },
      "execution_count": 9,
      "outputs": [
        {
          "output_type": "execute_result",
          "data": {
            "text/plain": [
              "    age  hypertension  heart_disease  avg_glucose_level   bmi  stroke  \\\n",
              "0  28.0             0              0              79.53  31.1       0   \n",
              "1  33.0             0              0              78.44  23.9       0   \n",
              "2  42.0             0              0             103.00  40.3       0   \n",
              "3  56.0             0              0              64.87  28.8       0   \n",
              "4  24.0             0              0              73.36  28.8       0   \n",
              "\n",
              "   gender_Female  gender_Male  gender_Other  ever_married_No  ...  \\\n",
              "0              0            1             0                0  ...   \n",
              "1              0            1             0                0  ...   \n",
              "2              1            0             0                0  ...   \n",
              "3              0            1             0                0  ...   \n",
              "4              1            0             0                1  ...   \n",
              "\n",
              "   work_type_Never_worked  work_type_Private  work_type_Self-employed  \\\n",
              "0                       0                  1                        0   \n",
              "1                       0                  1                        0   \n",
              "2                       0                  1                        0   \n",
              "3                       0                  1                        0   \n",
              "4                       0                  1                        0   \n",
              "\n",
              "   work_type_children  Residence_type_Rural  Residence_type_Urban  \\\n",
              "0                   0                     0                     1   \n",
              "1                   0                     1                     0   \n",
              "2                   0                     1                     0   \n",
              "3                   0                     0                     1   \n",
              "4                   0                     1                     0   \n",
              "\n",
              "   smoking_status_Unknown  smoking_status_formerly smoked  \\\n",
              "0                       0                               0   \n",
              "1                       0                               1   \n",
              "2                       1                               0   \n",
              "3                       0                               0   \n",
              "4                       0                               0   \n",
              "\n",
              "   smoking_status_never smoked  smoking_status_smokes  \n",
              "0                            1                      0  \n",
              "1                            0                      0  \n",
              "2                            0                      0  \n",
              "3                            1                      0  \n",
              "4                            1                      0  \n",
              "\n",
              "[5 rows x 22 columns]"
            ],
            "text/html": [
              "\n",
              "  <div id=\"df-6dcca594-6de5-4b8b-82ec-3c8231240eb4\">\n",
              "    <div class=\"colab-df-container\">\n",
              "      <div>\n",
              "<style scoped>\n",
              "    .dataframe tbody tr th:only-of-type {\n",
              "        vertical-align: middle;\n",
              "    }\n",
              "\n",
              "    .dataframe tbody tr th {\n",
              "        vertical-align: top;\n",
              "    }\n",
              "\n",
              "    .dataframe thead th {\n",
              "        text-align: right;\n",
              "    }\n",
              "</style>\n",
              "<table border=\"1\" class=\"dataframe\">\n",
              "  <thead>\n",
              "    <tr style=\"text-align: right;\">\n",
              "      <th></th>\n",
              "      <th>age</th>\n",
              "      <th>hypertension</th>\n",
              "      <th>heart_disease</th>\n",
              "      <th>avg_glucose_level</th>\n",
              "      <th>bmi</th>\n",
              "      <th>stroke</th>\n",
              "      <th>gender_Female</th>\n",
              "      <th>gender_Male</th>\n",
              "      <th>gender_Other</th>\n",
              "      <th>ever_married_No</th>\n",
              "      <th>...</th>\n",
              "      <th>work_type_Never_worked</th>\n",
              "      <th>work_type_Private</th>\n",
              "      <th>work_type_Self-employed</th>\n",
              "      <th>work_type_children</th>\n",
              "      <th>Residence_type_Rural</th>\n",
              "      <th>Residence_type_Urban</th>\n",
              "      <th>smoking_status_Unknown</th>\n",
              "      <th>smoking_status_formerly smoked</th>\n",
              "      <th>smoking_status_never smoked</th>\n",
              "      <th>smoking_status_smokes</th>\n",
              "    </tr>\n",
              "  </thead>\n",
              "  <tbody>\n",
              "    <tr>\n",
              "      <th>0</th>\n",
              "      <td>28.0</td>\n",
              "      <td>0</td>\n",
              "      <td>0</td>\n",
              "      <td>79.53</td>\n",
              "      <td>31.1</td>\n",
              "      <td>0</td>\n",
              "      <td>0</td>\n",
              "      <td>1</td>\n",
              "      <td>0</td>\n",
              "      <td>0</td>\n",
              "      <td>...</td>\n",
              "      <td>0</td>\n",
              "      <td>1</td>\n",
              "      <td>0</td>\n",
              "      <td>0</td>\n",
              "      <td>0</td>\n",
              "      <td>1</td>\n",
              "      <td>0</td>\n",
              "      <td>0</td>\n",
              "      <td>1</td>\n",
              "      <td>0</td>\n",
              "    </tr>\n",
              "    <tr>\n",
              "      <th>1</th>\n",
              "      <td>33.0</td>\n",
              "      <td>0</td>\n",
              "      <td>0</td>\n",
              "      <td>78.44</td>\n",
              "      <td>23.9</td>\n",
              "      <td>0</td>\n",
              "      <td>0</td>\n",
              "      <td>1</td>\n",
              "      <td>0</td>\n",
              "      <td>0</td>\n",
              "      <td>...</td>\n",
              "      <td>0</td>\n",
              "      <td>1</td>\n",
              "      <td>0</td>\n",
              "      <td>0</td>\n",
              "      <td>1</td>\n",
              "      <td>0</td>\n",
              "      <td>0</td>\n",
              "      <td>1</td>\n",
              "      <td>0</td>\n",
              "      <td>0</td>\n",
              "    </tr>\n",
              "    <tr>\n",
              "      <th>2</th>\n",
              "      <td>42.0</td>\n",
              "      <td>0</td>\n",
              "      <td>0</td>\n",
              "      <td>103.00</td>\n",
              "      <td>40.3</td>\n",
              "      <td>0</td>\n",
              "      <td>1</td>\n",
              "      <td>0</td>\n",
              "      <td>0</td>\n",
              "      <td>0</td>\n",
              "      <td>...</td>\n",
              "      <td>0</td>\n",
              "      <td>1</td>\n",
              "      <td>0</td>\n",
              "      <td>0</td>\n",
              "      <td>1</td>\n",
              "      <td>0</td>\n",
              "      <td>1</td>\n",
              "      <td>0</td>\n",
              "      <td>0</td>\n",
              "      <td>0</td>\n",
              "    </tr>\n",
              "    <tr>\n",
              "      <th>3</th>\n",
              "      <td>56.0</td>\n",
              "      <td>0</td>\n",
              "      <td>0</td>\n",
              "      <td>64.87</td>\n",
              "      <td>28.8</td>\n",
              "      <td>0</td>\n",
              "      <td>0</td>\n",
              "      <td>1</td>\n",
              "      <td>0</td>\n",
              "      <td>0</td>\n",
              "      <td>...</td>\n",
              "      <td>0</td>\n",
              "      <td>1</td>\n",
              "      <td>0</td>\n",
              "      <td>0</td>\n",
              "      <td>0</td>\n",
              "      <td>1</td>\n",
              "      <td>0</td>\n",
              "      <td>0</td>\n",
              "      <td>1</td>\n",
              "      <td>0</td>\n",
              "    </tr>\n",
              "    <tr>\n",
              "      <th>4</th>\n",
              "      <td>24.0</td>\n",
              "      <td>0</td>\n",
              "      <td>0</td>\n",
              "      <td>73.36</td>\n",
              "      <td>28.8</td>\n",
              "      <td>0</td>\n",
              "      <td>1</td>\n",
              "      <td>0</td>\n",
              "      <td>0</td>\n",
              "      <td>1</td>\n",
              "      <td>...</td>\n",
              "      <td>0</td>\n",
              "      <td>1</td>\n",
              "      <td>0</td>\n",
              "      <td>0</td>\n",
              "      <td>1</td>\n",
              "      <td>0</td>\n",
              "      <td>0</td>\n",
              "      <td>0</td>\n",
              "      <td>1</td>\n",
              "      <td>0</td>\n",
              "    </tr>\n",
              "  </tbody>\n",
              "</table>\n",
              "<p>5 rows × 22 columns</p>\n",
              "</div>\n",
              "      <button class=\"colab-df-convert\" onclick=\"convertToInteractive('df-6dcca594-6de5-4b8b-82ec-3c8231240eb4')\"\n",
              "              title=\"Convert this dataframe to an interactive table.\"\n",
              "              style=\"display:none;\">\n",
              "        \n",
              "  <svg xmlns=\"http://www.w3.org/2000/svg\" height=\"24px\"viewBox=\"0 0 24 24\"\n",
              "       width=\"24px\">\n",
              "    <path d=\"M0 0h24v24H0V0z\" fill=\"none\"/>\n",
              "    <path d=\"M18.56 5.44l.94 2.06.94-2.06 2.06-.94-2.06-.94-.94-2.06-.94 2.06-2.06.94zm-11 1L8.5 8.5l.94-2.06 2.06-.94-2.06-.94L8.5 2.5l-.94 2.06-2.06.94zm10 10l.94 2.06.94-2.06 2.06-.94-2.06-.94-.94-2.06-.94 2.06-2.06.94z\"/><path d=\"M17.41 7.96l-1.37-1.37c-.4-.4-.92-.59-1.43-.59-.52 0-1.04.2-1.43.59L10.3 9.45l-7.72 7.72c-.78.78-.78 2.05 0 2.83L4 21.41c.39.39.9.59 1.41.59.51 0 1.02-.2 1.41-.59l7.78-7.78 2.81-2.81c.8-.78.8-2.07 0-2.86zM5.41 20L4 18.59l7.72-7.72 1.47 1.35L5.41 20z\"/>\n",
              "  </svg>\n",
              "      </button>\n",
              "      \n",
              "  <style>\n",
              "    .colab-df-container {\n",
              "      display:flex;\n",
              "      flex-wrap:wrap;\n",
              "      gap: 12px;\n",
              "    }\n",
              "\n",
              "    .colab-df-convert {\n",
              "      background-color: #E8F0FE;\n",
              "      border: none;\n",
              "      border-radius: 50%;\n",
              "      cursor: pointer;\n",
              "      display: none;\n",
              "      fill: #1967D2;\n",
              "      height: 32px;\n",
              "      padding: 0 0 0 0;\n",
              "      width: 32px;\n",
              "    }\n",
              "\n",
              "    .colab-df-convert:hover {\n",
              "      background-color: #E2EBFA;\n",
              "      box-shadow: 0px 1px 2px rgba(60, 64, 67, 0.3), 0px 1px 3px 1px rgba(60, 64, 67, 0.15);\n",
              "      fill: #174EA6;\n",
              "    }\n",
              "\n",
              "    [theme=dark] .colab-df-convert {\n",
              "      background-color: #3B4455;\n",
              "      fill: #D2E3FC;\n",
              "    }\n",
              "\n",
              "    [theme=dark] .colab-df-convert:hover {\n",
              "      background-color: #434B5C;\n",
              "      box-shadow: 0px 1px 3px 1px rgba(0, 0, 0, 0.15);\n",
              "      filter: drop-shadow(0px 1px 2px rgba(0, 0, 0, 0.3));\n",
              "      fill: #FFFFFF;\n",
              "    }\n",
              "  </style>\n",
              "\n",
              "      <script>\n",
              "        const buttonEl =\n",
              "          document.querySelector('#df-6dcca594-6de5-4b8b-82ec-3c8231240eb4 button.colab-df-convert');\n",
              "        buttonEl.style.display =\n",
              "          google.colab.kernel.accessAllowed ? 'block' : 'none';\n",
              "\n",
              "        async function convertToInteractive(key) {\n",
              "          const element = document.querySelector('#df-6dcca594-6de5-4b8b-82ec-3c8231240eb4');\n",
              "          const dataTable =\n",
              "            await google.colab.kernel.invokeFunction('convertToInteractive',\n",
              "                                                     [key], {});\n",
              "          if (!dataTable) return;\n",
              "\n",
              "          const docLinkHtml = 'Like what you see? Visit the ' +\n",
              "            '<a target=\"_blank\" href=https://colab.research.google.com/notebooks/data_table.ipynb>data table notebook</a>'\n",
              "            + ' to learn more about interactive tables.';\n",
              "          element.innerHTML = '';\n",
              "          dataTable['output_type'] = 'display_data';\n",
              "          await google.colab.output.renderOutput(dataTable, element);\n",
              "          const docLink = document.createElement('div');\n",
              "          docLink.innerHTML = docLinkHtml;\n",
              "          element.appendChild(docLink);\n",
              "        }\n",
              "      </script>\n",
              "    </div>\n",
              "  </div>\n",
              "  "
            ]
          },
          "metadata": {},
          "execution_count": 9
        }
      ]
    },
    {
      "cell_type": "markdown",
      "metadata": {
        "id": "M3O6DOWXOWkn",
        "pycharm": {
          "name": "#%% md\n"
        }
      },
      "source": [
        "Now, let's split the dataset into train and test datasets. To do that, we would be extracting all the **independent variables** and saving them into a variable **features**. And the target variable **stroke** would be saved into a variable **target**."
      ]
    },
    {
      "cell_type": "code",
      "execution_count": 10,
      "metadata": {
        "id": "7MQ2juQB8IuT",
        "pycharm": {
          "name": "#%%\n"
        }
      },
      "outputs": [],
      "source": [
        "features = one_hot_data.drop(['stroke'], axis = 1)\n",
        "\n",
        "target = one_hot_data['stroke']"
      ]
    },
    {
      "cell_type": "markdown",
      "metadata": {
        "id": "NuYQ0t2WcBLG",
        "pycharm": {
          "name": "#%% md\n"
        }
      },
      "source": [
        "The size of the dataset is small and the Keras implementation provides an argument for selecting some percentage of training data as validation data to check the accuracy of the model. Therefore, we will split the data into an 80:20 ratio."
      ]
    },
    {
      "cell_type": "code",
      "execution_count": 11,
      "metadata": {
        "id": "I8fE8aF_7hJY",
        "pycharm": {
          "name": "#%%\n"
        }
      },
      "outputs": [],
      "source": [
        "# Splitting the dataset into the train and the test data\n",
        "X_train, X_test, y_train, y_test =  train_test_split(features, target, test_size = 0.2, random_state = 42)\n"
      ]
    },
    {
      "cell_type": "markdown",
      "metadata": {
        "id": "U883DzGZOwpp",
        "pycharm": {
          "name": "#%% md\n"
        }
      },
      "source": [
        "Now, we will perform scaling on the numerical variables. We will perform **fit** and **transform** on the train data and then we will only perform **transform** on the test data. "
      ]
    },
    {
      "cell_type": "code",
      "execution_count": 12,
      "metadata": {
        "id": "mVdTFnkb8dfQ",
        "pycharm": {
          "name": "#%%\n"
        },
        "colab": {
          "base_uri": "https://localhost:8080/"
        },
        "outputId": "3f0085ba-8c8d-4b29-a97a-3ba9106aaafc"
      },
      "outputs": [
        {
          "output_type": "execute_result",
          "data": {
            "text/plain": [
              "(12243, 21)"
            ]
          },
          "metadata": {},
          "execution_count": 12
        }
      ],
      "source": [
        "scaler = MinMaxScaler()\n",
        "\n",
        "# Here, we are passing all the features (numerical and categorical), that's okay as min-max scaler will not change values of categorical variables\n",
        "X_train_normalized = scaler.fit_transform(X_train)\n",
        "y_train.shape\n",
        "X_train_normalized.shape"
      ]
    },
    {
      "cell_type": "code",
      "execution_count": 13,
      "metadata": {
        "id": "2VLYxAVu953T",
        "pycharm": {
          "name": "#%%\n"
        }
      },
      "outputs": [],
      "source": [
        "X_test = scaler.transform(X_test)"
      ]
    },
    {
      "cell_type": "markdown",
      "metadata": {
        "id": "X7VT_t5f9bwR",
        "pycharm": {
          "name": "#%% md\n"
        }
      },
      "source": [
        "## **Model Building**"
      ]
    },
    {
      "cell_type": "markdown",
      "metadata": {
        "id": "hbltijMlPVVP",
        "pycharm": {
          "name": "#%% md\n"
        }
      },
      "source": [
        "In neural networks, there are so many hyper-parameters that you can play around with and tune the network to get the best results. Some of them are: \n",
        "\n",
        "\n",
        "1.   Number of hidden layers\n",
        "2.   Number of neurons in each hidden layer\n",
        "3.   Activation functions in hidden layers\n",
        "4.   Optimizers\n",
        "5.   Random initialization of weights and biases\n",
        "6.   Batch size\n",
        "7.   Learning rate\n",
        "8.   Early stopping\n",
        "9.   L1 and L2 Regularization\n",
        "10.  Dropout\n",
        "11.  Momentum\n",
        "\n",
        "and so on..."
      ]
    },
    {
      "cell_type": "markdown",
      "metadata": {
        "id": "9YFaopNE_lpw",
        "pycharm": {
          "name": "#%% md\n"
        }
      },
      "source": [
        "First, let's set the seed for random number generators in NumPy, Python, and TensorFlow to be able to reproduce the same results every time we run the code."
      ]
    },
    {
      "cell_type": "code",
      "execution_count": 14,
      "metadata": {
        "id": "VTVs7lmH_hXx",
        "pycharm": {
          "name": "#%%\n"
        }
      },
      "outputs": [],
      "source": [
        "# Fixing the seed for random number generators\n",
        "np.random.seed(42)\n",
        "\n",
        "import random\n",
        "\n",
        "random.seed(2)\n",
        "\n",
        "tf.random.set_seed(2)"
      ]
    },
    {
      "cell_type": "code",
      "source": [
        "# #Resample: \n",
        "# import imblearn\n",
        "# from imblearn.over_sampling import SMOTE\n",
        "\n",
        "# # Create the SMOTE object\n",
        "# smote = SMOTE()\n",
        "\n",
        "# # Apply SMOTE to the training data\n",
        "# X_train_resampled, y_train_resampled = smote.fit_resample(X_train, y_train)\n",
        "# X_train_resampled = X_train_resampled.astype(float)\n",
        "# y_train_resampled = y_train_resampled.astype(float)"
      ],
      "metadata": {
        "id": "VJ31zWbaOCgm"
      },
      "execution_count": 13,
      "outputs": []
    },
    {
      "cell_type": "markdown",
      "metadata": {
        "id": "tLsxcmgPQ_cG",
        "pycharm": {
          "name": "#%% md\n"
        }
      },
      "source": [
        "Let's build a feed-forward neural network with 1 input layer, 2 hidden layers and an output layer. We are starting with one hidden layer and I'll increase the number if necessary. This is because adding more layers can lead to overfitting. \n",
        "\n",
        "Due to the one-hot-encoding, the sparsity of the data is high: ReLU can lead to sparse representations because it sets all negative values to zero. This can cause problems if the data is sparse, as the model will not be able to learn the underlying patterns in the data. In this case, using an activation function that does not cause sparse representations such as Leaky ReLU or Exponential Linear Unit (ELU) may be more appropriate. \n",
        "\n",
        "There are several ways to deal with high-sparsity data when training a neural network:\n",
        "\n",
        "Using an activation function that does not cause sparse representations such as Leaky ReLU or Exponential Linear Unit (ELU) can help to alleviate the problem. They can be useful alternatives to the traditional Rectified Linear Unit (ReLU) activation function, which can cause sparse representations due to the fact that it sets all negative values to zero. \n",
        "\n",
        "Both Leaky ReLU and ELU can help to alleviate this problem by allowing some information to flow through the negative part of the input. ELU is defined as f(x) = max(α(exp(x) - 1), x), where α is a positive parameter (usually set to 1). It allows a non-zero gradient for negative input values, and it also has the advantage of being self-normalizing. This means that it tends to produce outputs with zero mean and unit variance, which can help to improve the stability of the training process. \n",
        "\n",
        "Although ELU is slightly more computationally expensive than Leaky ReLU. Both Leaky ReLU and ELU can be useful alternatives when dealing with high-sparsity data like this one-hot-encoded data, but ELU has the advantage of being self-normalizing, which can help to improve the stability of the training process so we will be going with ELU.\n",
        "\n",
        "Using weight decay or L1 regularization in the loss function can also help to reduce the number of zero or small weights and encourage the model to assign non-zero weights to more input features. I'll come back to this\n",
        "\n",
        "Using dropout can help to randomly drop out some units during training, which can help to prevent overfitting and encourage the model to assign non-zero weights to more input features. I'll also come back to this\n",
        "\n"
      ]
    },
    {
      "cell_type": "code",
      "execution_count": 15,
      "metadata": {
        "id": "ytCsjy93BKbK",
        "pycharm": {
          "name": "#%%\n"
        }
      },
      "outputs": [],
      "source": [
        "from tensorflow.keras.layers import Dense\n",
        "# We will be adding the layers sequentially\n",
        "model_1 = Sequential()\n",
        "\n",
        "# Input layer with 32 neurons and elu activation function, the input_shape tuple denotes number of independent variables\n",
        "model_1.add(Dense(32, activation = 'elu', input_shape = (21, )))\n",
        "\n",
        "# Hidden layer with 32 neurons and elu activation function\n",
        "model_1.add(Dense(32, activation = 'elu'))\n",
        "\n",
        "# Hidden layer with 32 neurons and elu activation function\n",
        "model_1.add(Dense(32, activation = 'elu'))\n",
        "\n",
        "# Output layer with only one neuron and sigmoid as activation function which will give the probability of a patient having a stroke  \n",
        "model_1.add(Dense(1, activation = 'sigmoid'))"
      ]
    },
    {
      "cell_type": "markdown",
      "metadata": {
        "id": "FvBhQn8ZR_HW",
        "pycharm": {
          "name": "#%% md\n"
        }
      },
      "source": [
        "Now that we are done with the model architecture, we need to compile the model, where we need to provide the loss function that we want to optimize, the optimization algorithm, and the evaluation metric that we are interested in to evaluate the model."
      ]
    },
    {
      "cell_type": "markdown",
      "metadata": {
        "id": "GAP99treSW_4",
        "pycharm": {
          "name": "#%% md\n"
        }
      },
      "source": [
        "For binary classification on sparse, imbalanced data with a lot of outliers, it's important to choose a loss function that can handle the class imbalance, sparsity of data and also can handle the outliers. We will use BinaryFocalCrossentropy loss: a variant of the Binary Cross-Entropy loss that incorporates the focal loss concept. It is a combination of binary cross-entropy loss and focal loss which is designed for imbalanced datasets. It modifies the standard cross-entropy loss by down-weighting easy examples and up-weighting hard examples, which makes it less sensitive to outliers and more robust to imbalanced data.\n",
        "\n",
        "For binary classification on sparse, imbalanced data with a lot of outliers, it's important to choose an optimizer that can handle the class imbalance and also can handle the sparsity of data and outliers. Some commonly used optimizers for this type of data are:\n",
        "- AdamW: AdamW is a variant of Adam optimizer that adds weight decay, which improves the generalization performance of the model. It's robust to outliers, and it can handle sparse and imbalanced data.\n",
        "- RAdam: RAdam is another variant of Adam optimizer which uses a rectified version of the update rule, this helps to reduce the variance of the update and improve generalization performance. It's also robust to outliers, and can also handle sparse and imbalanced data.\n",
        "\n",
        "For now, let's try the **RAdam** optimizer."
      ]
    },
    {
      "cell_type": "code",
      "source": [
        "!pip install tf-nightly"
      ],
      "metadata": {
        "id": "WmxJ_avRXxLp"
      },
      "execution_count": null,
      "outputs": []
    },
    {
      "cell_type": "code",
      "source": [
        "!pip install tensorflow-addons"
      ],
      "metadata": {
        "id": "DOxYuyqXabS8"
      },
      "execution_count": null,
      "outputs": []
    },
    {
      "cell_type": "code",
      "execution_count": 18,
      "metadata": {
        "colab": {
          "base_uri": "https://localhost:8080/"
        },
        "id": "2REFSaSx9RBi",
        "outputId": "f394e75a-bdc0-4a49-e7bf-18e28b085970",
        "pycharm": {
          "name": "#%%\n"
        }
      },
      "outputs": [
        {
          "output_type": "stream",
          "name": "stdout",
          "text": [
            "Model: \"sequential\"\n",
            "_________________________________________________________________\n",
            " Layer (type)                Output Shape              Param #   \n",
            "=================================================================\n",
            " dense (Dense)               (None, 32)                704       \n",
            "                                                                 \n",
            " dense_1 (Dense)             (None, 32)                1056      \n",
            "                                                                 \n",
            " dense_2 (Dense)             (None, 32)                1056      \n",
            "                                                                 \n",
            " dense_3 (Dense)             (None, 1)                 33        \n",
            "                                                                 \n",
            "=================================================================\n",
            "Total params: 2,849\n",
            "Trainable params: 2,849\n",
            "Non-trainable params: 0\n",
            "_________________________________________________________________\n"
          ]
        },
        {
          "output_type": "stream",
          "name": "stderr",
          "text": [
            "/usr/local/lib/python3.8/dist-packages/tensorflow_addons/optimizers/rectified_adam.py:121: UserWarning: The `lr` argument is deprecated, use `learning_rate` instead.\n",
            "  super().__init__(name, **kwargs)\n"
          ]
        }
      ],
      "source": [
        "import tensorflow_addons as tfa \n",
        "from tensorflow_addons.optimizers import RectifiedAdam\n",
        "\n",
        "optimizer = tfa.optimizers.RectifiedAdam(lr=1e-3)\n",
        "model_1.compile(loss = tf.keras.losses.BinaryFocalCrossentropy(), \n",
        "                optimizer = optimizer, \n",
        "                metrics = ['AUC'])\n",
        "\n",
        "model_1.summary()"
      ]
    },
    {
      "cell_type": "markdown",
      "metadata": {
        "id": "C7W9EYZnTP1P",
        "pycharm": {
          "name": "#%% md\n"
        }
      },
      "source": [
        "From the above summary, we can see that this architecture will train a total of **3,521** parameters, i.e., weights and biases in the network."
      ]
    },
    {
      "cell_type": "markdown",
      "metadata": {
        "id": "4N6XAn6mA_BD",
        "pycharm": {
          "name": "#%% md\n"
        }
      },
      "source": [
        "### **Training the model**"
      ]
    },
    {
      "cell_type": "markdown",
      "metadata": {
        "id": "hmZ5ZSIlUSVH",
        "pycharm": {
          "name": "#%% md\n"
        }
      },
      "source": [
        "Let's now train the model using the below piece of code. We will keep 10% of the training data for validation."
      ]
    },
    {
      "cell_type": "code",
      "source": [
        "from tensorflow.keras import backend\n",
        "backend.clear_session()"
      ],
      "metadata": {
        "id": "_ioQEuKzKNDC"
      },
      "execution_count": 71,
      "outputs": []
    },
    {
      "cell_type": "code",
      "execution_count": 20,
      "metadata": {
        "colab": {
          "base_uri": "https://localhost:8080/"
        },
        "id": "hkeCQ_K99nob",
        "outputId": "1d0af1fc-609f-4d00-db08-e487df5f6e90",
        "pycharm": {
          "name": "#%%\n"
        }
      },
      "outputs": [
        {
          "output_type": "stream",
          "name": "stdout",
          "text": [
            "Epoch 1/100\n",
            "173/173 - 5s - loss: 0.2823 - auc: 0.6693 - val_loss: 0.1307 - val_auc: 0.8248 - 5s/epoch - 32ms/step\n",
            "Epoch 2/100\n",
            "173/173 - 1s - loss: 0.2471 - auc: 0.7801 - val_loss: 0.1084 - val_auc: 0.8536 - 820ms/epoch - 5ms/step\n",
            "Epoch 3/100\n",
            "173/173 - 1s - loss: 0.2289 - auc: 0.8292 - val_loss: 0.1095 - val_auc: 0.8874 - 753ms/epoch - 4ms/step\n",
            "Epoch 4/100\n",
            "173/173 - 1s - loss: 0.2159 - auc: 0.8497 - val_loss: 0.0935 - val_auc: 0.8736 - 777ms/epoch - 4ms/step\n",
            "Epoch 5/100\n",
            "173/173 - 1s - loss: 0.2077 - auc: 0.8635 - val_loss: 0.0967 - val_auc: 0.8895 - 774ms/epoch - 4ms/step\n",
            "Epoch 6/100\n",
            "173/173 - 1s - loss: 0.2034 - auc: 0.8693 - val_loss: 0.1034 - val_auc: 0.8906 - 777ms/epoch - 4ms/step\n",
            "Epoch 7/100\n",
            "173/173 - 1s - loss: 0.2006 - auc: 0.8727 - val_loss: 0.0808 - val_auc: 0.8945 - 789ms/epoch - 5ms/step\n",
            "Epoch 8/100\n",
            "173/173 - 1s - loss: 0.2017 - auc: 0.8703 - val_loss: 0.0953 - val_auc: 0.8942 - 756ms/epoch - 4ms/step\n",
            "Epoch 9/100\n",
            "173/173 - 1s - loss: 0.1982 - auc: 0.8757 - val_loss: 0.0910 - val_auc: 0.8998 - 752ms/epoch - 4ms/step\n",
            "Epoch 10/100\n",
            "173/173 - 1s - loss: 0.1971 - auc: 0.8759 - val_loss: 0.1005 - val_auc: 0.8972 - 785ms/epoch - 5ms/step\n",
            "Epoch 11/100\n",
            "173/173 - 1s - loss: 0.1991 - auc: 0.8734 - val_loss: 0.0868 - val_auc: 0.8893 - 758ms/epoch - 4ms/step\n",
            "Epoch 12/100\n",
            "173/173 - 1s - loss: 0.1980 - auc: 0.8742 - val_loss: 0.0765 - val_auc: 0.9022 - 803ms/epoch - 5ms/step\n",
            "Epoch 13/100\n",
            "173/173 - 1s - loss: 0.1955 - auc: 0.8788 - val_loss: 0.1073 - val_auc: 0.8998 - 776ms/epoch - 4ms/step\n",
            "Epoch 14/100\n",
            "173/173 - 1s - loss: 0.1969 - auc: 0.8760 - val_loss: 0.1054 - val_auc: 0.8987 - 778ms/epoch - 4ms/step\n",
            "Epoch 15/100\n",
            "173/173 - 1s - loss: 0.1940 - auc: 0.8804 - val_loss: 0.0938 - val_auc: 0.8926 - 760ms/epoch - 4ms/step\n",
            "Epoch 16/100\n",
            "173/173 - 1s - loss: 0.1931 - auc: 0.8815 - val_loss: 0.0971 - val_auc: 0.8962 - 773ms/epoch - 4ms/step\n",
            "Epoch 17/100\n",
            "173/173 - 1s - loss: 0.1944 - auc: 0.8790 - val_loss: 0.1362 - val_auc: 0.9014 - 773ms/epoch - 4ms/step\n",
            "Epoch 18/100\n",
            "173/173 - 1s - loss: 0.1938 - auc: 0.8797 - val_loss: 0.1147 - val_auc: 0.8931 - 791ms/epoch - 5ms/step\n",
            "Epoch 19/100\n",
            "173/173 - 1s - loss: 0.1929 - auc: 0.8807 - val_loss: 0.0940 - val_auc: 0.8903 - 775ms/epoch - 4ms/step\n",
            "Epoch 20/100\n",
            "173/173 - 1s - loss: 0.1936 - auc: 0.8799 - val_loss: 0.0884 - val_auc: 0.8957 - 763ms/epoch - 4ms/step\n",
            "Epoch 21/100\n",
            "173/173 - 1s - loss: 0.1937 - auc: 0.8805 - val_loss: 0.0844 - val_auc: 0.8982 - 773ms/epoch - 4ms/step\n",
            "Epoch 22/100\n",
            "173/173 - 1s - loss: 0.1932 - auc: 0.8810 - val_loss: 0.1189 - val_auc: 0.8958 - 767ms/epoch - 4ms/step\n",
            "Epoch 23/100\n",
            "173/173 - 1s - loss: 0.1915 - auc: 0.8827 - val_loss: 0.0831 - val_auc: 0.8924 - 765ms/epoch - 4ms/step\n",
            "Epoch 24/100\n",
            "173/173 - 1s - loss: 0.1914 - auc: 0.8826 - val_loss: 0.0865 - val_auc: 0.8914 - 770ms/epoch - 4ms/step\n",
            "Epoch 25/100\n",
            "173/173 - 1s - loss: 0.1917 - auc: 0.8819 - val_loss: 0.0834 - val_auc: 0.9039 - 759ms/epoch - 4ms/step\n",
            "Epoch 26/100\n",
            "173/173 - 1s - loss: 0.1888 - auc: 0.8848 - val_loss: 0.0870 - val_auc: 0.9058 - 784ms/epoch - 5ms/step\n",
            "Epoch 27/100\n",
            "173/173 - 1s - loss: 0.1923 - auc: 0.8801 - val_loss: 0.0629 - val_auc: 0.8958 - 764ms/epoch - 4ms/step\n",
            "Epoch 28/100\n",
            "173/173 - 1s - loss: 0.1950 - auc: 0.8781 - val_loss: 0.0970 - val_auc: 0.9008 - 769ms/epoch - 4ms/step\n",
            "Epoch 29/100\n",
            "173/173 - 1s - loss: 0.1917 - auc: 0.8825 - val_loss: 0.1423 - val_auc: 0.9027 - 775ms/epoch - 4ms/step\n",
            "Epoch 30/100\n",
            "173/173 - 1s - loss: 0.1912 - auc: 0.8812 - val_loss: 0.1091 - val_auc: 0.8946 - 743ms/epoch - 4ms/step\n",
            "Epoch 31/100\n",
            "173/173 - 1s - loss: 0.1905 - auc: 0.8838 - val_loss: 0.1149 - val_auc: 0.9001 - 745ms/epoch - 4ms/step\n",
            "Epoch 32/100\n",
            "173/173 - 1s - loss: 0.1901 - auc: 0.8840 - val_loss: 0.0856 - val_auc: 0.8910 - 757ms/epoch - 4ms/step\n",
            "Epoch 33/100\n",
            "173/173 - 1s - loss: 0.1912 - auc: 0.8812 - val_loss: 0.0971 - val_auc: 0.8929 - 768ms/epoch - 4ms/step\n",
            "Epoch 34/100\n",
            "173/173 - 1s - loss: 0.1896 - auc: 0.8846 - val_loss: 0.0956 - val_auc: 0.9022 - 767ms/epoch - 4ms/step\n",
            "Epoch 35/100\n",
            "173/173 - 1s - loss: 0.1890 - auc: 0.8854 - val_loss: 0.1014 - val_auc: 0.8860 - 758ms/epoch - 4ms/step\n",
            "Epoch 36/100\n",
            "173/173 - 1s - loss: 0.1906 - auc: 0.8830 - val_loss: 0.1044 - val_auc: 0.9014 - 821ms/epoch - 5ms/step\n",
            "Epoch 37/100\n",
            "173/173 - 1s - loss: 0.1886 - auc: 0.8856 - val_loss: 0.1071 - val_auc: 0.9016 - 849ms/epoch - 5ms/step\n",
            "Epoch 38/100\n",
            "173/173 - 1s - loss: 0.1907 - auc: 0.8812 - val_loss: 0.1023 - val_auc: 0.9020 - 770ms/epoch - 4ms/step\n",
            "Epoch 39/100\n",
            "173/173 - 1s - loss: 0.1922 - auc: 0.8792 - val_loss: 0.0837 - val_auc: 0.9045 - 755ms/epoch - 4ms/step\n",
            "Epoch 40/100\n",
            "173/173 - 1s - loss: 0.1899 - auc: 0.8826 - val_loss: 0.1089 - val_auc: 0.8930 - 791ms/epoch - 5ms/step\n",
            "Epoch 41/100\n",
            "173/173 - 1s - loss: 0.1889 - auc: 0.8849 - val_loss: 0.0974 - val_auc: 0.9028 - 769ms/epoch - 4ms/step\n",
            "Epoch 42/100\n",
            "173/173 - 1s - loss: 0.1885 - auc: 0.8853 - val_loss: 0.0860 - val_auc: 0.9011 - 799ms/epoch - 5ms/step\n",
            "Epoch 43/100\n",
            "173/173 - 1s - loss: 0.1884 - auc: 0.8857 - val_loss: 0.1027 - val_auc: 0.9024 - 770ms/epoch - 4ms/step\n",
            "Epoch 44/100\n",
            "173/173 - 1s - loss: 0.1874 - auc: 0.8864 - val_loss: 0.0962 - val_auc: 0.9039 - 786ms/epoch - 5ms/step\n",
            "Epoch 45/100\n",
            "173/173 - 1s - loss: 0.1878 - auc: 0.8847 - val_loss: 0.0908 - val_auc: 0.8985 - 776ms/epoch - 4ms/step\n",
            "Epoch 46/100\n",
            "173/173 - 1s - loss: 0.1878 - auc: 0.8861 - val_loss: 0.1171 - val_auc: 0.9011 - 796ms/epoch - 5ms/step\n",
            "Epoch 47/100\n",
            "173/173 - 1s - loss: 0.1896 - auc: 0.8836 - val_loss: 0.1017 - val_auc: 0.9019 - 765ms/epoch - 4ms/step\n",
            "Epoch 48/100\n",
            "173/173 - 1s - loss: 0.1858 - auc: 0.8893 - val_loss: 0.1005 - val_auc: 0.9010 - 782ms/epoch - 5ms/step\n",
            "Epoch 49/100\n",
            "173/173 - 1s - loss: 0.1868 - auc: 0.8863 - val_loss: 0.0884 - val_auc: 0.8975 - 789ms/epoch - 5ms/step\n",
            "Epoch 50/100\n",
            "173/173 - 1s - loss: 0.1873 - auc: 0.8866 - val_loss: 0.0923 - val_auc: 0.8972 - 880ms/epoch - 5ms/step\n",
            "Epoch 51/100\n",
            "173/173 - 1s - loss: 0.1869 - auc: 0.8867 - val_loss: 0.0797 - val_auc: 0.9016 - 1s/epoch - 6ms/step\n",
            "Epoch 52/100\n",
            "173/173 - 1s - loss: 0.1873 - auc: 0.8864 - val_loss: 0.1003 - val_auc: 0.9029 - 1s/epoch - 7ms/step\n",
            "Epoch 53/100\n",
            "173/173 - 1s - loss: 0.1852 - auc: 0.8894 - val_loss: 0.0901 - val_auc: 0.8892 - 1s/epoch - 7ms/step\n",
            "Epoch 54/100\n",
            "173/173 - 1s - loss: 0.1864 - auc: 0.8888 - val_loss: 0.1011 - val_auc: 0.8904 - 786ms/epoch - 5ms/step\n",
            "Epoch 55/100\n",
            "173/173 - 1s - loss: 0.1854 - auc: 0.8884 - val_loss: 0.1070 - val_auc: 0.8898 - 782ms/epoch - 5ms/step\n",
            "Epoch 56/100\n",
            "173/173 - 1s - loss: 0.1844 - auc: 0.8904 - val_loss: 0.0864 - val_auc: 0.8962 - 783ms/epoch - 5ms/step\n"
          ]
        }
      ],
      "source": [
        "# X_train_normalized = X_train_normalized.astype(float) \n",
        "\n",
        "# y_train = y_train.astype(float)\n",
        "\n",
        "\n",
        "\n",
        "from sklearn.utils.class_weight import compute_sample_weight\n",
        "\n",
        "# tf.config.run_functions_eagerly(True)\n",
        "\n",
        "class_weights = {0: 1.,\n",
        "                1: 19.}\n",
        "\n",
        "#sample_weights = compute_sample_weight(class_weight='balanced', y=y_train)\n",
        "\n",
        "early_stopping = tf.keras.callbacks.EarlyStopping(\n",
        "        monitor=\"val_auc\", \n",
        "        mode='max',\n",
        "        patience=30,\n",
        "        min_delta=0.00001,\n",
        "        restore_best_weights=True,\n",
        ")\n",
        "\n",
        "history_1 = model_1.fit(X_train_normalized, y_train, \n",
        "                        \n",
        "                    class_weight=class_weights,\n",
        "\n",
        "                    batch_size = 64,\n",
        "\n",
        "                    validation_split = 0.1, \n",
        "\n",
        "                    epochs = 100, \n",
        "\n",
        "                    verbose = 2,\n",
        "\n",
        "                    callbacks=[early_stopping],\n",
        "                    \n",
        "                    use_multiprocessing = True)"
      ]
    },
    {
      "cell_type": "code",
      "source": [
        "import os\n",
        "os.environ['TF_CPP_MIN_LOG_LEVEL'] = '2'"
      ],
      "metadata": {
        "id": "VRUH_vzn7Fjj"
      },
      "execution_count": null,
      "outputs": []
    },
    {
      "cell_type": "markdown",
      "metadata": {
        "id": "EFMmpLAuBC4n",
        "pycharm": {
          "name": "#%% md\n"
        }
      },
      "source": [
        "### **Plotting Accuracy vs Epoch Curve**"
      ]
    },
    {
      "cell_type": "code",
      "execution_count": 21,
      "metadata": {
        "colab": {
          "base_uri": "https://localhost:8080/",
          "height": 294
        },
        "id": "oe8CUImT-8xf",
        "outputId": "34d37c8e-8802-4d78-bc80-2f91c4941d78",
        "pycharm": {
          "name": "#%%\n"
        }
      },
      "outputs": [
        {
          "output_type": "display_data",
          "data": {
            "text/plain": [
              "<Figure size 432x288 with 1 Axes>"
            ],
            "image/png": "[encoded data removed]"
          },
          "metadata": {
            "needs_background": "light"
          }
        }
      ],
      "source": [
        "plt.plot(history_1.history['auc'])\n",
        "\n",
        "plt.plot(history_1.history['val_auc'])\n",
        "\n",
        "plt.title('Accuracy vs Epochs')\n",
        "\n",
        "plt.ylabel('Accuracy')\n",
        "\n",
        "plt.xlabel('Epoch')\n",
        "\n",
        "plt.legend(['Train', 'Validation'], loc = 'lower right')\n",
        "\n",
        "plt.show()"
      ]
    },
    {
      "cell_type": "code",
      "source": [
        "test_pred = model_1.predict(X_test)\n",
        "\n",
        "test_pred = (np.rint(test_pred)).astype(int)"
      ],
      "metadata": {
        "colab": {
          "base_uri": "https://localhost:8080/"
        },
        "id": "-fJxz4p5F2Kq",
        "outputId": "c863e870-b089-48c7-b05b-051e49c8f5e9"
      },
      "execution_count": 22,
      "outputs": [
        {
          "output_type": "stream",
          "name": "stdout",
          "text": [
            "96/96 [==============================] - 0s 1ms/step\n"
          ]
        }
      ]
    },
    {
      "cell_type": "code",
      "source": [
        "test_pred"
      ],
      "metadata": {
        "colab": {
          "base_uri": "https://localhost:8080/"
        },
        "id": "FpoPapSyg6q6",
        "outputId": "37448833-3782-4a61-ea4d-9fe43219b3ee"
      },
      "execution_count": 76,
      "outputs": [
        {
          "output_type": "execute_result",
          "data": {
            "text/plain": [
              "array([[0],\n",
              "       [0],\n",
              "       [0],\n",
              "       ...,\n",
              "       [0],\n",
              "       [0],\n",
              "       [0]])"
            ]
          },
          "metadata": {},
          "execution_count": 76
        }
      ]
    },
    {
      "cell_type": "code",
      "source": [
        "# Importing required functions\n",
        "\n",
        "from sklearn.metrics import classification_report\n",
        "\n",
        "from sklearn.metrics import confusion_matrix\n",
        "\n",
        "# Printing the classification report\n",
        "\n",
        "print(classification_report(y_test, test_pred))\n",
        "\n",
        "# Plotting the heatmap using confusion matrix\n",
        "\n",
        "cm = confusion_matrix(y_test, test_pred)    #Write the code for creating confusion matrix using actual labels (y_test) and predicted labels (test_pred)\n",
        "\n",
        "plt.figure(figsize = (8, 5))\n",
        "\n",
        "sns.heatmap(cm, annot = True,  fmt = '.0f')\n",
        "\n",
        "plt.ylabel('Actual')\n",
        "\n",
        "plt.xlabel('Predicted')\n",
        "\n",
        "plt.show()"
      ],
      "metadata": {
        "colab": {
          "base_uri": "https://localhost:8080/",
          "height": 481
        },
        "id": "f8hNOzn0fbLQ",
        "outputId": "df38260c-f4c0-4069-e554-dc4a87fdd7ae"
      },
      "execution_count": 23,
      "outputs": [
        {
          "output_type": "stream",
          "name": "stdout",
          "text": [
            "              precision    recall  f1-score   support\n",
            "\n",
            "           0       0.99      0.81      0.89      2931\n",
            "           1       0.15      0.76      0.25       130\n",
            "\n",
            "    accuracy                           0.81      3061\n",
            "   macro avg       0.57      0.78      0.57      3061\n",
            "weighted avg       0.95      0.81      0.86      3061\n",
            "\n"
          ]
        },
        {
          "output_type": "display_data",
          "data": {
            "text/plain": [
              "<Figure size 576x360 with 2 Axes>"
            ],
            "image/png": "[encoded data removed]"
          },
          "metadata": {
            "needs_background": "light"
          }
        }
      ]
    },
    {
      "cell_type": "code",
      "source": [
        "from sklearn.metrics import roc_auc_score\n",
        "roc_auc_score(y_test, test_pred)"
      ],
      "metadata": {
        "colab": {
          "base_uri": "https://localhost:8080/"
        },
        "id": "8-eZqMm2h23j",
        "outputId": "12159750-c0dd-43e1-b5e2-fc59481a839b"
      },
      "execution_count": 24,
      "outputs": [
        {
          "output_type": "execute_result",
          "data": {
            "text/plain": [
              "0.7848975146313938"
            ]
          },
          "metadata": {},
          "execution_count": 24
        }
      ]
    },
    {
      "cell_type": "code",
      "source": [],
      "metadata": {
        "id": "3U9SnFATfYBJ"
      },
      "execution_count": null,
      "outputs": []
    },
    {
      "cell_type": "markdown",
      "metadata": {
        "id": "K8cyNSpIjURF",
        "pycharm": {
          "name": "#%% md\n"
        }
      },
      "source": [
        "**Observations:**\n",
        "\n",
        "- The ROC score is 0.78. Lets see if we can get that up."
      ]
    },
    {
      "cell_type": "markdown",
      "metadata": {
        "id": "TcLYYkZo6PaW",
        "pycharm": {
          "name": "#%% md\n"
        }
      },
      "source": [
        "First, we need to clear the previous model's history from the session. In Keras, we need special command to clear the model's history otherwise the previous model history remains in the backend.\n",
        "Also, let's fix the seed again after clearing the backend."
      ]
    },
    {
      "cell_type": "code",
      "execution_count": 25,
      "metadata": {
        "id": "_GQu0Mv56_IH",
        "pycharm": {
          "name": "#%%\n"
        }
      },
      "outputs": [],
      "source": [
        "# Clearing the backend\n",
        "from tensorflow.keras import backend\n",
        "\n",
        "backend.clear_session()"
      ]
    },
    {
      "cell_type": "code",
      "execution_count": 26,
      "metadata": {
        "id": "7PIxvVI0LqbV",
        "pycharm": {
          "name": "#%%\n"
        }
      },
      "outputs": [],
      "source": [
        "# Fixing the seed for random number generators\n",
        "np.random.seed(10)\n",
        "\n",
        "import random\n",
        "\n",
        "random.seed(25)\n",
        "\n",
        "tf.random.set_seed(105)"
      ]
    },
    {
      "cell_type": "code",
      "source": [
        "del model_2"
      ],
      "metadata": {
        "id": "0p6PjLS5kZw4"
      },
      "execution_count": 96,
      "outputs": []
    },
    {
      "cell_type": "code",
      "execution_count": 28,
      "metadata": {
        "id": "S23oRyS2XJZW",
        "pycharm": {
          "name": "#%%\n"
        }
      },
      "outputs": [],
      "source": [
        "# We will be adding the layers sequentially\n",
        "model_2 = Sequential()\n",
        "\n",
        "# Input layer with 64 neurons and elu activation function, the input_shape tuple denotes number of independent variables\n",
        "model_2.add(Dense(64, activation = 'elu', input_shape = (21, )))\n",
        "\n",
        "model_2.add(Dropout(0.1))\n",
        "\n",
        "# Hidden layer with 32 neurons and elu activation function\n",
        "model_2.add(Dense(32, activation = 'elu'))\n",
        "model_2.add(Dropout(0.1))\n",
        "\n",
        "# Hidden layer with 32 neurons and elu activation function\n",
        "model_2.add(Dense(32, activation = 'elu'))\n",
        "model_2.add(Dropout(0.1))\n",
        "\n",
        "# Output layer with only one neuron and sigmoid as activation function which will give the probability of a patient having a stroke  \n",
        "model_2.add(Dense(1, activation = 'sigmoid'))"
      ]
    },
    {
      "cell_type": "code",
      "execution_count": 29,
      "metadata": {
        "colab": {
          "base_uri": "https://localhost:8080/"
        },
        "id": "DT1QFebrV9ZC",
        "outputId": "1c73b0fc-39fb-4b96-ff74-b917251c3e71",
        "pycharm": {
          "name": "#%%\n"
        }
      },
      "outputs": [
        {
          "output_type": "stream",
          "name": "stdout",
          "text": [
            "Model: \"sequential_1\"\n",
            "_________________________________________________________________\n",
            " Layer (type)                Output Shape              Param #   \n",
            "=================================================================\n",
            " dense_2 (Dense)             (None, 64)                1408      \n",
            "                                                                 \n",
            " dropout_1 (Dropout)         (None, 64)                0         \n",
            "                                                                 \n",
            " dense_3 (Dense)             (None, 32)                2080      \n",
            "                                                                 \n",
            " dropout_2 (Dropout)         (None, 32)                0         \n",
            "                                                                 \n",
            " dense_4 (Dense)             (None, 32)                1056      \n",
            "                                                                 \n",
            " dropout_3 (Dropout)         (None, 32)                0         \n",
            "                                                                 \n",
            " dense_5 (Dense)             (None, 1)                 33        \n",
            "                                                                 \n",
            "=================================================================\n",
            "Total params: 4,577\n",
            "Trainable params: 4,577\n",
            "Non-trainable params: 0\n",
            "_________________________________________________________________\n"
          ]
        }
      ],
      "source": [
        "model_2.compile(loss = tf.keras.losses.BinaryFocalCrossentropy(), \n",
        "                optimizer = optimizer, \n",
        "                metrics = ['AUC'])\n",
        "\n",
        "model_2.summary()"
      ]
    },
    {
      "cell_type": "code",
      "execution_count": 30,
      "metadata": {
        "colab": {
          "base_uri": "https://localhost:8080/"
        },
        "id": "d0mHas6KV9f9",
        "outputId": "13e53197-3ff2-4ac7-d1fd-a1e2ec18537f",
        "pycharm": {
          "name": "#%%\n"
        }
      },
      "outputs": [
        {
          "output_type": "stream",
          "name": "stdout",
          "text": [
            "Epoch 1/100\n",
            "173/173 - 2s - loss: 0.2632 - auc: 0.7668 - val_loss: 0.0852 - val_auc: 0.8922 - lr: 0.0010 - 2s/epoch - 14ms/step\n",
            "Epoch 2/100\n",
            "173/173 - 1s - loss: 0.2119 - auc: 0.8529 - val_loss: 0.1004 - val_auc: 0.9019 - lr: 0.0010 - 842ms/epoch - 5ms/step\n",
            "Epoch 3/100\n",
            "173/173 - 1s - loss: 0.2062 - auc: 0.8633 - val_loss: 0.1061 - val_auc: 0.8932 - lr: 0.0010 - 823ms/epoch - 5ms/step\n",
            "Epoch 4/100\n",
            "173/173 - 1s - loss: 0.2038 - auc: 0.8671 - val_loss: 0.1332 - val_auc: 0.8963 - lr: 0.0010 - 787ms/epoch - 5ms/step\n",
            "Epoch 5/100\n",
            "173/173 - 1s - loss: 0.2066 - auc: 0.8626 - val_loss: 0.1191 - val_auc: 0.9058 - lr: 0.0010 - 787ms/epoch - 5ms/step\n",
            "Epoch 6/100\n",
            "173/173 - 1s - loss: 0.2016 - auc: 0.8676 - val_loss: 0.1053 - val_auc: 0.8943 - lr: 0.0010 - 797ms/epoch - 5ms/step\n",
            "Epoch 7/100\n",
            "173/173 - 1s - loss: 0.1986 - auc: 0.8758 - val_loss: 0.0711 - val_auc: 0.8905 - lr: 0.0010 - 807ms/epoch - 5ms/step\n",
            "Epoch 8/100\n",
            "173/173 - 1s - loss: 0.2006 - auc: 0.8718 - val_loss: 0.1244 - val_auc: 0.8858 - lr: 0.0010 - 823ms/epoch - 5ms/step\n",
            "Epoch 9/100\n",
            "173/173 - 1s - loss: 0.1961 - auc: 0.8777 - val_loss: 0.1011 - val_auc: 0.8914 - lr: 1.0000e-04 - 799ms/epoch - 5ms/step\n",
            "Epoch 10/100\n",
            "173/173 - 1s - loss: 0.1955 - auc: 0.8774 - val_loss: 0.0975 - val_auc: 0.8934 - lr: 1.0000e-04 - 804ms/epoch - 5ms/step\n",
            "Epoch 11/100\n",
            "173/173 - 1s - loss: 0.1942 - auc: 0.8787 - val_loss: 0.0917 - val_auc: 0.8959 - lr: 1.0000e-04 - 842ms/epoch - 5ms/step\n",
            "Epoch 12/100\n",
            "173/173 - 1s - loss: 0.1923 - auc: 0.8830 - val_loss: 0.0928 - val_auc: 0.8959 - lr: 1.0000e-05 - 826ms/epoch - 5ms/step\n",
            "Epoch 13/100\n",
            "173/173 - 1s - loss: 0.1924 - auc: 0.8813 - val_loss: 0.0937 - val_auc: 0.8962 - lr: 1.0000e-05 - 810ms/epoch - 5ms/step\n",
            "Epoch 14/100\n",
            "173/173 - 1s - loss: 0.1919 - auc: 0.8821 - val_loss: 0.0943 - val_auc: 0.8968 - lr: 1.0000e-05 - 846ms/epoch - 5ms/step\n",
            "Epoch 15/100\n",
            "173/173 - 1s - loss: 0.1933 - auc: 0.8805 - val_loss: 0.0944 - val_auc: 0.8970 - lr: 1.0000e-06 - 807ms/epoch - 5ms/step\n",
            "Epoch 16/100\n",
            "173/173 - 1s - loss: 0.1928 - auc: 0.8811 - val_loss: 0.0944 - val_auc: 0.8969 - lr: 1.0000e-06 - 829ms/epoch - 5ms/step\n",
            "Epoch 17/100\n",
            "173/173 - 1s - loss: 0.1935 - auc: 0.8807 - val_loss: 0.0945 - val_auc: 0.8972 - lr: 1.0000e-06 - 827ms/epoch - 5ms/step\n",
            "Epoch 18/100\n",
            "173/173 - 1s - loss: 0.1919 - auc: 0.8829 - val_loss: 0.0945 - val_auc: 0.8972 - lr: 1.0000e-07 - 792ms/epoch - 5ms/step\n",
            "Epoch 19/100\n",
            "173/173 - 1s - loss: 0.1929 - auc: 0.8820 - val_loss: 0.0945 - val_auc: 0.8971 - lr: 1.0000e-07 - 789ms/epoch - 5ms/step\n",
            "Epoch 20/100\n",
            "173/173 - 1s - loss: 0.1926 - auc: 0.8826 - val_loss: 0.0945 - val_auc: 0.8971 - lr: 1.0000e-07 - 787ms/epoch - 5ms/step\n",
            "Epoch 21/100\n",
            "173/173 - 1s - loss: 0.1920 - auc: 0.8817 - val_loss: 0.0945 - val_auc: 0.8971 - lr: 1.0000e-08 - 823ms/epoch - 5ms/step\n",
            "Epoch 22/100\n",
            "173/173 - 1s - loss: 0.1919 - auc: 0.8815 - val_loss: 0.0945 - val_auc: 0.8971 - lr: 1.0000e-08 - 794ms/epoch - 5ms/step\n",
            "Epoch 23/100\n",
            "173/173 - 1s - loss: 0.1931 - auc: 0.8819 - val_loss: 0.0945 - val_auc: 0.8971 - lr: 1.0000e-08 - 808ms/epoch - 5ms/step\n",
            "Epoch 24/100\n",
            "173/173 - 1s - loss: 0.1930 - auc: 0.8805 - val_loss: 0.0945 - val_auc: 0.8971 - lr: 1.0000e-08 - 804ms/epoch - 5ms/step\n",
            "Epoch 25/100\n",
            "173/173 - 1s - loss: 0.1945 - auc: 0.8786 - val_loss: 0.0945 - val_auc: 0.8971 - lr: 1.0000e-08 - 793ms/epoch - 5ms/step\n",
            "Epoch 26/100\n",
            "173/173 - 1s - loss: 0.1927 - auc: 0.8804 - val_loss: 0.0945 - val_auc: 0.8971 - lr: 1.0000e-08 - 816ms/epoch - 5ms/step\n",
            "Epoch 27/100\n",
            "173/173 - 1s - loss: 0.1931 - auc: 0.8803 - val_loss: 0.0945 - val_auc: 0.8971 - lr: 1.0000e-08 - 791ms/epoch - 5ms/step\n",
            "Epoch 28/100\n",
            "173/173 - 1s - loss: 0.1891 - auc: 0.8845 - val_loss: 0.0945 - val_auc: 0.8971 - lr: 1.0000e-08 - 848ms/epoch - 5ms/step\n",
            "Epoch 29/100\n",
            "173/173 - 1s - loss: 0.1916 - auc: 0.8831 - val_loss: 0.0945 - val_auc: 0.8971 - lr: 1.0000e-08 - 827ms/epoch - 5ms/step\n",
            "Epoch 30/100\n",
            "173/173 - 1s - loss: 0.1923 - auc: 0.8825 - val_loss: 0.0945 - val_auc: 0.8971 - lr: 1.0000e-08 - 828ms/epoch - 5ms/step\n",
            "Epoch 31/100\n",
            "173/173 - 1s - loss: 0.1937 - auc: 0.8798 - val_loss: 0.0945 - val_auc: 0.8971 - lr: 1.0000e-08 - 843ms/epoch - 5ms/step\n",
            "Epoch 32/100\n",
            "173/173 - 1s - loss: 0.1938 - auc: 0.8807 - val_loss: 0.0945 - val_auc: 0.8971 - lr: 1.0000e-08 - 780ms/epoch - 5ms/step\n",
            "Epoch 33/100\n",
            "173/173 - 1s - loss: 0.1912 - auc: 0.8826 - val_loss: 0.0945 - val_auc: 0.8971 - lr: 1.0000e-08 - 816ms/epoch - 5ms/step\n",
            "Epoch 34/100\n",
            "173/173 - 1s - loss: 0.1928 - auc: 0.8814 - val_loss: 0.0945 - val_auc: 0.8971 - lr: 1.0000e-08 - 1s/epoch - 7ms/step\n",
            "Epoch 35/100\n",
            "173/173 - 1s - loss: 0.1912 - auc: 0.8836 - val_loss: 0.0945 - val_auc: 0.8971 - lr: 1.0000e-08 - 1s/epoch - 6ms/step\n"
          ]
        }
      ],
      "source": [
        "plat = tf.keras.callbacks.ReduceLROnPlateau(\n",
        "        monitor=\"val_auc\", \n",
        "        mode='max', \n",
        "        patience=3, \n",
        "        factor=0.1, \n",
        "        min_lr=1e-8, \n",
        "        min_delta=0.000001)\n",
        "\n",
        "\n",
        "\n",
        "history_2 = model_2.fit(X_train_normalized, y_train, \n",
        "                        \n",
        "                    class_weight=class_weights,\n",
        "\n",
        "                    batch_size = 64,\n",
        "\n",
        "                    validation_split = 0.1, \n",
        "\n",
        "                    epochs = 100, \n",
        "\n",
        "                    verbose = 2,\n",
        "\n",
        "                    callbacks=[early_stopping, plat],\n",
        "                    \n",
        "                    use_multiprocessing = True)"
      ]
    },
    {
      "cell_type": "code",
      "execution_count": 101,
      "metadata": {
        "colab": {
          "base_uri": "https://localhost:8080/",
          "height": 294
        },
        "id": "i96cw1viV9om",
        "outputId": "12112f1d-0e52-4ad5-e3a5-7ccce42ab5ce",
        "pycharm": {
          "name": "#%%\n"
        }
      },
      "outputs": [
        {
          "output_type": "display_data",
          "data": {
            "text/plain": [
              "<Figure size 432x288 with 1 Axes>"
            ],
            "image/png": "[encoded data removed]"
          },
          "metadata": {
            "needs_background": "light"
          }
        }
      ],
      "source": [
        "plt.plot(history_2.history['auc'])\n",
        "\n",
        "plt.plot(history_2.history['val_auc'])\n",
        "\n",
        "plt.title('AUC vs Epochs')\n",
        "\n",
        "plt.ylabel('AUC')\n",
        "\n",
        "plt.xlabel('Epoch')\n",
        "\n",
        "plt.legend(['Train', 'Validation'], loc = 'lower right')\n",
        "\n",
        "plt.show()"
      ]
    },
    {
      "cell_type": "code",
      "source": [
        "test_pred = model_2.predict(X_test)\n",
        "\n",
        "test_pred = (np.rint(test_pred)).astype(int)\n",
        "\n",
        "roc_auc_score(y_test, test_pred)"
      ],
      "metadata": {
        "colab": {
          "base_uri": "https://localhost:8080/"
        },
        "id": "8770HgJe1IUn",
        "outputId": "83b8069a-eecd-48cf-c666-d6ce98da9a3a"
      },
      "execution_count": 32,
      "outputs": [
        {
          "output_type": "stream",
          "name": "stdout",
          "text": [
            "96/96 [==============================] - 0s 1ms/step\n"
          ]
        },
        {
          "output_type": "execute_result",
          "data": {
            "text/plain": [
              "0.7916450148282288"
            ]
          },
          "metadata": {},
          "execution_count": 32
        }
      ]
    },
    {
      "cell_type": "markdown",
      "metadata": {
        "id": "Iu0UbJjKAi8z",
        "pycharm": {
          "name": "#%% md\n"
        }
      },
      "source": [
        "**Observations:** \n",
        "\n",
        "- The test AUC has increased to 79%.\n",
        "- The validation accuracy is higher than the training accuracy. This might be due to the small size of the validation set and the model can correctly classify the data points in the validation set."
      ]
    },
    {
      "cell_type": "markdown",
      "metadata": {
        "id": "TLXYwazvu0jQ",
        "pycharm": {
          "name": "#%% md\n"
        }
      },
      "source": [
        "Let's try to further tune some of the hyper-parameters and check if we can improve the model performance.\n",
        "\n",
        "We will use learning_rate = 0.001 for the optimizer in the training process and increase the model complexity by further increasing the number of layers, the number of nodes in each layer, and the epochs."
      ]
    },
    {
      "cell_type": "code",
      "execution_count": 93,
      "metadata": {
        "id": "N7aNw91z_wgD",
        "pycharm": {
          "name": "#%%\n"
        }
      },
      "outputs": [],
      "source": [
        "# Clearing the backend\n",
        "from tensorflow.keras import backend\n",
        "\n",
        "backend.clear_session()"
      ]
    },
    {
      "cell_type": "code",
      "execution_count": 92,
      "metadata": {
        "id": "1HMdf0uSO3uw",
        "pycharm": {
          "name": "#%%\n"
        }
      },
      "outputs": [],
      "source": [
        "# Fixing the seed for random number generators\n",
        "np.random.seed(42)\n",
        "\n",
        "import random\n",
        "\n",
        "random.seed(42)\n",
        "\n",
        "tf.random.set_seed(42)\n",
        "del model_3"
      ]
    },
    {
      "cell_type": "code",
      "execution_count": 95,
      "metadata": {
        "id": "xRpBpRf_vXJO",
        "pycharm": {
          "name": "#%%\n"
        }
      },
      "outputs": [],
      "source": [
        "\n",
        "# We will be adding the layers sequentially\n",
        "model_3 = Sequential()\n",
        "\n",
        "# Input layer with 64 neurons and elu activation function, the input_shape tuple denotes number of independent variables\n",
        "model_3.add(Dense(64, activation = 'elu', input_shape = (21, )))\n",
        "\n",
        "model_3.add(Dropout(0.15))\n",
        "\n",
        "# Hidden layer with 32 neurons and elu activation function\n",
        "model_3.add(Dense(64, activation = 'elu'))\n",
        "model_3.add(Dropout(0.15))\n",
        "\n",
        "# Hidden layer with 32 neurons and elu activation function\n",
        "model_3.add(Dense(32, activation = 'elu'))\n",
        "model_3.add(Dropout(0.15))\n",
        "\n",
        "# Output layer with only one neuron and sigmoid as activation function which will give the probability of a patient having a stroke  \n",
        "model_3.add(Dense(1, activation = 'sigmoid'))"
      ]
    },
    {
      "cell_type": "code",
      "execution_count": 96,
      "metadata": {
        "colab": {
          "base_uri": "https://localhost:8080/"
        },
        "id": "_kUFccLDy48t",
        "outputId": "bd4f4317-f79d-4086-9471-11933f086ef5",
        "pycharm": {
          "name": "#%%\n"
        }
      },
      "outputs": [
        {
          "output_type": "stream",
          "name": "stdout",
          "text": [
            "Model: \"sequential_1\"\n",
            "_________________________________________________________________\n",
            " Layer (type)                Output Shape              Param #   \n",
            "=================================================================\n",
            " dense_1 (Dense)             (None, 64)                1408      \n",
            "                                                                 \n",
            " dropout (Dropout)           (None, 64)                0         \n",
            "                                                                 \n",
            " dense_2 (Dense)             (None, 64)                4160      \n",
            "                                                                 \n",
            " dropout_1 (Dropout)         (None, 64)                0         \n",
            "                                                                 \n",
            " dense_3 (Dense)             (None, 32)                2080      \n",
            "                                                                 \n",
            " dropout_2 (Dropout)         (None, 32)                0         \n",
            "                                                                 \n",
            " dense_4 (Dense)             (None, 1)                 33        \n",
            "                                                                 \n",
            "=================================================================\n",
            "Total params: 7,681\n",
            "Trainable params: 7,681\n",
            "Non-trainable params: 0\n",
            "_________________________________________________________________\n"
          ]
        }
      ],
      "source": [
        "optimizer = tfa.optimizers.RectifiedAdam(lr=0.01)\n",
        "model_3.compile(loss = tf.keras.losses.BinaryFocalCrossentropy(), optimizer = optimizer, metrics = ['AUC'])\n",
        "\n",
        "model_3.summary()"
      ]
    },
    {
      "cell_type": "markdown",
      "metadata": {
        "id": "8LBADqBprJ7J",
        "pycharm": {
          "name": "#%% md\n"
        }
      },
      "source": [
        "- Notice that the number of trainable parameters has increased substantially in comparison to previous models."
      ]
    },
    {
      "cell_type": "code",
      "execution_count": 97,
      "metadata": {
        "colab": {
          "base_uri": "https://localhost:8080/"
        },
        "id": "OLN7jZWmy_fb",
        "outputId": "19a76e84-30f3-452e-9063-71ad11f35d38",
        "pycharm": {
          "name": "#%%\n"
        }
      },
      "outputs": [
        {
          "output_type": "stream",
          "name": "stdout",
          "text": [
            "Epoch 1/100\n",
            "163/163 - 2s - loss: 0.2645 - auc: 0.7465 - val_loss: 0.1343 - val_auc: 0.8372 - lr: 0.0100 - 2s/epoch - 14ms/step\n",
            "Epoch 2/100\n",
            "163/163 - 1s - loss: 0.2325 - auc: 0.8227 - val_loss: 0.1687 - val_auc: 0.8687 - lr: 0.0100 - 865ms/epoch - 5ms/step\n",
            "Epoch 3/100\n",
            "163/163 - 1s - loss: 0.2249 - auc: 0.8351 - val_loss: 0.0879 - val_auc: 0.8737 - lr: 0.0100 - 865ms/epoch - 5ms/step\n",
            "Epoch 4/100\n",
            "163/163 - 1s - loss: 0.2121 - auc: 0.8498 - val_loss: 0.0804 - val_auc: 0.8842 - lr: 0.0100 - 851ms/epoch - 5ms/step\n",
            "Epoch 5/100\n",
            "163/163 - 1s - loss: 0.2183 - auc: 0.8449 - val_loss: 0.1326 - val_auc: 0.8710 - lr: 0.0100 - 799ms/epoch - 5ms/step\n",
            "Epoch 6/100\n",
            "163/163 - 1s - loss: 0.2143 - auc: 0.8489 - val_loss: 0.0836 - val_auc: 0.8809 - lr: 0.0100 - 769ms/epoch - 5ms/step\n",
            "Epoch 7/100\n",
            "163/163 - 1s - loss: 0.2109 - auc: 0.8561 - val_loss: 0.0815 - val_auc: 0.8805 - lr: 0.0100 - 802ms/epoch - 5ms/step\n",
            "Epoch 8/100\n",
            "163/163 - 1s - loss: 0.2004 - auc: 0.8680 - val_loss: 0.0922 - val_auc: 0.8834 - lr: 0.0050 - 768ms/epoch - 5ms/step\n",
            "Epoch 9/100\n",
            "163/163 - 1s - loss: 0.2017 - auc: 0.8671 - val_loss: 0.0908 - val_auc: 0.8895 - lr: 0.0050 - 869ms/epoch - 5ms/step\n",
            "Epoch 10/100\n",
            "163/163 - 1s - loss: 0.2011 - auc: 0.8669 - val_loss: 0.1203 - val_auc: 0.8859 - lr: 0.0050 - 798ms/epoch - 5ms/step\n",
            "Epoch 11/100\n",
            "163/163 - 1s - loss: 0.1923 - auc: 0.8811 - val_loss: 0.1294 - val_auc: 0.8886 - lr: 0.0025 - 862ms/epoch - 5ms/step\n",
            "Epoch 12/100\n",
            "163/163 - 1s - loss: 0.1974 - auc: 0.8728 - val_loss: 0.0850 - val_auc: 0.8866 - lr: 0.0025 - 788ms/epoch - 5ms/step\n",
            "Epoch 13/100\n",
            "163/163 - 1s - loss: 0.1946 - auc: 0.8787 - val_loss: 0.1090 - val_auc: 0.8831 - lr: 0.0025 - 797ms/epoch - 5ms/step\n",
            "Epoch 14/100\n",
            "163/163 - 1s - loss: 0.1930 - auc: 0.8811 - val_loss: 0.0962 - val_auc: 0.8862 - lr: 0.0012 - 775ms/epoch - 5ms/step\n",
            "Epoch 15/100\n",
            "163/163 - 1s - loss: 0.1915 - auc: 0.8820 - val_loss: 0.0962 - val_auc: 0.8852 - lr: 0.0012 - 853ms/epoch - 5ms/step\n",
            "Epoch 16/100\n",
            "163/163 - 1s - loss: 0.1913 - auc: 0.8836 - val_loss: 0.1137 - val_auc: 0.8868 - lr: 0.0012 - 774ms/epoch - 5ms/step\n",
            "Epoch 17/100\n",
            "163/163 - 1s - loss: 0.1926 - auc: 0.8804 - val_loss: 0.1043 - val_auc: 0.8873 - lr: 6.2500e-04 - 870ms/epoch - 5ms/step\n",
            "Epoch 18/100\n",
            "163/163 - 1s - loss: 0.1905 - auc: 0.8823 - val_loss: 0.0961 - val_auc: 0.8883 - lr: 6.2500e-04 - 864ms/epoch - 5ms/step\n",
            "Epoch 19/100\n",
            "163/163 - 1s - loss: 0.1898 - auc: 0.8837 - val_loss: 0.1017 - val_auc: 0.8877 - lr: 6.2500e-04 - 870ms/epoch - 5ms/step\n",
            "Epoch 20/100\n",
            "163/163 - 1s - loss: 0.1904 - auc: 0.8821 - val_loss: 0.0972 - val_auc: 0.8878 - lr: 3.1250e-04 - 869ms/epoch - 5ms/step\n",
            "Epoch 21/100\n",
            "163/163 - 1s - loss: 0.1902 - auc: 0.8839 - val_loss: 0.0946 - val_auc: 0.8877 - lr: 3.1250e-04 - 790ms/epoch - 5ms/step\n",
            "Epoch 22/100\n",
            "163/163 - 1s - loss: 0.1883 - auc: 0.8854 - val_loss: 0.0900 - val_auc: 0.8878 - lr: 3.1250e-04 - 880ms/epoch - 5ms/step\n",
            "Epoch 23/100\n",
            "163/163 - 1s - loss: 0.1884 - auc: 0.8842 - val_loss: 0.1010 - val_auc: 0.8878 - lr: 1.5625e-04 - 783ms/epoch - 5ms/step\n",
            "Epoch 24/100\n",
            "163/163 - 1s - loss: 0.1867 - auc: 0.8884 - val_loss: 0.0988 - val_auc: 0.8879 - lr: 1.5625e-04 - 792ms/epoch - 5ms/step\n",
            "Epoch 25/100\n",
            "163/163 - 1s - loss: 0.1861 - auc: 0.8886 - val_loss: 0.0986 - val_auc: 0.8874 - lr: 1.5625e-04 - 786ms/epoch - 5ms/step\n",
            "Epoch 26/100\n",
            "163/163 - 1s - loss: 0.1880 - auc: 0.8860 - val_loss: 0.0963 - val_auc: 0.8877 - lr: 7.8125e-05 - 871ms/epoch - 5ms/step\n",
            "Epoch 27/100\n",
            "163/163 - 1s - loss: 0.1874 - auc: 0.8871 - val_loss: 0.0976 - val_auc: 0.8876 - lr: 7.8125e-05 - 791ms/epoch - 5ms/step\n",
            "Epoch 28/100\n",
            "163/163 - 1s - loss: 0.1879 - auc: 0.8846 - val_loss: 0.0985 - val_auc: 0.8880 - lr: 7.8125e-05 - 838ms/epoch - 5ms/step\n",
            "Epoch 29/100\n",
            "163/163 - 1s - loss: 0.1860 - auc: 0.8882 - val_loss: 0.0992 - val_auc: 0.8878 - lr: 3.9062e-05 - 784ms/epoch - 5ms/step\n",
            "Epoch 30/100\n",
            "163/163 - 1s - loss: 0.1867 - auc: 0.8864 - val_loss: 0.0988 - val_auc: 0.8875 - lr: 3.9062e-05 - 869ms/epoch - 5ms/step\n",
            "Epoch 31/100\n",
            "163/163 - 1s - loss: 0.1894 - auc: 0.8842 - val_loss: 0.0990 - val_auc: 0.8876 - lr: 3.9062e-05 - 782ms/epoch - 5ms/step\n",
            "Epoch 32/100\n",
            "163/163 - 1s - loss: 0.1871 - auc: 0.8853 - val_loss: 0.0989 - val_auc: 0.8877 - lr: 1.9531e-05 - 841ms/epoch - 5ms/step\n",
            "Epoch 33/100\n",
            "163/163 - 1s - loss: 0.1876 - auc: 0.8863 - val_loss: 0.0990 - val_auc: 0.8878 - lr: 1.9531e-05 - 854ms/epoch - 5ms/step\n",
            "Epoch 34/100\n",
            "163/163 - 1s - loss: 0.1869 - auc: 0.8874 - val_loss: 0.0986 - val_auc: 0.8875 - lr: 1.9531e-05 - 883ms/epoch - 5ms/step\n",
            "Epoch 35/100\n",
            "163/163 - 1s - loss: 0.1861 - auc: 0.8879 - val_loss: 0.0984 - val_auc: 0.8876 - lr: 9.7656e-06 - 851ms/epoch - 5ms/step\n",
            "Epoch 36/100\n",
            "163/163 - 1s - loss: 0.1867 - auc: 0.8872 - val_loss: 0.0987 - val_auc: 0.8877 - lr: 9.7656e-06 - 869ms/epoch - 5ms/step\n",
            "Epoch 37/100\n",
            "163/163 - 1s - loss: 0.1858 - auc: 0.8877 - val_loss: 0.0986 - val_auc: 0.8877 - lr: 9.7656e-06 - 862ms/epoch - 5ms/step\n",
            "Epoch 38/100\n",
            "163/163 - 1s - loss: 0.1873 - auc: 0.8863 - val_loss: 0.0985 - val_auc: 0.8878 - lr: 4.8828e-06 - 781ms/epoch - 5ms/step\n",
            "Epoch 39/100\n",
            "163/163 - 1s - loss: 0.1862 - auc: 0.8873 - val_loss: 0.0985 - val_auc: 0.8878 - lr: 4.8828e-06 - 765ms/epoch - 5ms/step\n"
          ]
        }
      ],
      "source": [
        "plat = tf.keras.callbacks.ReduceLROnPlateau(\n",
        "        monitor=\"val_auc\", \n",
        "        mode='max', \n",
        "        patience=3, \n",
        "        factor=0.5, \n",
        "        min_lr=1e-8, \n",
        "        min_delta=0.01)\n",
        "\n",
        "early_stopping = tf.keras.callbacks.EarlyStopping(\n",
        "        monitor=\"val_auc\", \n",
        "        mode='max',\n",
        "        patience=30,\n",
        "        min_delta=0.00001,\n",
        "        restore_best_weights=True,\n",
        ")\n",
        "\n",
        "\n",
        "history_3 = model_3.fit(X_train_normalized, y_train, \n",
        "                        \n",
        "                    class_weight=class_weights,\n",
        "\n",
        "                    batch_size = 64,\n",
        "\n",
        "                    validation_split = 0.15, \n",
        "\n",
        "                    epochs = 100, \n",
        "\n",
        "                    verbose = 2,\n",
        "\n",
        "                    callbacks=[early_stopping, plat],\n",
        "                    \n",
        "                    use_multiprocessing = True)"
      ]
    },
    {
      "cell_type": "code",
      "execution_count": 98,
      "metadata": {
        "colab": {
          "base_uri": "https://localhost:8080/",
          "height": 294
        },
        "id": "zBvMtn6VzFDJ",
        "outputId": "6fe63da3-f45e-4c42-9b6e-4144c1fb759c",
        "pycharm": {
          "name": "#%%\n"
        }
      },
      "outputs": [
        {
          "output_type": "display_data",
          "data": {
            "text/plain": [
              "<Figure size 432x288 with 1 Axes>"
            ],
            "image/png": "[encoded data removed]"
          },
          "metadata": {
            "needs_background": "light"
          }
        }
      ],
      "source": [
        "plt.plot(history_3.history['auc'])\n",
        "\n",
        "plt.plot(history_3.history['val_auc'])\n",
        "\n",
        "plt.title('AUC vs Epochs')\n",
        "\n",
        "plt.ylabel('AUC')\n",
        "\n",
        "plt.xlabel('Epoch')\n",
        "\n",
        "plt.legend(['Train', 'Validation'], loc  = 'lower right')\n",
        "\n",
        "plt.show()"
      ]
    },
    {
      "cell_type": "code",
      "source": [
        "test_pred = model_3.predict(X_test)\n",
        "\n",
        "test_pred = (np.rint(test_pred)).astype(int)\n",
        "\n",
        "roc_auc_score(y_test, test_pred)"
      ],
      "metadata": {
        "colab": {
          "base_uri": "https://localhost:8080/"
        },
        "id": "LYY05_lc5OEW",
        "outputId": "80668734-d818-4c70-b452-7fe4caba314e"
      },
      "execution_count": 102,
      "outputs": [
        {
          "output_type": "stream",
          "name": "stdout",
          "text": [
            "96/96 [==============================] - 0s 2ms/step\n"
          ]
        },
        {
          "output_type": "execute_result",
          "data": {
            "text/plain": [
              "0.8066871374957353"
            ]
          },
          "metadata": {},
          "execution_count": 102
        }
      ]
    },
    {
      "cell_type": "markdown",
      "metadata": {
        "id": "-xfRck7yrbX5",
        "pycharm": {
          "name": "#%% md\n"
        }
      },
      "source": [
        "- This model is giving a generalized performance with 89% AUC on the train as well as validation data.\n",
        "- One reason for the algorithm not being able to reach higher than 89% even for training data might be due to the optimizer being stuck at some local minima.\n",
        "- The test data do show that the model is overfitting.\n",
        "\n",
        "For the sake of time, I'll leave it at this. Time to make a submission!"
      ]
    },
    {
      "cell_type": "code",
      "source": [
        "test = pd.read_csv('/content/test.csv')"
      ],
      "metadata": {
        "id": "rNjS49bu9cJz"
      },
      "execution_count": 118,
      "outputs": []
    },
    {
      "cell_type": "code",
      "source": [
        "ids = test['id']"
      ],
      "metadata": {
        "id": "1lzplyZl_GZQ"
      },
      "execution_count": 119,
      "outputs": []
    },
    {
      "cell_type": "code",
      "source": [
        "test = test.drop(['id'], axis = 1)"
      ],
      "metadata": {
        "id": "8J5kJ_EL9sQ3"
      },
      "execution_count": 111,
      "outputs": []
    },
    {
      "cell_type": "code",
      "source": [
        "one_hot_test = test.copy()\n",
        "s = (test.dtypes == 'object')\n",
        "for ch in list(s[s].index):\n",
        "  one_hot_test = pd.concat([one_hot_test, pd.get_dummies(test[ch], prefix = ch)], axis = 1)\n",
        "  one_hot_test = one_hot_test.drop(columns = ch)"
      ],
      "metadata": {
        "id": "C2aKp1D79x4F"
      },
      "execution_count": 112,
      "outputs": []
    },
    {
      "cell_type": "code",
      "source": [
        "scaler = MinMaxScaler()\n",
        "\n",
        "# Here, we are passing all the features (numerical and categorical), that's okay as min-max scaler will not change values of categorical variables\n",
        "test_normalized = scaler.fit_transform(one_hot_test)"
      ],
      "metadata": {
        "id": "3f7DNcRu-Gvj"
      },
      "execution_count": 113,
      "outputs": []
    },
    {
      "cell_type": "code",
      "source": [
        "preds = model_3.predict(test_normalized)"
      ],
      "metadata": {
        "colab": {
          "base_uri": "https://localhost:8080/"
        },
        "id": "pZqpSWLX-sBF",
        "outputId": "670cf09e-2a1c-4dc7-f48c-c07c95b88be1"
      },
      "execution_count": 115,
      "outputs": [
        {
          "output_type": "stream",
          "name": "stdout",
          "text": [
            "319/319 [==============================] - 0s 1ms/step\n"
          ]
        }
      ]
    },
    {
      "cell_type": "code",
      "source": [
        "preds = pd.DataFrame(preds) \n",
        "out = pd.concat([ids, preds], axis=1)"
      ],
      "metadata": {
        "id": "3FVHpT41-y5_"
      },
      "execution_count": 128,
      "outputs": []
    },
    {
      "cell_type": "code",
      "source": [
        "out = out.rename(columns = {0:'stroke'})"
      ],
      "metadata": {
        "id": "3xv5f37p-8GV"
      },
      "execution_count": 133,
      "outputs": []
    },
    {
      "cell_type": "code",
      "source": [
        "submission = out.to_csv('submission.csv')"
      ],
      "metadata": {
        "id": "fy0g5Zs__osY"
      },
      "execution_count": 137,
      "outputs": []
    },
    {
      "cell_type": "code",
      "source": [
        "files.download('submission.csv')"
      ],
      "metadata": {
        "colab": {
          "base_uri": "https://localhost:8080/",
          "height": 16
        },
        "id": "PjmFWwHXB-af",
        "outputId": "ad5e14f0-fa73-48c4-ec47-abcc61428123"
      },
      "execution_count": 141,
      "outputs": [
        {
          "output_type": "display_data",
          "data": {
            "text/plain": [
              "<IPython.core.display.Javascript object>"
            ],
            "application/javascript": [
              "\n",
              "    async function download(id, filename, size) {\n",
              "      if (!google.colab.kernel.accessAllowed) {\n",
              "        return;\n",
              "      }\n",
              "      const div = document.createElement('div');\n",
              "      const label = document.createElement('label');\n",
              "      label.textContent = `Downloading \"${filename}\": `;\n",
              "      div.appendChild(label);\n",
              "      const progress = document.createElement('progress');\n",
              "      progress.max = size;\n",
              "      div.appendChild(progress);\n",
              "      document.body.appendChild(div);\n",
              "\n",
              "      const buffers = [];\n",
              "      let downloaded = 0;\n",
              "\n",
              "      const channel = await google.colab.kernel.comms.open(id);\n",
              "      // Send a message to notify the kernel that we're ready.\n",
              "      channel.send({})\n",
              "\n",
              "      for await (const message of channel.messages) {\n",
              "        // Send a message to notify the kernel that we're ready.\n",
              "        channel.send({})\n",
              "        if (message.buffers) {\n",
              "          for (const buffer of message.buffers) {\n",
              "            buffers.push(buffer);\n",
              "            downloaded += buffer.byteLength;\n",
              "            progress.value = downloaded;\n",
              "          }\n",
              "        }\n",
              "      }\n",
              "      const blob = new Blob(buffers, {type: 'application/binary'});\n",
              "      const a = document.createElement('a');\n",
              "      a.href = window.URL.createObjectURL(blob);\n",
              "      a.download = filename;\n",
              "      div.appendChild(a);\n",
              "      a.click();\n",
              "      div.remove();\n",
              "    }\n",
              "  "
            ]
          },
          "metadata": {}
        },
        {
          "output_type": "display_data",
          "data": {
            "text/plain": [
              "<IPython.core.display.Javascript object>"
            ],
            "application/javascript": [
              "download(\"download_cd324ca2-9a0e-4ed2-b4ee-b3e2220cbb48\", \"submission.csv\", 221060)"
            ]
          },
          "metadata": {}
        }
      ]
    }
  ],
  "metadata": {
    "accelerator": "GPU",
    "colab": {
      "collapsed_sections": [
        "iSpvgJ_ZPP0f",
        "1bVzop-DYYmv"
      ],
      "provenance": []
    },
    "kernelspec": {
      "display_name": "Python 3 (ipykernel)",
      "language": "python",
      "name": "python3"
    },
    "language_info": {
      "codemirror_mode": {
        "name": "ipython",
        "version": 3
      },
      "file_extension": ".py",
      "mimetype": "text/x-python",
      "name": "python",
      "nbconvert_exporter": "python",
      "pygments_lexer": "ipython3",
      "version": "3.9.7"
    },
    "gpuClass": "standard"
  },
  "nbformat": 4,
  "nbformat_minor": 0
}
